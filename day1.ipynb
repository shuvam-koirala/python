{
 "cells": [
  {
   "cell_type": "markdown",
   "metadata": {},
   "source": [
    "# Intro To Python"
   ]
  },
  {
   "cell_type": "markdown",
   "metadata": {},
   "source": [
    "# Input & Output "
   ]
  },
  {
   "cell_type": "markdown",
   "metadata": {},
   "source": [
    "# Python Input"
   ]
  },
  {
   "cell_type": "markdown",
   "metadata": {},
   "source": [
    "We will use input() to get the input from the user"
   ]
  },
  {
   "cell_type": "code",
   "execution_count": 2,
   "metadata": {},
   "outputs": [
    {
     "name": "stdin",
     "output_type": "stream",
     "text": [
      "Enter the name: ram\n"
     ]
    },
    {
     "data": {
      "text/plain": [
       "'ram'"
      ]
     },
     "execution_count": 2,
     "metadata": {},
     "output_type": "execute_result"
    }
   ],
   "source": [
    "## input()\n",
    "input(\"Enter the name:\")"
   ]
  },
  {
   "cell_type": "code",
   "execution_count": 1,
   "metadata": {},
   "outputs": [
    {
     "name": "stdin",
     "output_type": "stream",
     "text": [
      "Enter the number: 50\n"
     ]
    },
    {
     "data": {
      "text/plain": [
       "'50'"
      ]
     },
     "execution_count": 1,
     "metadata": {},
     "output_type": "execute_result"
    }
   ],
   "source": [
    "input(\"Enter the number:\")"
   ]
  },
  {
   "cell_type": "markdown",
   "metadata": {},
   "source": [
    "We don't have to specify the data type. Python  will figures out on it's own"
   ]
  },
  {
   "cell_type": "markdown",
   "metadata": {},
   "source": [
    "# Python Output"
   ]
  },
  {
   "cell_type": "markdown",
   "metadata": {},
   "source": [
    "We will use print() to display the output"
   ]
  },
  {
   "cell_type": "code",
   "execution_count": 2,
   "metadata": {},
   "outputs": [
    {
     "name": "stdout",
     "output_type": "stream",
     "text": [
      "Hello World\n"
     ]
    }
   ],
   "source": [
    "print(\"Hello World\")"
   ]
  },
  {
   "cell_type": "code",
   "execution_count": 5,
   "metadata": {},
   "outputs": [
    {
     "name": "stdout",
     "output_type": "stream",
     "text": [
      "My 'name' is Ram\n"
     ]
    }
   ],
   "source": [
    "print(\"My 'name' is Ram\")"
   ]
  },
  {
   "cell_type": "code",
   "execution_count": 2,
   "metadata": {},
   "outputs": [
    {
     "ename": "SyntaxError",
     "evalue": "EOL while scanning string literal (<ipython-input-2-63053b5aaa83>, line 2)",
     "output_type": "error",
     "traceback": [
      "\u001b[1;36m  File \u001b[1;32m\"<ipython-input-2-63053b5aaa83>\"\u001b[1;36m, line \u001b[1;32m2\u001b[0m\n\u001b[1;33m    print(\"Typing my messages.\u001b[0m\n\u001b[1;37m                              ^\u001b[0m\n\u001b[1;31mSyntaxError\u001b[0m\u001b[1;31m:\u001b[0m EOL while scanning string literal\n"
     ]
    }
   ],
   "source": [
    "## if i like to write in multiple lines of messages using single print statement i will get problem\n",
    "print(\"Typing my messages.\n",
    "      going to next line , now it is not regarded as messages.\")"
   ]
  },
  {
   "cell_type": "code",
   "execution_count": 1,
   "metadata": {},
   "outputs": [
    {
     "name": "stdout",
     "output_type": "stream",
     "text": [
      "Triple quotes helps us to write\n",
      "long sentences.Though you go to next line your message continues.\n",
      "To end the message you have to type Triple quotes\n"
     ]
    }
   ],
   "source": [
    "## here is solution to previous problem\n",
    "print('''Triple quotes helps us to write\n",
    "long sentences.Though you go to next line your message continues.\n",
    "To end the message you have to type Triple quotes''')"
   ]
  },
  {
   "cell_type": "code",
   "execution_count": 3,
   "metadata": {},
   "outputs": [
    {
     "name": "stdout",
     "output_type": "stream",
     "text": [
      "Hello\n",
      "Python\n",
      "Hello '2\" Python\n",
      "Hello \"2' Python\n"
     ]
    }
   ],
   "source": [
    "## Escape Characters\n",
    "print(\"Hello\\nPython\") ## \\n -> prints newline\n",
    "print(\"Hello '2\\\" Python\") ## \\\" ->prints \"\n",
    "print('Hello \"2\\' Python') ## \\' ->prints '"
   ]
  },
  {
   "cell_type": "code",
   "execution_count": 19,
   "metadata": {},
   "outputs": [
    {
     "name": "stdout",
     "output_type": "stream",
     "text": [
      "50 is 50 the number \n"
     ]
    }
   ],
   "source": [
    "num = 50\n",
    "print(\"{} is {} the number \".format(num,num))"
   ]
  },
  {
   "cell_type": "code",
   "execution_count": 22,
   "metadata": {},
   "outputs": [
    {
     "name": "stdout",
     "output_type": "stream",
     "text": [
      "50 is the number\n"
     ]
    }
   ],
   "source": [
    "print(f\"{num} is the number\")"
   ]
  },
  {
   "cell_type": "markdown",
   "metadata": {},
   "source": [
    "# Output format"
   ]
  },
  {
   "cell_type": "markdown",
   "metadata": {},
   "source": [
    "FOR INTERGER AND FLOAT"
   ]
  },
  {
   "cell_type": "code",
   "execution_count": 6,
   "metadata": {},
   "outputs": [
    {
     "name": "stdout",
     "output_type": "stream",
     "text": [
      "The value of a is 2 and The value of b is 1.\n"
     ]
    }
   ],
   "source": [
    "a = 1;b=2 ## we can use multiple statement in single line using semicolon\n",
    "print(\"The value of a is {} and The value of b is {}.\".format(a,b))\n"
   ]
  },
  {
   "cell_type": "code",
   "execution_count": 1,
   "metadata": {},
   "outputs": [
    {
     "name": "stdout",
     "output_type": "stream",
     "text": [
      "1.60\n",
      "1.6\n"
     ]
    }
   ],
   "source": [
    "print ('{0:.2f}'.format(8/5)) ##printing two digits after decimal in floating numbers\n",
    "print(8/5)"
   ]
  },
  {
   "cell_type": "markdown",
   "metadata": {},
   "source": [
    "FOR STRING"
   ]
  },
  {
   "cell_type": "code",
   "execution_count": 12,
   "metadata": {},
   "outputs": [
    {
     "name": "stdout",
     "output_type": "stream",
     "text": [
      "My friend name is Ram Thapa\n",
      "My friend name is Ram Thapa\n"
     ]
    }
   ],
   "source": [
    "first_name = 'Ram'; last_name = 'Thapa'\n",
    "print(f\"My friend name is {first_name} {last_name}\")\n",
    "print(\"My friend name is {} {}\".format(first_name,last_name))"
   ]
  },
  {
   "cell_type": "code",
   "execution_count": 16,
   "metadata": {},
   "outputs": [
    {
     "name": "stdout",
     "output_type": "stream",
     "text": [
      "My friend name is Thapa Ram\n"
     ]
    }
   ],
   "source": [
    "print(\"My friend name is {last_name} {first_name}\".format(first_name='Ram',last_name='Thapa'))"
   ]
  },
  {
   "cell_type": "markdown",
   "metadata": {},
   "source": [
    "# Variable"
   ]
  },
  {
   "cell_type": "markdown",
   "metadata": {},
   "source": [
    "A variable is a empty space where we can store data required for program.\n",
    "\n",
    "We can give any name to variable as we wish. We don't have to declare the type of value.\n",
    "There are some rule to follow before assigning name to variable:  \n",
    "1) It must start with letter or underscore.  \n",
    "2) It can't start with number.  \n",
    "3) Variable name are case sentitive.  \n",
    "4) We can't we reserved Keyword.  \n",
    "\n",
    "There are two types of variable:  \n",
    "1) Local Variable  \n",
    "2) Global Variable  "
   ]
  },
  {
   "cell_type": "markdown",
   "metadata": {},
   "source": [
    "Variable Assignment"
   ]
  },
  {
   "cell_type": "code",
   "execution_count": 21,
   "metadata": {},
   "outputs": [],
   "source": [
    "a = 1\n",
    "b = 2.5\n",
    "c = \"Ram\""
   ]
  },
  {
   "cell_type": "markdown",
   "metadata": {},
   "source": [
    "Multiple Assignment"
   ]
  },
  {
   "cell_type": "code",
   "execution_count": 28,
   "metadata": {},
   "outputs": [
    {
     "name": "stdout",
     "output_type": "stream",
     "text": [
      "\n",
      " 1 \n",
      " 2.5 \n",
      " Ram\n"
     ]
    }
   ],
   "source": [
    "a,b,c = 1,2.5,\"Ram\"\n",
    "print(\"\\n\",a,\"\\n\",b,\"\\n\",c)\n"
   ]
  },
  {
   "cell_type": "code",
   "execution_count": 25,
   "metadata": {},
   "outputs": [
    {
     "name": "stdout",
     "output_type": "stream",
     "text": [
      "['False', 'None', 'True', 'and', 'as', 'assert', 'break', 'class', 'continue', 'def', 'del', 'elif', 'else', 'except', 'finally', 'for', 'from', 'global', 'if', 'import', 'in', 'is', 'lambda', 'nonlocal', 'not', 'or', 'pass', 'raise', 'return', 'try', 'while', 'with', 'yield']\n"
     ]
    }
   ],
   "source": [
    "import keyword  \n",
    "## keywords in python\n",
    "key = keyword.kwlist\n",
    "print(key)"
   ]
  },
  {
   "cell_type": "markdown",
   "metadata": {},
   "source": [
    "Re-declaring variable"
   ]
  },
  {
   "cell_type": "code",
   "execution_count": 1,
   "metadata": {},
   "outputs": [
    {
     "name": "stdout",
     "output_type": "stream",
     "text": [
      "2\n",
      "1\n",
      "Thapa\n"
     ]
    }
   ],
   "source": [
    "## we can assign new value to variable which are previously used .\n",
    "a,b,c = 2,1,\"Thapa\"\n",
    "print(a)\n",
    "print(b)\n",
    "print(c)"
   ]
  },
  {
   "cell_type": "markdown",
   "metadata": {},
   "source": [
    "Deleting variable"
   ]
  },
  {
   "cell_type": "code",
   "execution_count": 2,
   "metadata": {},
   "outputs": [
    {
     "ename": "NameError",
     "evalue": "name 'a' is not defined",
     "output_type": "error",
     "traceback": [
      "\u001b[1;31m---------------------------------------------------------------------------\u001b[0m",
      "\u001b[1;31mNameError\u001b[0m                                 Traceback (most recent call last)",
      "\u001b[1;32m<ipython-input-2-453385227e52>\u001b[0m in \u001b[0;36m<module>\u001b[1;34m\u001b[0m\n\u001b[0;32m      3\u001b[0m \u001b[1;32mdel\u001b[0m \u001b[0mb\u001b[0m\u001b[1;33m\u001b[0m\u001b[1;33m\u001b[0m\u001b[0m\n\u001b[0;32m      4\u001b[0m \u001b[1;32mdel\u001b[0m \u001b[0mc\u001b[0m\u001b[1;33m\u001b[0m\u001b[1;33m\u001b[0m\u001b[0m\n\u001b[1;32m----> 5\u001b[1;33m \u001b[0mprint\u001b[0m\u001b[1;33m(\u001b[0m\u001b[0ma\u001b[0m\u001b[1;33m)\u001b[0m\u001b[1;33m\u001b[0m\u001b[1;33m\u001b[0m\u001b[0m\n\u001b[0m\u001b[0;32m      6\u001b[0m \u001b[0mprint\u001b[0m\u001b[1;33m(\u001b[0m\u001b[0mb\u001b[0m\u001b[1;33m)\u001b[0m\u001b[1;33m\u001b[0m\u001b[1;33m\u001b[0m\u001b[0m\n\u001b[0;32m      7\u001b[0m \u001b[0mprint\u001b[0m\u001b[1;33m(\u001b[0m\u001b[0mc\u001b[0m\u001b[1;33m)\u001b[0m\u001b[1;33m\u001b[0m\u001b[1;33m\u001b[0m\u001b[0m\n",
      "\u001b[1;31mNameError\u001b[0m: name 'a' is not defined"
     ]
    }
   ],
   "source": [
    "## we can delete the variable which we have assigned previously\n",
    "del a\n",
    "del b \n",
    "del c\n",
    "print(a)\n",
    "print(b)\n",
    "print(c)"
   ]
  },
  {
   "cell_type": "markdown",
   "metadata": {},
   "source": [
    "# Data Types In Python"
   ]
  },
  {
   "cell_type": "markdown",
   "metadata": {},
   "source": [
    " A data type or simply type is an attribute of data which tells the compiler or interpreter how the programmer intends to use the data . Every thing in python is an object, data type are classes and the variable are object of these classes."
   ]
  },
  {
   "cell_type": "code",
   "execution_count": 14,
   "metadata": {},
   "outputs": [
    {
     "name": "stdout",
     "output_type": "stream",
     "text": [
      "<class 'int'>\n",
      "<class 'float'>\n",
      "<class 'complex'>\n",
      "<class 'str'>\n"
     ]
    }
   ],
   "source": [
    "a = 2 ## represent the whole number\n",
    "print(type(a))\n",
    "\n",
    "b = 2.5 ## represent the decimal number\n",
    "print(type(b))\n",
    "\n",
    "c = 1+2j  ## you can use j or J suffix to indicate the imaginary part\n",
    "print(type(c))\n",
    "\n",
    "d = \"kathmandu\"\n",
    "print(type(d))"
   ]
  },
  {
   "cell_type": "markdown",
   "metadata": {},
   "source": [
    "# Python String"
   ]
  },
  {
   "cell_type": "markdown",
   "metadata": {},
   "source": [
    "A string is collection of characters.  \n",
    "String are used to represent words or text.  \n",
    "We can use single or double quote to represent the string.  \n",
    "We can use triple quote to represent the multi line strins.\n"
   ]
  },
  {
   "cell_type": "code",
   "execution_count": 15,
   "metadata": {},
   "outputs": [
    {
     "name": "stdout",
     "output_type": "stream",
     "text": [
      "Ram\n",
      "I live in kathmandu.\n",
      " A data type or simply type is an attribute of data which tells the\n",
      "            compiler or interpreter how the programmer intends to use the data.\n"
     ]
    }
   ],
   "source": [
    "name = \"Ram\"\n",
    "data = 'I live in kathmandu.'\n",
    "data1 = ''' A data type or simply type is an attribute of data which tells the\n",
    "            compiler or interpreter how the programmer intends to use the data.'''\n",
    "print(name)\n",
    "print(data)\n",
    "print(data1)"
   ]
  },
  {
   "cell_type": "code",
   "execution_count": 16,
   "metadata": {},
   "outputs": [
    {
     "ename": "SyntaxError",
     "evalue": "invalid syntax (<ipython-input-16-2947eb9d9cdd>, line 1)",
     "output_type": "error",
     "traceback": [
      "\u001b[1;36m  File \u001b[1;32m\"<ipython-input-16-2947eb9d9cdd>\"\u001b[1;36m, line \u001b[1;32m1\u001b[0m\n\u001b[1;33m    data2 = '\"His father's name is Ram\"' ## sometimes it is ambigious to represent the quote inside the string\u001b[0m\n\u001b[1;37m                         ^\u001b[0m\n\u001b[1;31mSyntaxError\u001b[0m\u001b[1;31m:\u001b[0m invalid syntax\n"
     ]
    }
   ],
   "source": [
    "data2 = '\"His father's name is Ram\"' ## sometimes it is ambigious to represent the quote inside the string\n",
    "print(data2)"
   ]
  },
  {
   "cell_type": "code",
   "execution_count": 17,
   "metadata": {},
   "outputs": [
    {
     "name": "stdout",
     "output_type": "stream",
     "text": [
      "\"His father's name is Ram\"\n"
     ]
    }
   ],
   "source": [
    "data3 = '\"His father\\'s name is Ram\"' ## you can use '\\' to escape the quote in string\n",
    "print(data3)"
   ]
  },
  {
   "cell_type": "markdown",
   "metadata": {},
   "source": [
    "\n",
    "# Operation On string"
   ]
  },
  {
   "cell_type": "code",
   "execution_count": 18,
   "metadata": {},
   "outputs": [
    {
     "name": "stdout",
     "output_type": "stream",
     "text": [
      "first_namefirst_namefirst_namelast_name\n"
     ]
    }
   ],
   "source": [
    "## string can be concatenated (glued together) with \"+\" operator and repeated with \"*\" operator\n",
    "\n",
    "var1 = 3 * 'first_name' + 'last_name'\n",
    "print(var1)\n"
   ]
  },
  {
   "cell_type": "markdown",
   "metadata": {},
   "source": [
    "## ACCESSING THE CHARACTER FROM STRING"
   ]
  },
  {
   "cell_type": "code",
   "execution_count": 2,
   "metadata": {},
   "outputs": [
    {
     "name": "stdout",
     "output_type": "stream",
     "text": [
      "I\n",
      ".\n",
      "u\n",
      "I live in kathmandu.\n",
      "live in kathmandu.\n",
      "I liv\n",
      "20\n"
     ]
    },
    {
     "ename": "IndexError",
     "evalue": "string index out of range",
     "output_type": "error",
     "traceback": [
      "\u001b[1;31m---------------------------------------------------------------------------\u001b[0m",
      "\u001b[1;31mIndexError\u001b[0m                                Traceback (most recent call last)",
      "\u001b[1;32m<ipython-input-2-b113f8a41c04>\u001b[0m in \u001b[0;36m<module>\u001b[1;34m\u001b[0m\n\u001b[0;32m     14\u001b[0m \u001b[0mprint\u001b[0m\u001b[1;33m(\u001b[0m\u001b[0mlen\u001b[0m\u001b[1;33m(\u001b[0m\u001b[0mvar2\u001b[0m\u001b[1;33m)\u001b[0m\u001b[1;33m)\u001b[0m \u001b[1;31m## return the length of string\u001b[0m\u001b[1;33m\u001b[0m\u001b[1;33m\u001b[0m\u001b[0m\n\u001b[0;32m     15\u001b[0m \u001b[1;33m\u001b[0m\u001b[0m\n\u001b[1;32m---> 16\u001b[1;33m \u001b[0mprint\u001b[0m\u001b[1;33m(\u001b[0m\u001b[0mvar2\u001b[0m\u001b[1;33m[\u001b[0m\u001b[1;36m40\u001b[0m\u001b[1;33m]\u001b[0m\u001b[1;33m)\u001b[0m \u001b[1;31m## you can't provide index greater than the length of string\u001b[0m\u001b[1;33m\u001b[0m\u001b[1;33m\u001b[0m\u001b[0m\n\u001b[0m\u001b[0;32m     17\u001b[0m \u001b[1;33m\u001b[0m\u001b[0m\n\u001b[0;32m     18\u001b[0m \u001b[0mprint\u001b[0m\u001b[1;33m(\u001b[0m\u001b[0mvar2\u001b[0m\u001b[1;33m[\u001b[0m\u001b[1;36m3.5\u001b[0m\u001b[1;33m]\u001b[0m\u001b[1;33m)\u001b[0m  \u001b[1;31m## index is always an integer\u001b[0m\u001b[1;33m\u001b[0m\u001b[1;33m\u001b[0m\u001b[0m\n",
      "\u001b[1;31mIndexError\u001b[0m: string index out of range"
     ]
    }
   ],
   "source": [
    "var2 = \"I live in kathmandu.\"\n",
    "print(var2[0]) ## indexing start with 0 in python \n",
    "\n",
    "print(var2[-1]) ## -1 index represent last characte\n",
    "\n",
    "print(var2[-2]) ## -2 index represent the  2nd last characcter\n",
    "\n",
    "print(var2[:]) ## :  represent all the characcter of string\n",
    "\n",
    "print(var2[2:])  ## returns the character from 2nd to last\n",
    "\n",
    "print(var2[:5])  ## returns the first five characters\n",
    "\n",
    "print(len(var2)) ## return the length of string\n",
    "\n",
    "print(var2[40]) ## you can't provide index greater than the length of string\n",
    "\n",
    "print(var2[3.5])  ## index is always an integer\n"
   ]
  },
  {
   "cell_type": "code",
   "execution_count": 20,
   "metadata": {},
   "outputs": [],
   "source": [
    "del var2 ## deleting the string"
   ]
  },
  {
   "cell_type": "code",
   "execution_count": 3,
   "metadata": {},
   "outputs": [
    {
     "name": "stdout",
     "output_type": "stream",
     "text": [
      "i live in kathmandu.\n",
      "I LIVE IN KATHMANDU.\n"
     ]
    }
   ],
   "source": [
    "lower_var2 = var2.lower() ## returns the string in lower case\n",
    "print(lower_var2)\n",
    "\n",
    "upper_var = var2.upper()  ## returns the string in upper case\n",
    "print(upper_var)"
   ]
  },
  {
   "cell_type": "code",
   "execution_count": 4,
   "metadata": {},
   "outputs": [
    {
     "name": "stdout",
     "output_type": "stream",
     "text": [
      "2\n",
      "10\n",
      "-1\n",
      "['I', 'live', 'in', 'kathmandu.']\n",
      "['I', 'in', 'kathmandu.', 'live']\n"
     ]
    }
   ],
   "source": [
    "count_var = var2.count('a')  ## returns the number of repetation of given character\n",
    "print(count_var)\n",
    "\n",
    "find_var = var2.find('ka')  ## returns the index of first character\n",
    "print(find_var)\n",
    "\n",
    "find1_var = var2.find('my') ## returns -1 if not match is found\n",
    "print(find1_var)\n",
    "\n",
    "split_var = var2.split() ## divide the string in the form of token\n",
    "print(split_var)\n",
    "\n",
    "split_var.sort()  ## sort the splitted words on the basis of their ASCII vaue\n",
    "print(split_var)"
   ]
  },
  {
   "cell_type": "code",
   "execution_count": 5,
   "metadata": {},
   "outputs": [
    {
     "name": "stdout",
     "output_type": "stream",
     "text": [
      "I live in Bhaktapur.\n"
     ]
    }
   ],
   "source": [
    "var2 = var2.replace('kathmandu','Bhaktapur') ## syntax:- .replace(new_word,old_word),it is a method<br> \n",
    "                                             ##to replace string.  \n",
    "print(var2)\n"
   ]
  },
  {
   "cell_type": "markdown",
   "metadata": {},
   "source": [
    "## CONCATENATION OF STRINGS"
   ]
  },
  {
   "cell_type": "code",
   "execution_count": 6,
   "metadata": {},
   "outputs": [
    {
     "name": "stdout",
     "output_type": "stream",
     "text": [
      "Ram Thapa\n"
     ]
    }
   ],
   "source": [
    "first_name = \"Ram\"\n",
    "last_name = \"Thapa\"\n",
    "\n",
    "name = first_name +\" \"+ last_name ## \"+\" sign is used to concatnate the string\n",
    "\n",
    "print(name)\n"
   ]
  },
  {
   "cell_type": "markdown",
   "metadata": {},
   "source": [
    "## REVERSE THE STRING"
   ]
  },
  {
   "cell_type": "code",
   "execution_count": 7,
   "metadata": {},
   "outputs": [
    {
     "name": "stdout",
     "output_type": "stream",
     "text": [
      ".egaugnal nohtyp ni edoc ot evol I\n"
     ]
    }
   ],
   "source": [
    "## reversed() built_in_function is used to reverse the string\n",
    "\n",
    "sentence = 'I love to code in python language.'\n",
    "reverse_sentence =\"\".join(reversed(sentence))\n",
    "print(reverse_sentence)"
   ]
  },
  {
   "cell_type": "markdown",
   "metadata": {},
   "source": [
    "# Data Structures In Python"
   ]
  },
  {
   "cell_type": "markdown",
   "metadata": {},
   "source": [
    "Data structures are used to store collection of data types together.\n",
    "There are four built-in data structures in python,they are:- list,tuple,dictionary and set.\n",
    "Here,items can be organized in terms of memory and items can be accessed through some defined logic."
   ]
  },
  {
   "cell_type": "markdown",
   "metadata": {},
   "source": [
    "# Python List"
   ]
  },
  {
   "cell_type": "markdown",
   "metadata": {},
   "source": [
    "List is an ordered sequence of items.  \n",
    "Items inside list are separated by comma enclose in [ ] bracket.  \n",
    "List is similar to array in python but much more flexible.  \n",
    "Elements of list can be changed (i.e mutable).  \n",
    "list can contain element of different datatype.\n"
   ]
  },
  {
   "cell_type": "code",
   "execution_count": 28,
   "metadata": {},
   "outputs": [
    {
     "name": "stdout",
     "output_type": "stream",
     "text": [
      "[1, 2, 3, 4]\n",
      "<class 'list'>\n",
      "[1, 2, 3.5, 4.5, 'ram', 'hari']\n"
     ]
    }
   ],
   "source": [
    "## declaring a list \n",
    "\n",
    "data = [1,2,3,4] ## elements are of same data type\n",
    "\n",
    "data1 = [1,2,3.5,4.5,'ram','hari'] ## element are of different data type\n",
    "\n",
    "print(data)\n",
    "\n",
    "print(type(data))\n",
    "\n",
    "print(data1)"
   ]
  },
  {
   "cell_type": "markdown",
   "metadata": {},
   "source": [
    "## ACCESSING THE ELEMENTS OF LIST"
   ]
  },
  {
   "cell_type": "code",
   "execution_count": 29,
   "metadata": {},
   "outputs": [
    {
     "name": "stdout",
     "output_type": "stream",
     "text": [
      "1\n",
      "4\n",
      "3\n",
      "[1, 2, 3, 4]\n",
      "[3, 4]\n",
      "[1, 2, 3, 4]\n",
      "4\n"
     ]
    },
    {
     "ename": "IndexError",
     "evalue": "list index out of range",
     "output_type": "error",
     "traceback": [
      "\u001b[1;31m---------------------------------------------------------------------------\u001b[0m",
      "\u001b[1;31mIndexError\u001b[0m                                Traceback (most recent call last)",
      "\u001b[1;32m<ipython-input-29-ae363dcfda67>\u001b[0m in \u001b[0;36m<module>\u001b[1;34m()\u001b[0m\n\u001b[0;32m     14\u001b[0m \u001b[0mprint\u001b[0m\u001b[1;33m(\u001b[0m\u001b[0mlen\u001b[0m\u001b[1;33m(\u001b[0m\u001b[0mdata\u001b[0m\u001b[1;33m)\u001b[0m\u001b[1;33m)\u001b[0m \u001b[1;31m## return the length of list\u001b[0m\u001b[1;33m\u001b[0m\u001b[0m\n\u001b[0;32m     15\u001b[0m \u001b[1;33m\u001b[0m\u001b[0m\n\u001b[1;32m---> 16\u001b[1;33m \u001b[0mprint\u001b[0m\u001b[1;33m(\u001b[0m\u001b[0mdata\u001b[0m\u001b[1;33m[\u001b[0m\u001b[1;36m40\u001b[0m\u001b[1;33m]\u001b[0m\u001b[1;33m)\u001b[0m \u001b[1;31m## you can't provide index greater than the length of list\u001b[0m\u001b[1;33m\u001b[0m\u001b[0m\n\u001b[0m\u001b[0;32m     17\u001b[0m \u001b[1;33m\u001b[0m\u001b[0m\n\u001b[0;32m     18\u001b[0m \u001b[0mprint\u001b[0m\u001b[1;33m(\u001b[0m\u001b[0mdata\u001b[0m\u001b[1;33m[\u001b[0m\u001b[1;36m3.5\u001b[0m\u001b[1;33m]\u001b[0m\u001b[1;33m)\u001b[0m  \u001b[1;31m## index is always an integer\u001b[0m\u001b[1;33m\u001b[0m\u001b[0m\n",
      "\u001b[1;31mIndexError\u001b[0m: list index out of range"
     ]
    }
   ],
   "source": [
    "\n",
    "print(data[0]) ## indexing start with 0 in python \n",
    "\n",
    "print(data[-1]) ## -1 index represent last element\n",
    "\n",
    "print(data[-2]) ## -2 index represent the  2nd last element\n",
    "\n",
    "print(data[:]) ## :  represent all the element of list\n",
    "\n",
    "print(data[2:])  ## returns the element from 2nd to last\n",
    "\n",
    "print(data[:4])  ## returns the first four element\n",
    "\n",
    "print(len(data)) ## return the length of list\n",
    "\n",
    "print(data[40]) ## you can't provide index greater than the length of list\n",
    "\n",
    "print(data[3.5])  ## index is always an integer\n"
   ]
  },
  {
   "cell_type": "markdown",
   "metadata": {},
   "source": [
    "# Operation on list"
   ]
  },
  {
   "cell_type": "markdown",
   "metadata": {},
   "source": [
    "## LIST APPEND AND EXTEND"
   ]
  },
  {
   "cell_type": "code",
   "execution_count": 30,
   "metadata": {},
   "outputs": [
    {
     "name": "stdout",
     "output_type": "stream",
     "text": [
      "['ram', 'hari', 'krishna', 'manoj']\n"
     ]
    }
   ],
   "source": [
    "## append() is used to insert the element at the last of list\n",
    "\n",
    "lst = ['ram','hari','krishna']\n",
    "\n",
    "lst.append('manoj')\n",
    "\n",
    "print(lst)\n"
   ]
  },
  {
   "cell_type": "code",
   "execution_count": 31,
   "metadata": {},
   "outputs": [
    {
     "name": "stdout",
     "output_type": "stream",
     "text": [
      "['ram', 'hari', 'suman', 'krishna', 'manoj']\n"
     ]
    }
   ],
   "source": [
    "## insert() is used to insert the element at the specified position\n",
    "\n",
    "lst.insert(2,'suman')\n",
    "\n",
    "print(lst)"
   ]
  },
  {
   "cell_type": "code",
   "execution_count": 32,
   "metadata": {},
   "outputs": [
    {
     "name": "stdout",
     "output_type": "stream",
     "text": [
      "['ram', 'hari', 'suman', 'krishna', 'manoj', 'ashok', 'ravi']\n"
     ]
    }
   ],
   "source": [
    "## extend() is to used to extend the list with another list\n",
    "\n",
    "lst1 = ['ashok','ravi']\n",
    "\n",
    "lst.extend(lst1)\n",
    "\n",
    "print(lst)"
   ]
  },
  {
   "cell_type": "code",
   "execution_count": 33,
   "metadata": {},
   "outputs": [
    {
     "name": "stdout",
     "output_type": "stream",
     "text": [
      "[['ashok', 'ravi'], 'ram', 'hari', 'suman', 'krishna', 'manoj', 'ashok', 'ravi']\n"
     ]
    }
   ],
   "source": [
    "## inserting a list inside a list\n",
    "\n",
    "lst.insert(0,lst1) \n",
    "\n",
    "print(lst)"
   ]
  },
  {
   "cell_type": "code",
   "execution_count": 34,
   "metadata": {},
   "outputs": [
    {
     "name": "stdout",
     "output_type": "stream",
     "text": [
      "[['ashok', 'ravi'], 'hari', 'suman', 'krishna', 'manoj', 'ashok', 'ravi']\n"
     ]
    }
   ],
   "source": [
    "## remove() is used to remove the specified element form the list\n",
    "\n",
    "lst.remove('ram')\n",
    "\n",
    "print(lst)"
   ]
  },
  {
   "cell_type": "code",
   "execution_count": 35,
   "metadata": {},
   "outputs": [
    {
     "name": "stdout",
     "output_type": "stream",
     "text": [
      "[['ashok', 'ravi'], 'hari', 'suman', 'krishna', 'manoj', 'ashok']\n"
     ]
    }
   ],
   "source": [
    "## pop() is used to remove the last element from the list\n",
    "\n",
    "lst.pop()\n",
    "\n",
    "print(lst)"
   ]
  },
  {
   "cell_type": "markdown",
   "metadata": {},
   "source": [
    "## REVERSEING A LIST"
   ]
  },
  {
   "cell_type": "code",
   "execution_count": 36,
   "metadata": {},
   "outputs": [
    {
     "name": "stdout",
     "output_type": "stream",
     "text": [
      "[5, 4, 3, 2, 1]\n"
     ]
    }
   ],
   "source": [
    "## reverse() is used to reverse the list\n",
    "\n",
    "lst2 = [1,2,3,4,5]\n",
    "\n",
    "lst2.reverse()\n",
    "\n",
    "print(lst2)"
   ]
  },
  {
   "cell_type": "markdown",
   "metadata": {},
   "source": [
    "## SORTING THE LIST"
   ]
  },
  {
   "cell_type": "code",
   "execution_count": 37,
   "metadata": {},
   "outputs": [
    {
     "name": "stdout",
     "output_type": "stream",
     "text": [
      "[1, 3, 6, 9, 23]\n"
     ]
    }
   ],
   "source": [
    "## sort() is used to sort the list\n",
    "\n",
    "lst3 = [3,6,1,9,23]\n",
    "\n",
    "lst3.sort()\n",
    "\n",
    "print(lst3)"
   ]
  },
  {
   "cell_type": "code",
   "execution_count": 38,
   "metadata": {},
   "outputs": [
    {
     "ename": "TypeError",
     "evalue": "'<' not supported between instances of 'str' and 'int'",
     "output_type": "error",
     "traceback": [
      "\u001b[1;31m---------------------------------------------------------------------------\u001b[0m",
      "\u001b[1;31mTypeError\u001b[0m                                 Traceback (most recent call last)",
      "\u001b[1;32m<ipython-input-38-8f24e722f30b>\u001b[0m in \u001b[0;36m<module>\u001b[1;34m()\u001b[0m\n\u001b[0;32m      1\u001b[0m \u001b[0mlst4\u001b[0m \u001b[1;33m=\u001b[0m \u001b[1;33m[\u001b[0m\u001b[1;36m3\u001b[0m\u001b[1;33m,\u001b[0m\u001b[1;36m5\u001b[0m\u001b[1;33m,\u001b[0m\u001b[1;34m'b'\u001b[0m\u001b[1;33m,\u001b[0m\u001b[1;36m1\u001b[0m\u001b[1;33m,\u001b[0m\u001b[1;34m'c'\u001b[0m\u001b[1;33m]\u001b[0m\u001b[1;33m\u001b[0m\u001b[0m\n\u001b[0;32m      2\u001b[0m \u001b[1;33m\u001b[0m\u001b[0m\n\u001b[1;32m----> 3\u001b[1;33m \u001b[0mlst4\u001b[0m\u001b[1;33m.\u001b[0m\u001b[0msort\u001b[0m\u001b[1;33m(\u001b[0m\u001b[1;33m)\u001b[0m  \u001b[1;31m## the element of list must have same data type inorder to sort them\u001b[0m\u001b[1;33m\u001b[0m\u001b[0m\n\u001b[0m\u001b[0;32m      4\u001b[0m \u001b[1;33m\u001b[0m\u001b[0m\n\u001b[0;32m      5\u001b[0m \u001b[0mprint\u001b[0m\u001b[1;33m(\u001b[0m\u001b[0mlst4\u001b[0m\u001b[1;33m)\u001b[0m\u001b[1;33m\u001b[0m\u001b[0m\n",
      "\u001b[1;31mTypeError\u001b[0m: '<' not supported between instances of 'str' and 'int'"
     ]
    }
   ],
   "source": [
    "lst4 = [3,5,'b',1,'c']\n",
    "    \n",
    "lst4.sort()  ## the element of list must have same data type inorder to sort them\n",
    "\n",
    "print(lst4)"
   ]
  },
  {
   "cell_type": "code",
   "execution_count": 39,
   "metadata": {},
   "outputs": [
    {
     "name": "stdout",
     "output_type": "stream",
     "text": [
      "41\n",
      "2\n",
      "13\n"
     ]
    }
   ],
   "source": [
    "## sum() , min() and max() to find the sum , minimum and maximum value of list\n",
    "\n",
    "lst5 = [3,9,2,6,8,13]\n",
    "\n",
    "print(sum(lst5))\n",
    "\n",
    "print(min(lst5))\n",
    "\n",
    "print(max(lst5))"
   ]
  },
  {
   "cell_type": "code",
   "execution_count": 40,
   "metadata": {},
   "outputs": [
    {
     "name": "stdout",
     "output_type": "stream",
     "text": [
      "3\n"
     ]
    }
   ],
   "source": [
    "## count() is used to indicate the frequency of given element\n",
    "\n",
    "lst6 = [1,5,3,1,5,1]\n",
    "\n",
    "print(lst6.count(1))"
   ]
  },
  {
   "cell_type": "code",
   "execution_count": 41,
   "metadata": {},
   "outputs": [
    {
     "name": "stdout",
     "output_type": "stream",
     "text": [
      "[1, 2, 3, 4, 5, 6]\n"
     ]
    }
   ],
   "source": [
    "## we can concatenate two list using '+'\n",
    "\n",
    "lst7 = [1,2,3]\n",
    "lst8 = [4,5,6]\n",
    "\n",
    "lst9 = lst7 + lst8\n",
    "\n",
    "print(lst9)"
   ]
  },
  {
   "cell_type": "markdown",
   "metadata": {},
   "source": [
    "# Python Tuple"
   ]
  },
  {
   "cell_type": "markdown",
   "metadata": {},
   "source": [
    "Tuple is an ordered sequence of items as list.  \n",
    "Items inside tuple are separated by comma enclose in ( ) bracket.  \n",
    "Elements of tuple can't be changed (i.e immutable).  \n",
    "Tuple can contain element of different datatype as in list."
   ]
  },
  {
   "cell_type": "markdown",
   "metadata": {},
   "source": [
    "NOTE:- THE OPERATION PERFORMED ON TUPLE IS SIMILAR TO LIST BUT THE FUNDAMENTAL  \n",
    "       DIFFERENCE IS THAT WE CAN'T CHANGE THE ELEMENT OF TUPLE."
   ]
  },
  {
   "cell_type": "markdown",
   "metadata": {},
   "source": [
    "The element of first index is changed"
   ]
  },
  {
   "cell_type": "code",
   "execution_count": 23,
   "metadata": {},
   "outputs": [
    {
     "name": "stdout",
     "output_type": "stream",
     "text": [
      "<class 'tuple'>\n",
      "5\n"
     ]
    },
    {
     "ename": "TypeError",
     "evalue": "'tuple' object does not support item assignment",
     "output_type": "error",
     "traceback": [
      "\u001b[1;31m---------------------------------------------------------------------------\u001b[0m",
      "\u001b[1;31mTypeError\u001b[0m                                 Traceback (most recent call last)",
      "\u001b[1;32m<ipython-input-23-96b790479e19>\u001b[0m in \u001b[0;36m<module>\u001b[1;34m\u001b[0m\n\u001b[0;32m      3\u001b[0m \u001b[0mprint\u001b[0m\u001b[1;33m(\u001b[0m\u001b[0mtype\u001b[0m\u001b[1;33m(\u001b[0m\u001b[0mtup\u001b[0m\u001b[1;33m)\u001b[0m\u001b[1;33m)\u001b[0m\u001b[1;33m\u001b[0m\u001b[1;33m\u001b[0m\u001b[0m\n\u001b[0;32m      4\u001b[0m \u001b[0mprint\u001b[0m\u001b[1;33m(\u001b[0m\u001b[0mtup\u001b[0m\u001b[1;33m[\u001b[0m\u001b[1;36m4\u001b[0m\u001b[1;33m]\u001b[0m\u001b[1;33m)\u001b[0m\u001b[1;33m\u001b[0m\u001b[1;33m\u001b[0m\u001b[0m\n\u001b[1;32m----> 5\u001b[1;33m \u001b[0mtup\u001b[0m\u001b[1;33m[\u001b[0m\u001b[1;36m0\u001b[0m\u001b[1;33m]\u001b[0m \u001b[1;33m=\u001b[0m \u001b[1;36m9\u001b[0m\u001b[1;33m\u001b[0m\u001b[1;33m\u001b[0m\u001b[0m\n\u001b[0m",
      "\u001b[1;31mTypeError\u001b[0m: 'tuple' object does not support item assignment"
     ]
    }
   ],
   "source": [
    "tup = (1,2,3,4,5)\n",
    "\n",
    "print(type(tup))\n",
    "print(tup[4])\n",
    "tup[0] = 9"
   ]
  },
  {
   "cell_type": "markdown",
   "metadata": {},
   "source": [
    "It display an error message while changing the element of tuple"
   ]
  },
  {
   "cell_type": "markdown",
   "metadata": {},
   "source": [
    "# Advantages of Tuple"
   ]
  },
  {
   "cell_type": "markdown",
   "metadata": {},
   "source": [
    "1) Iteration in a tuple is faster as compared to lists since tuples in Python are immutable.  \n",
    "2) Tuples are generally used for different Python Data Types; whereas, lists are used for similar data types.  \n",
    "3) Whenever, we need to make sure that the data remains unchanged and write protected,  \n",
    "Python tuple is the best option.  "
   ]
  },
  {
   "cell_type": "markdown",
   "metadata": {},
   "source": [
    "# Python Set"
   ]
  },
  {
   "cell_type": "markdown",
   "metadata": {},
   "source": [
    "A set is unordered collecction of items.  \n",
    "It doesn't contain the duplicate value.  \n",
    "It is mutable.  \n",
    "We can perform the mathematical operation like intersection ,union ,difference , etc.  \n",
    "It is enclosed by { } bracket.  "
   ]
  },
  {
   "cell_type": "code",
   "execution_count": 55,
   "metadata": {},
   "outputs": [
    {
     "name": "stdout",
     "output_type": "stream",
     "text": [
      "{'three', 'one', 'two'}\n",
      "{1, 2, 3, 'five', 'one'}\n",
      "<class 'set'>\n"
     ]
    }
   ],
   "source": [
    "## delcaring a set \n",
    "\n",
    "number = {'one','three','two','one'}  ## doesn't keep duplicate value\n",
    "\n",
    "number1 = {1,2,3,'one','five'}\n",
    "\n",
    "print(number)\n",
    "\n",
    "print(number1)\n",
    "\n",
    "print(type(number))"
   ]
  },
  {
   "cell_type": "code",
   "execution_count": 51,
   "metadata": {},
   "outputs": [
    {
     "ename": "TypeError",
     "evalue": "'set' object is not subscriptable",
     "output_type": "error",
     "traceback": [
      "\u001b[1;31m---------------------------------------------------------------------------\u001b[0m",
      "\u001b[1;31mTypeError\u001b[0m                                 Traceback (most recent call last)",
      "\u001b[1;32m<ipython-input-51-6cf2f6545fb9>\u001b[0m in \u001b[0;36m<module>\u001b[1;34m\u001b[0m\n\u001b[0;32m      1\u001b[0m \u001b[1;31m## we can't access the element of set using index\u001b[0m\u001b[1;33m\u001b[0m\u001b[1;33m\u001b[0m\u001b[1;33m\u001b[0m\u001b[0m\n\u001b[0;32m      2\u001b[0m \u001b[1;33m\u001b[0m\u001b[0m\n\u001b[1;32m----> 3\u001b[1;33m \u001b[0mnumber\u001b[0m\u001b[1;33m[\u001b[0m\u001b[1;36m1\u001b[0m\u001b[1;33m]\u001b[0m\u001b[1;33m\u001b[0m\u001b[1;33m\u001b[0m\u001b[0m\n\u001b[0m",
      "\u001b[1;31mTypeError\u001b[0m: 'set' object is not subscriptable"
     ]
    }
   ],
   "source": [
    "## we can't access the element of set using index\n",
    "\n",
    "number[1]"
   ]
  },
  {
   "cell_type": "code",
   "execution_count": 56,
   "metadata": {},
   "outputs": [
    {
     "name": "stdout",
     "output_type": "stream",
     "text": [
      "{'six', 'three', 'one', 'two'}\n",
      "{'three', 'eight', 'six', 'seven', 'one', 'two'}\n"
     ]
    }
   ],
   "source": [
    "## we use add() to insert an element and updata() to insert multiple element by passing a list of number\n",
    "\n",
    "number.add('six')\n",
    "\n",
    "print(number)\n",
    "\n",
    "number.update(['seven','eight'])\n",
    "\n",
    "print(number)"
   ]
  },
  {
   "cell_type": "markdown",
   "metadata": {},
   "source": [
    "## REMOVING ELEMENT FROM THE SET"
   ]
  },
  {
   "cell_type": "code",
   "execution_count": 57,
   "metadata": {},
   "outputs": [
    {
     "name": "stdout",
     "output_type": "stream",
     "text": [
      "{'three', 'eight', 'six', 'seven', 'two'}\n",
      "{'three', 'eight', 'six', 'seven'}\n",
      "{'eight', 'six', 'seven'}\n"
     ]
    }
   ],
   "source": [
    "## we can use remove(), pop(), discard(), clear() to delete element from set\n",
    "\n",
    "number.remove('one')  ## delete the specified element\n",
    "\n",
    "print(number)\n",
    "\n",
    "number.discard('two')\n",
    "\n",
    "print(number)  ## delete the specified element\n",
    "\n",
    "number.pop()  ## delete the random element from the set\n",
    "\n",
    "print(number)\n"
   ]
  },
  {
   "cell_type": "code",
   "execution_count": 50,
   "metadata": {},
   "outputs": [
    {
     "name": "stdout",
     "output_type": "stream",
     "text": [
      "set()\n"
     ]
    }
   ],
   "source": [
    "number.clear()  ## remove all the element from set\n",
    "\n",
    "print(number)"
   ]
  },
  {
   "cell_type": "markdown",
   "metadata": {},
   "source": [
    "# Set Operation"
   ]
  },
  {
   "cell_type": "code",
   "execution_count": 51,
   "metadata": {},
   "outputs": [
    {
     "name": "stdout",
     "output_type": "stream",
     "text": [
      "{1, 2, 4, 5, 7, 8, 9}\n",
      "{1, 2, 4, 5, 7, 8, 9}\n"
     ]
    }
   ],
   "source": [
    "## Union of two set\n",
    "## we can use \"|\" to find union or .union(\"set\")\n",
    "set1 = {1,2,4,5,7}\n",
    "set2 = {1,8,4,9}\n",
    "\n",
    "print(set1 | set2)\n",
    "\n",
    "print(set1.union(set2))"
   ]
  },
  {
   "cell_type": "code",
   "execution_count": 52,
   "metadata": {},
   "outputs": [
    {
     "name": "stdout",
     "output_type": "stream",
     "text": [
      "{1, 4}\n",
      "{1, 4}\n"
     ]
    }
   ],
   "source": [
    "## intersection of two set\n",
    "## we can use \"&\" to find union or .intersection(\"set\")\n",
    "\n",
    "set1 = {1,2,4,5,7}\n",
    "set2 = {1,8,4,9}\n",
    "\n",
    "print(set1 & set2)\n",
    "\n",
    "print(set1.intersection(set2))"
   ]
  },
  {
   "cell_type": "code",
   "execution_count": 53,
   "metadata": {},
   "outputs": [
    {
     "name": "stdout",
     "output_type": "stream",
     "text": [
      "{2, 5, 7}\n",
      "{2, 5, 7}\n"
     ]
    }
   ],
   "source": [
    "## difference of two set\n",
    "## we can use \"-\" to find union or .difference(\"set\")\n",
    "\n",
    "set1 = {1,2,4,5,7}\n",
    "set2 = {1,8,4,9}\n",
    "\n",
    "print(set1 - set2)\n",
    "\n",
    "print(set1.difference(set2))"
   ]
  },
  {
   "cell_type": "code",
   "execution_count": 54,
   "metadata": {},
   "outputs": [
    {
     "name": "stdout",
     "output_type": "stream",
     "text": [
      "False\n"
     ]
    }
   ],
   "source": [
    "## finding the subet of set\n",
    "## we use .issubset('set') to check wheather a set is subset of another set\n",
    "\n",
    "set1 = {1,2,4,5,7}\n",
    "set2 = {1,8,4,9}\n",
    "\n",
    "print(set1.issubset(set2))\n",
    "\n"
   ]
  },
  {
   "cell_type": "code",
   "execution_count": 55,
   "metadata": {},
   "outputs": [
    {
     "name": "stdout",
     "output_type": "stream",
     "text": [
      "True\n",
      "False\n"
     ]
    }
   ],
   "source": [
    "set1 = {1,2,5,7}\n",
    "set2 = {1,8,4,9,2,5,7}\n",
    "\n",
    "print(set1.issubset(set2))\n",
    "\n",
    "print(set2.issubset(set1))\n"
   ]
  },
  {
   "cell_type": "markdown",
   "metadata": {},
   "source": [
    "# Python Dictionary"
   ]
  },
  {
   "cell_type": "markdown",
   "metadata": {},
   "source": [
    "A dictionary  is unordered collecction of items.  \n",
    "It contain key and value. Key must be unique. Value can be any datatype.    \n",
    "It is initialized as {'key':value }.    "
   ]
  },
  {
   "cell_type": "markdown",
   "metadata": {},
   "source": [
    "## CREATING A DICTIONARY"
   ]
  },
  {
   "cell_type": "code",
   "execution_count": 56,
   "metadata": {},
   "outputs": [
    {
     "name": "stdout",
     "output_type": "stream",
     "text": [
      "{1: 'abc', 2: 'xyz'}\n",
      "{'name': 'ram', 1: ['abc', 'xyz']}\n",
      "{1: 'abc', 2: 'xyz'}\n"
     ]
    }
   ],
   "source": [
    "#empty dictionary\n",
    "my_dict = {}\n",
    "\n",
    "#dictionary with integer keys\n",
    "my_dict = {1: 'abc', 2: 'xyz'}\n",
    "print(my_dict)\n",
    "\n",
    "#dictionary with mixed keys\n",
    "my_dict = {'name': 'ram', 1: ['abc', 'xyz']}\n",
    "print(my_dict)\n",
    "\n",
    "\n",
    "#create empty dictionary using dict()\n",
    "my_dict = dict()\n",
    "\n",
    "my_dict = dict([(1, 'abc'), (2, 'xyz')])    #create a dict with list of tuples\n",
    "print(my_dict)"
   ]
  },
  {
   "cell_type": "markdown",
   "metadata": {},
   "source": [
    "## ACCESSING THE VALUE FROM DICT"
   ]
  },
  {
   "cell_type": "code",
   "execution_count": 57,
   "metadata": {},
   "outputs": [
    {
     "name": "stdout",
     "output_type": "stream",
     "text": [
      "ram\n",
      "ram\n"
     ]
    },
    {
     "ename": "KeyError",
     "evalue": "4",
     "output_type": "error",
     "traceback": [
      "\u001b[1;31m---------------------------------------------------------------------------\u001b[0m",
      "\u001b[1;31mKeyError\u001b[0m                                  Traceback (most recent call last)",
      "\u001b[1;32m<ipython-input-57-f8922371d8c3>\u001b[0m in \u001b[0;36m<module>\u001b[1;34m()\u001b[0m\n\u001b[0;32m      7\u001b[0m \u001b[0mprint\u001b[0m\u001b[1;33m(\u001b[0m\u001b[0mdict\u001b[0m\u001b[1;33m.\u001b[0m\u001b[0mget\u001b[0m\u001b[1;33m(\u001b[0m\u001b[1;36m1\u001b[0m\u001b[1;33m)\u001b[0m\u001b[1;33m)\u001b[0m\u001b[1;33m\u001b[0m\u001b[0m\n\u001b[0;32m      8\u001b[0m \u001b[1;33m\u001b[0m\u001b[0m\n\u001b[1;32m----> 9\u001b[1;33m \u001b[0mprint\u001b[0m\u001b[1;33m(\u001b[0m\u001b[0mdict\u001b[0m\u001b[1;33m[\u001b[0m\u001b[1;36m4\u001b[0m\u001b[1;33m]\u001b[0m\u001b[1;33m)\u001b[0m \u001b[1;31m## you can't provide key not presented in dict\u001b[0m\u001b[1;33m\u001b[0m\u001b[0m\n\u001b[0m",
      "\u001b[1;31mKeyError\u001b[0m: 4"
     ]
    }
   ],
   "source": [
    "## we can directly access the value using it's key or use .get() \n",
    "\n",
    "dict = {1:'ram',2:'hari',3:'krishna'}\n",
    "\n",
    "print(dict[1])\n",
    "\n",
    "print(dict.get(1))\n",
    "\n",
    "print(dict[4]) ## you can't provide key not presented in dict"
   ]
  },
  {
   "cell_type": "markdown",
   "metadata": {},
   "source": [
    "## ADDING AND DELETING ELEMENT FROM DICT"
   ]
  },
  {
   "cell_type": "code",
   "execution_count": 58,
   "metadata": {},
   "outputs": [
    {
     "name": "stdout",
     "output_type": "stream",
     "text": [
      "{1: 'ram', 2: 'ravi', 3: 'krishna'}\n",
      "{1: 'ram', 2: 'ravi', 3: 'krishna', 4: 'hari'}\n"
     ]
    }
   ],
   "source": [
    "dict = {1:'ram',2:'hari',3:'krishna'}\n",
    "\n",
    "dict[2] = 'ravi'\n",
    "\n",
    "print(dict)\n",
    "\n",
    "dict[4] = 'hari'\n",
    "\n",
    "print(dict)"
   ]
  },
  {
   "cell_type": "code",
   "execution_count": 59,
   "metadata": {},
   "outputs": [
    {
     "name": "stdout",
     "output_type": "stream",
     "text": [
      "{1: 'ram', 2: 'ravi', 4: 'hari'}\n"
     ]
    }
   ],
   "source": [
    "dict.pop(3)  ## delete the value indicated by key\n",
    "\n",
    "print(dict)\n",
    "\n"
   ]
  },
  {
   "cell_type": "code",
   "execution_count": 60,
   "metadata": {},
   "outputs": [
    {
     "name": "stdout",
     "output_type": "stream",
     "text": [
      "{1: 'ram', 2: 'ravi'}\n"
     ]
    }
   ],
   "source": [
    "dict.popitem()  ## delete the random value\n",
    "\n",
    "print(dict)"
   ]
  },
  {
   "cell_type": "code",
   "execution_count": 61,
   "metadata": {},
   "outputs": [
    {
     "name": "stdout",
     "output_type": "stream",
     "text": [
      "{}\n"
     ]
    }
   ],
   "source": [
    "dict.clear()  ## \n",
    "\n",
    "print(dict)"
   ]
  },
  {
   "cell_type": "code",
   "execution_count": 62,
   "metadata": {},
   "outputs": [
    {
     "name": "stdout",
     "output_type": "stream",
     "text": [
      "dict_keys([1, 2, 3])\n",
      "dict_values(['ram', 'hari', 'krishna'])\n",
      "dict_items([(1, 'ram'), (2, 'hari'), (3, 'krishna')])\n"
     ]
    }
   ],
   "source": [
    "dict = {1:'ram',2:'hari',3:'krishna'}\n",
    "\n",
    "print(dict.keys()) ## return the key of dict\n",
    "\n",
    "print(dict.values())  ## return the value of dict\n",
    "\n",
    "print(dict.items())  ## return both key and value of dict"
   ]
  },
  {
   "cell_type": "markdown",
   "metadata": {},
   "source": [
    "# Operators in Python"
   ]
  },
  {
   "cell_type": "markdown",
   "metadata": {},
   "source": [
    "OPERATORS ARE USED TO PERFORM OPERATION ON DATA"
   ]
  },
  {
   "cell_type": "markdown",
   "metadata": {},
   "source": [
    "# Arithmetic operators"
   ]
  },
  {
   "cell_type": "code",
   "execution_count": 8,
   "metadata": {},
   "outputs": [],
   "source": [
    "a = 1\n",
    "b = 2"
   ]
  },
  {
   "cell_type": "code",
   "execution_count": 9,
   "metadata": {},
   "outputs": [
    {
     "name": "stdout",
     "output_type": "stream",
     "text": [
      "3\n",
      "-1\n",
      "2\n",
      "0.5\n",
      "0\n",
      "1\n",
      "1\n"
     ]
    }
   ],
   "source": [
    "## addition\n",
    "print(a+b)\n",
    "\n",
    "## subtraction \n",
    "print(a-b)\n",
    "\n",
    "## multiplication\n",
    "print(a*b)\n",
    "\n",
    "## division\n",
    "print(a/b)  ## unlike C it returns the float value\n",
    "\n",
    "print(a//b)  ## return the integer value by discarding decimal value\n",
    " \n",
    "## modulo\n",
    "print(a%b)\n",
    "\n",
    "## exponential\n",
    "print(a**b)  ## return the value equal to a raised to power b"
   ]
  },
  {
   "cell_type": "markdown",
   "metadata": {},
   "source": [
    "# Comparision Operator"
   ]
  },
  {
   "cell_type": "code",
   "execution_count": 10,
   "metadata": {},
   "outputs": [],
   "source": [
    "a = 1\n",
    "b = 2"
   ]
  },
  {
   "cell_type": "code",
   "execution_count": 11,
   "metadata": {},
   "outputs": [
    {
     "name": "stdout",
     "output_type": "stream",
     "text": [
      "False\n",
      "False\n",
      "True\n",
      "True\n",
      "False\n",
      "True\n"
     ]
    }
   ],
   "source": [
    "print(a==b) ## return true if value are equal\n",
    "\n",
    "print(a>b)  ## return true if a is greater than b\n",
    "\n",
    "print(a<b)  ## return true if a is less than b\n",
    "\n",
    "print(a!=b)  ## return true if a is not equal to b\n",
    "\n",
    "print(a>=b)  ## return true if a is greater than b or equal to b\n",
    "\n",
    "print(a<=b)  ## return true if a is less than b or equal to b"
   ]
  },
  {
   "cell_type": "markdown",
   "metadata": {},
   "source": [
    "# Logical Operator"
   ]
  },
  {
   "cell_type": "code",
   "execution_count": 12,
   "metadata": {},
   "outputs": [],
   "source": [
    "a = 1\n",
    "b = 2"
   ]
  },
  {
   "cell_type": "code",
   "execution_count": 13,
   "metadata": {},
   "outputs": [
    {
     "name": "stdout",
     "output_type": "stream",
     "text": [
      "False\n",
      "True\n",
      "True\n"
     ]
    }
   ],
   "source": [
    "print(a>2 and b<3) ## return true if both statement are true\n",
    "\n",
    "print(a>2 or b<3)  ## return true if one of the statement is true\n",
    "\n",
    "print(not(a>2 and b<3)) ## return false if the statement are true"
   ]
  },
  {
   "cell_type": "markdown",
   "metadata": {},
   "source": [
    "# Assignment Operators"
   ]
  },
  {
   "cell_type": "code",
   "execution_count": 20,
   "metadata": {},
   "outputs": [
    {
     "name": "stdout",
     "output_type": "stream",
     "text": [
      "3\n",
      "2\n",
      "2\n",
      "2.0\n",
      "0.0\n"
     ]
    }
   ],
   "source": [
    "a = 2  ## '=' assign value 2 to variable a\n",
    "\n",
    "\n",
    "a += 1 ## add 1 and return the value\n",
    "print(a)\n",
    "\n",
    "a -= 1  ## subtract 1 and return the value\n",
    "print(a)\n",
    "\n",
    "a *= 1  ## multiply by 1 and return the value\n",
    "print(a)\n",
    "\n",
    "a /= 1  ## divide by 1 and return the value\n",
    "print(a)\n",
    "\n",
    "a %= 1  ## take modulus with 1 and return the value\n",
    "print(a)"
   ]
  },
  {
   "cell_type": "markdown",
   "metadata": {},
   "source": [
    "# Identity Operator"
   ]
  },
  {
   "cell_type": "code",
   "execution_count": 23,
   "metadata": {},
   "outputs": [
    {
     "name": "stdout",
     "output_type": "stream",
     "text": [
      "True\n",
      "False\n",
      "True\n"
     ]
    }
   ],
   "source": [
    "# is and is not are identity operator\n",
    "\n",
    "a = 2\n",
    "b = 2\n",
    "print(a is b) ## it check if the variable have same value and datatype and return true if both are same\n",
    "\n",
    "a = 2\n",
    "b = '2'\n",
    "print(a is b)  ## since the variable b is string if return false\n",
    "\n",
    "## is not is just reverse to is \n",
    "\n",
    "print(a is not b)\n",
    "\n"
   ]
  },
  {
   "cell_type": "markdown",
   "metadata": {},
   "source": [
    "# Membership Operator"
   ]
  },
  {
   "cell_type": "code",
   "execution_count": 26,
   "metadata": {},
   "outputs": [
    {
     "name": "stdout",
     "output_type": "stream",
     "text": [
      "True\n",
      "True\n"
     ]
    }
   ],
   "source": [
    "## in and not in are the membership operator\n",
    "\n",
    "a = [1,5,6]\n",
    "print(5 in a)  ## return true if given value is present in the list\n",
    "\n",
    "print(4 not in a)  ## return true if given value is not present in list"
   ]
  },
  {
   "cell_type": "markdown",
   "metadata": {},
   "source": [
    "# Bitwise Operator"
   ]
  },
  {
   "cell_type": "code",
   "execution_count": 14,
   "metadata": {},
   "outputs": [
    {
     "name": "stdout",
     "output_type": "stream",
     "text": [
      "0\n",
      "3\n",
      "3\n"
     ]
    }
   ],
   "source": [
    "## &, |, ~, ^, >>, << are the bitwise operator\n",
    "## converts the number into binary digits the perform the operation then return the value in number\n",
    "\n",
    "a = 2\n",
    "b = 1\n",
    "\n",
    "print(a & b)  ## perform and operation\n",
    "\n",
    "print(a | b)  ## perform or operation\n",
    "\n",
    "print(a ^ b)  ## perform xor operation\n"
   ]
  },
  {
   "cell_type": "markdown",
   "metadata": {},
   "source": [
    "# Precedence Of The Operators"
   ]
  },
  {
   "cell_type": "markdown",
   "metadata": {},
   "source": [
    "()->            Parentheses<br>\n",
    "**->            Exponentiation<br>\n",
    "*, /, %->       Multiplication, division, remainder<br>\n",
    "+,- ->          Addition, subtraction<br>\n",
    "<>, !=,==->     Comparisons, membership, identity<br>\n",
    "not x->         Boolean NOT<br>\n",
    "and->           Boolean AND<br>\n",
    "or->            Boolean OR<br>\n",
    "lambda->        Lambda expression"
   ]
  },
  {
   "cell_type": "markdown",
   "metadata": {},
   "source": [
    "# Exception Handling"
   ]
  },
  {
   "cell_type": "markdown",
   "metadata": {},
   "source": [
    "An exception is an event,<br>\n",
    "which occurs during the execution of a program, that disrupts the normal flow of the program's instructions.<br>\n",
    " Handling Exception means transferring execution of the program to appropriate handler when an exception <br>occurs"
   ]
  },
  {
   "cell_type": "code",
   "execution_count": 92,
   "metadata": {},
   "outputs": [
    {
     "ename": "ZeroDivisionError",
     "evalue": "division by zero",
     "output_type": "error",
     "traceback": [
      "\u001b[1;31m---------------------------------------------------------------------------\u001b[0m",
      "\u001b[1;31mZeroDivisionError\u001b[0m                         Traceback (most recent call last)",
      "\u001b[1;32m<ipython-input-92-20d7c9b9807c>\u001b[0m in \u001b[0;36m<module>\u001b[1;34m()\u001b[0m\n\u001b[0;32m      3\u001b[0m \u001b[0ma\u001b[0m \u001b[1;33m=\u001b[0m \u001b[1;36m1\u001b[0m\u001b[1;33m\u001b[0m\u001b[0m\n\u001b[0;32m      4\u001b[0m \u001b[0mb\u001b[0m \u001b[1;33m=\u001b[0m \u001b[1;36m0\u001b[0m\u001b[1;33m\u001b[0m\u001b[0m\n\u001b[1;32m----> 5\u001b[1;33m \u001b[0ma\u001b[0m\u001b[1;33m/\u001b[0m\u001b[0mb\u001b[0m\u001b[1;33m\u001b[0m\u001b[0m\n\u001b[0m",
      "\u001b[1;31mZeroDivisionError\u001b[0m: division by zero"
     ]
    }
   ],
   "source": [
    "## Division by Zero\n",
    "\n",
    "a = 1\n",
    "b = 0\n",
    "a/b"
   ]
  },
  {
   "cell_type": "markdown",
   "metadata": {},
   "source": [
    "This gives the ZeroDivisionError . It indicate that division by zero is not possible"
   ]
  },
  {
   "cell_type": "code",
   "execution_count": 1,
   "metadata": {},
   "outputs": [
    {
     "ename": "NameError",
     "evalue": "name 'ram' is not defined",
     "output_type": "error",
     "traceback": [
      "\u001b[1;31m---------------------------------------------------------------------------\u001b[0m",
      "\u001b[1;31mNameError\u001b[0m                                 Traceback (most recent call last)",
      "\u001b[1;32m<ipython-input-1-08d557e544c2>\u001b[0m in \u001b[0;36m<module>\u001b[1;34m()\u001b[0m\n\u001b[0;32m      1\u001b[0m \u001b[1;31m## Name error in python\u001b[0m\u001b[1;33m\u001b[0m\u001b[1;33m\u001b[0m\u001b[0m\n\u001b[0;32m      2\u001b[0m \u001b[1;33m\u001b[0m\u001b[0m\n\u001b[1;32m----> 3\u001b[1;33m \u001b[0mram\u001b[0m\u001b[1;33m*\u001b[0m\u001b[1;36m3\u001b[0m\u001b[1;33m\u001b[0m\u001b[0m\n\u001b[0m",
      "\u001b[1;31mNameError\u001b[0m: name 'ram' is not defined"
     ]
    }
   ],
   "source": [
    "## Name error in python \n",
    "\n",
    "ram*3"
   ]
  },
  {
   "cell_type": "code",
   "execution_count": 2,
   "metadata": {},
   "outputs": [
    {
     "ename": "TypeError",
     "evalue": "unsupported operand type(s) for +: 'int' and 'str'",
     "output_type": "error",
     "traceback": [
      "\u001b[1;31m---------------------------------------------------------------------------\u001b[0m",
      "\u001b[1;31mTypeError\u001b[0m                                 Traceback (most recent call last)",
      "\u001b[1;32m<ipython-input-2-4a91b9153435>\u001b[0m in \u001b[0;36m<module>\u001b[1;34m()\u001b[0m\n\u001b[0;32m      1\u001b[0m \u001b[1;31m## Type error in python\u001b[0m\u001b[1;33m\u001b[0m\u001b[1;33m\u001b[0m\u001b[0m\n\u001b[0;32m      2\u001b[0m \u001b[1;33m\u001b[0m\u001b[0m\n\u001b[1;32m----> 3\u001b[1;33m \u001b[1;36m1\u001b[0m \u001b[1;33m+\u001b[0m \u001b[1;36m2\u001b[0m \u001b[1;33m+\u001b[0m \u001b[1;36m3\u001b[0m \u001b[1;33m+\u001b[0m \u001b[1;34m'one'\u001b[0m\u001b[1;33m\u001b[0m\u001b[0m\n\u001b[0m",
      "\u001b[1;31mTypeError\u001b[0m: unsupported operand type(s) for +: 'int' and 'str'"
     ]
    }
   ],
   "source": [
    "## Type error in python\n",
    "\n",
    "1 + 2 + 3 + 'one'"
   ]
  },
  {
   "cell_type": "markdown",
   "metadata": {},
   "source": [
    "It means we can't add integer and string"
   ]
  },
  {
   "cell_type": "code",
   "execution_count": 58,
   "metadata": {},
   "outputs": [
    {
     "name": "stdout",
     "output_type": "stream",
     "text": [
      "Division by zero is not possible\n"
     ]
    }
   ],
   "source": [
    "## using try and except to handle this\n",
    "a= 1\n",
    "b=0\n",
    "try:\n",
    "    a/b\n",
    "except:\n",
    "    print(\"Division by zero is not possible\")"
   ]
  },
  {
   "cell_type": "code",
   "execution_count": 59,
   "metadata": {},
   "outputs": [
    {
     "name": "stdout",
     "output_type": "stream",
     "text": [
      "division by zero\n"
     ]
    }
   ],
   "source": [
    "a= 1;b=0\n",
    "try:\n",
    "    a/b\n",
    "except ZeroDivisionError as e:\n",
    "    print(e)"
   ]
  },
  {
   "cell_type": "code",
   "execution_count": 5,
   "metadata": {},
   "outputs": [
    {
     "name": "stdout",
     "output_type": "stream",
     "text": [
      "can't add int and str\n"
     ]
    }
   ],
   "source": [
    "try:\n",
    "    1+2+'one'\n",
    "    \n",
    "except:\n",
    "    print(\"can't add int and str\")"
   ]
  },
  {
   "cell_type": "code",
   "execution_count": 103,
   "metadata": {},
   "outputs": [
    {
     "name": "stdout",
     "output_type": "stream",
     "text": [
      "unsupported operand type(s) for +: 'int' and 'str'\n"
     ]
    }
   ],
   "source": [
    "try:\n",
    "    1+2+'one'\n",
    "    \n",
    "except TypeError as e:\n",
    "    print(e)"
   ]
  },
  {
   "cell_type": "code",
   "execution_count": 105,
   "metadata": {},
   "outputs": [
    {
     "name": "stdout",
     "output_type": "stream",
     "text": [
      "Division by zero is not possible\n",
      "Program completed\n"
     ]
    }
   ],
   "source": [
    "try:\n",
    "    a= 1\n",
    "    b=1\n",
    "    a/b\n",
    "except Exception:\n",
    "    print(\"Division by zero is not possible\")\n",
    "    \n",
    "else:\n",
    "    print(a/b)\n",
    "finally:\n",
    "    print(\"Program completed\")"
   ]
  },
  {
   "cell_type": "markdown",
   "metadata": {},
   "source": [
    "# HOMEWORK DESCRIPTION"
   ]
  },
  {
   "cell_type": "markdown",
   "metadata": {},
   "source": [
    " # Rock, Paper, Scissors Game"
   ]
  },
  {
   "cell_type": "code",
   "execution_count": null,
   "metadata": {},
   "outputs": [
    {
     "name": "stdout",
     "output_type": "stream",
     "text": [
      "player 1's turn\n",
      "press enter to play\n",
      "\n",
      "Rock\n",
      "player' 2s turn\n",
      "press enter to play\n",
      "\n",
      "Paper\n",
      "op1= Rock\n",
      "op2= Paper\n",
      "Paper wraps the Rock\n",
      "Player 2 wins\n",
      "Do you want to play again?(y/n)\n",
      "y\n",
      "player 1's turn\n",
      "press enter to play\n",
      "\n",
      "Paper\n",
      "player' 2s turn\n",
      "press enter to play\n",
      "\n",
      "Paper\n",
      "op1= Paper\n",
      "op2= Paper\n",
      "DRAW\n",
      "play again\n",
      "player 1's turn\n",
      "press enter to play\n",
      "\n",
      "Rock\n",
      "player' 2s turn\n",
      "press enter to play\n",
      "\n",
      "Paper\n",
      "op1= Rock\n",
      "op2= Paper\n",
      "Paper wraps the Rock\n",
      "Player 2 wins\n",
      "Do you want to play again?(y/n)\n",
      "y\n",
      "player 1's turn\n",
      "press enter to play\n",
      "\n",
      "Scissors\n",
      "player' 2s turn\n",
      "press enter to play\n",
      "\n",
      "Paper\n",
      "op1= Scissors\n",
      "op2= Paper\n",
      "scissors cuts paper\n",
      "Player 1 wins\n",
      "Do you want to play again?(y/n)\n"
     ]
    }
   ],
   "source": [
    "import random\n",
    "from random import choice\n",
    "\n",
    "\n",
    "def game():\n",
    "    return(choice([\"Rock\",\"Paper\",\"Scissors\"]))\n",
    "\n",
    "def start():\n",
    "    print(\"player 1's turn\")\n",
    "    print(\"press enter to play\")\n",
    "    enter=input()\n",
    "    global option1\n",
    "    option1=game()\n",
    "    print(option1)\n",
    "    print(\"player' 2s turn\")\n",
    "    print(\"press enter to play\")\n",
    "    enter=input()\n",
    "    global option2\n",
    "    option2=game()\n",
    "    print(option2)\n",
    "\n",
    "def play():\n",
    "    if (option1==option2):\n",
    "        print(\"DRAW\")\n",
    "        print(\"play again\")\n",
    "        start()\n",
    "        play()\n",
    "    elif (option1==\"Rock\" and option2==\"Paper\"):\n",
    "        print(\"Paper wraps the Rock\")\n",
    "        print(\"Player 2 wins\")       \n",
    "    elif (option1==\"Rock\" and option2==\"Scissors\"):\n",
    "        print(\"Rock blunts Scissors\")\n",
    "        print(\"Player 1 wins\")\n",
    "    elif (option1==\"Paper\" and option2==\"Scissors\"):\n",
    "        print(\"scissors cuts paper\")\n",
    "        print(\"Player 2 wins\")   \n",
    "    elif (option2==\"Rock\" and option1==\"Paper\"):\n",
    "        print(\"Paper wraps the Rock\")\n",
    "        print(\"Player 1 wins\")       \n",
    "    elif (option2==\"Rock\" and option1==\"Scissors\"):\n",
    "        print(\"Rock crushes Scissors\")\n",
    "        print(\"Player 2 wins\")\n",
    "    elif (option2==\"Paper\" and option1==\"Scissors\"):\n",
    "        print(\"scissors cuts paper\")\n",
    "        print(\"Player 1 wins\")             \n",
    "\n",
    "op=\"y\"\n",
    "while (op==\"y\" or op==\"Y\"):\n",
    "    start()\n",
    "    play()\n",
    "    print(\"Do you want to play again?(y/n)\")\n",
    "    op=input()       \n",
    "              "
   ]
  },
  {
   "cell_type": "markdown",
   "metadata": {},
   "source": [
    "# Dice Rolling Simulator "
   ]
  },
  {
   "cell_type": "code",
   "execution_count": 3,
   "metadata": {},
   "outputs": [
    {
     "name": "stdin",
     "output_type": "stream",
     "text": [
      "press enter to roll THE DICE and q to quiet  \n"
     ]
    },
    {
     "name": "stdout",
     "output_type": "stream",
     "text": [
      "you rolled face : 3\n"
     ]
    },
    {
     "name": "stdin",
     "output_type": "stream",
     "text": [
      "press enter to roll THE DICE and q to quiet  \n"
     ]
    },
    {
     "name": "stdout",
     "output_type": "stream",
     "text": [
      "you rolled face : 2\n"
     ]
    },
    {
     "name": "stdin",
     "output_type": "stream",
     "text": [
      "press enter to roll THE DICE and q to quiet  \n"
     ]
    },
    {
     "name": "stdout",
     "output_type": "stream",
     "text": [
      "you rolled face : 2\n"
     ]
    },
    {
     "name": "stdin",
     "output_type": "stream",
     "text": [
      "press enter to roll THE DICE and q to quiet  \n"
     ]
    },
    {
     "name": "stdout",
     "output_type": "stream",
     "text": [
      "you rolled face : 5\n"
     ]
    },
    {
     "name": "stdin",
     "output_type": "stream",
     "text": [
      "press enter to roll THE DICE and q to quiet  \n"
     ]
    },
    {
     "name": "stdout",
     "output_type": "stream",
     "text": [
      "you rolled face : 6\n"
     ]
    },
    {
     "name": "stdin",
     "output_type": "stream",
     "text": [
      "press enter to roll THE DICE and q to quiet  \n"
     ]
    },
    {
     "name": "stdout",
     "output_type": "stream",
     "text": [
      "you rolled face : 2\n"
     ]
    },
    {
     "name": "stdin",
     "output_type": "stream",
     "text": [
      "press enter to roll THE DICE and q to quiet  q\n"
     ]
    },
    {
     "name": "stdout",
     "output_type": "stream",
     "text": [
      "thanks for playing.\n"
     ]
    }
   ],
   "source": [
    "import random\n",
    "def rolling(sides):\n",
    "    r = random.randint(1,sides)\n",
    "    return r\n",
    "def main():\n",
    "    roll=True\n",
    "    while roll :\n",
    "     choice = input (\"press enter to roll THE DICE and q to quiet \")\n",
    "     if choice.lower() != \"q\":\n",
    "         dice_no= rolling (6)\n",
    "         print(\"you rolled face :\",dice_no)\n",
    "     else:\n",
    "         roll=False\n",
    "    print(\"thanks for playing.\")\n",
    "main()\n"
   ]
  },
  {
   "cell_type": "markdown",
   "metadata": {},
   "source": [
    "# Guess The Number"
   ]
  },
  {
   "cell_type": "code",
   "execution_count": 1,
   "metadata": {},
   "outputs": [
    {
     "name": "stdin",
     "output_type": "stream",
     "text": [
      "Enter your guess between (0 to 10) ?:- 5\n"
     ]
    },
    {
     "name": "stdout",
     "output_type": "stream",
     "text": [
      "you were lower than guess \n"
     ]
    },
    {
     "name": "stdin",
     "output_type": "stream",
     "text": [
      "Enter your guess between (5 to 10) ?:- 7\n"
     ]
    },
    {
     "name": "stdout",
     "output_type": "stream",
     "text": [
      "you were lower than guess \n"
     ]
    },
    {
     "name": "stdin",
     "output_type": "stream",
     "text": [
      "Enter your guess between (7 to 10) ?:- 9\n"
     ]
    },
    {
     "name": "stdout",
     "output_type": "stream",
     "text": [
      "you were lower than guess \n",
      "better luck next time\n"
     ]
    },
    {
     "name": "stdin",
     "output_type": "stream",
     "text": [
      "Do you want to continue (y/n) y\n",
      "Enter your guess between (0 to 10) ?:- 9\n"
     ]
    },
    {
     "name": "stdout",
     "output_type": "stream",
     "text": [
      "Congratulations! you guessed the number\n"
     ]
    },
    {
     "name": "stdin",
     "output_type": "stream",
     "text": [
      "Do you want to continue (y/n) y\n",
      "Enter your guess between (0 to 10) ?:- 9\n"
     ]
    },
    {
     "name": "stdout",
     "output_type": "stream",
     "text": [
      "you were higher than guess\n"
     ]
    },
    {
     "name": "stdin",
     "output_type": "stream",
     "text": [
      "Enter your guess between (0 to 9) ?:- 5\n"
     ]
    },
    {
     "name": "stdout",
     "output_type": "stream",
     "text": [
      "you were higher than guess\n"
     ]
    },
    {
     "name": "stdin",
     "output_type": "stream",
     "text": [
      "Enter your guess between (0 to 5) ?:- 1\n"
     ]
    },
    {
     "name": "stdout",
     "output_type": "stream",
     "text": [
      "you were lower than guess \n",
      "better luck next time\n"
     ]
    },
    {
     "name": "stdin",
     "output_type": "stream",
     "text": [
      "Do you want to continue (y/n) y\n",
      "Enter your guess between (0 to 10) ?:- 6\n"
     ]
    },
    {
     "name": "stdout",
     "output_type": "stream",
     "text": [
      "Congratulations! you guessed the number\n"
     ]
    },
    {
     "name": "stdin",
     "output_type": "stream",
     "text": [
      "Do you want to continue (y/n) y\n",
      "Enter your guess between (0 to 10) ?:- 2\n"
     ]
    },
    {
     "name": "stdout",
     "output_type": "stream",
     "text": [
      "you were lower than guess \n"
     ]
    },
    {
     "name": "stdin",
     "output_type": "stream",
     "text": [
      "Enter your guess between (2 to 10) ?:- 6\n"
     ]
    },
    {
     "name": "stdout",
     "output_type": "stream",
     "text": [
      "you were higher than guess\n"
     ]
    },
    {
     "name": "stdin",
     "output_type": "stream",
     "text": [
      "Enter your guess between (2 to 6) ?:- 4\n"
     ]
    },
    {
     "name": "stdout",
     "output_type": "stream",
     "text": [
      "you were lower than guess \n",
      "better luck next time\n"
     ]
    },
    {
     "name": "stdin",
     "output_type": "stream",
     "text": [
      "Do you want to continue (y/n) n\n"
     ]
    }
   ],
   "source": [
    "import random\n",
    "option=\"y\"\n",
    "while (option==\"y\"):\n",
    "    guess=random.randint(0,10)\n",
    "    j=0;k=10\n",
    "    for i in range(3):\n",
    "        choice=int(input(f\"Enter your guess between ({j} to {k}) ?:-\"))\n",
    "        if (guess>choice):\n",
    "            print(\"you were lower than guess \")\n",
    "            j=choice\n",
    "            continue\n",
    "        elif (guess<choice):\n",
    "            print(\"you were higher than guess\")\n",
    "            k=choice\n",
    "            continue\n",
    "        elif (guess==choice):\n",
    "            print(\"Congratulations! you guessed the number\")\n",
    "            break\n",
    "    else:\n",
    "        print(\"better luck next time\")\n",
    "    option=input(\"Do you want to continue (y/n)\")        \n",
    "    "
   ]
  },
  {
   "cell_type": "code",
   "execution_count": null,
   "metadata": {},
   "outputs": [],
   "source": []
  },
  {
   "cell_type": "code",
   "execution_count": null,
   "metadata": {},
   "outputs": [],
   "source": []
  }
 ],
 "metadata": {
  "kernelspec": {
   "display_name": "Python 3",
   "language": "python",
   "name": "python3"
  },
  "language_info": {
   "codemirror_mode": {
    "name": "ipython",
    "version": 3
   },
   "file_extension": ".py",
   "mimetype": "text/x-python",
   "name": "python",
   "nbconvert_exporter": "python",
   "pygments_lexer": "ipython3",
   "version": "3.7.4"
  }
 },
 "nbformat": 4,
 "nbformat_minor": 4
}

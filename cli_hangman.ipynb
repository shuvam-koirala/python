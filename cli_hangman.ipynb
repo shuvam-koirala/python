{
 "cells": [
  {
   "cell_type": "markdown",
   "metadata": {},
   "source": [
    "# Hangman Game"
   ]
  },
  {
   "cell_type": "markdown",
   "metadata": {},
   "source": [
    "Hangman is a classic word game in which you must guess as many secret words as you can before moves run out!\n",
    "Here we are creating command line interface of this game.We will discuss about it's graphical user interface\n",
    "later."
   ]
  },
  {
   "cell_type": "code",
   "execution_count": 3,
   "metadata": {},
   "outputs": [
    {
     "name": "stdout",
     "output_type": "stream",
     "text": [
      "Welcome to Hangman!\n",
      "\n",
      "-----\n",
      "|   |\n",
      "|\n",
      "|\n",
      "|\n",
      "|\n",
      "|\n",
      "|\n",
      "|\n",
      "--------\n",
      "\n",
      "\n",
      "You have 6 attempts remaining\n",
      "-------\n"
     ]
    },
    {
     "name": "stdin",
     "output_type": "stream",
     "text": [
      "\n",
      "Please select a letter between A-Z\n",
      ">  l\n"
     ]
    },
    {
     "name": "stdout",
     "output_type": "stream",
     "text": [
      "\n",
      "-----\n",
      "|   |\n",
      "|   0\n",
      "|\n",
      "|\n",
      "|\n",
      "|\n",
      "|\n",
      "|\n",
      "--------\n",
      "\n",
      "\n",
      "You have 5 attempts remaining\n",
      "-------\n"
     ]
    },
    {
     "name": "stdin",
     "output_type": "stream",
     "text": [
      "\n",
      "Please select a letter between A-Z\n",
      ">  e\n"
     ]
    },
    {
     "name": "stdout",
     "output_type": "stream",
     "text": [
      "\n",
      "You have 5 attempts remaining\n",
      "-e-e--e\n"
     ]
    },
    {
     "name": "stdin",
     "output_type": "stream",
     "text": [
      "\n",
      "Please select a letter between A-Z\n",
      ">  o\n"
     ]
    },
    {
     "name": "stdout",
     "output_type": "stream",
     "text": [
      "\n",
      "-----\n",
      "|   |\n",
      "|   0\n",
      "|  -+-\n",
      "|\n",
      "|\n",
      "|\n",
      "|\n",
      "|\n",
      "--------\n",
      "\n",
      "\n",
      "You have 4 attempts remaining\n",
      "-e-e--e\n"
     ]
    },
    {
     "name": "stdin",
     "output_type": "stream",
     "text": [
      "\n",
      "Please select a letter between A-Z\n",
      ">  p\n"
     ]
    },
    {
     "name": "stdout",
     "output_type": "stream",
     "text": [
      "\n",
      "-----\n",
      "|   |\n",
      "|   0\n",
      "| /-+-\n",
      "|\n",
      "|\n",
      "|\n",
      "|\n",
      "|\n",
      "--------\n",
      "\n",
      "\n",
      "You have 3 attempts remaining\n",
      "-e-e--e\n"
     ]
    },
    {
     "name": "stdin",
     "output_type": "stream",
     "text": [
      "\n",
      "Please select a letter between A-Z\n",
      ">  a\n"
     ]
    },
    {
     "name": "stdout",
     "output_type": "stream",
     "text": [
      "\n",
      "-----\n",
      "|   |\n",
      "|   0\n",
      "| /-+-\\ \n",
      "|\n",
      "|\n",
      "|\n",
      "|\n",
      "|\n",
      "--------\n",
      "\n",
      "\n",
      "You have 2 attempts remaining\n",
      "-e-e--e\n"
     ]
    },
    {
     "name": "stdin",
     "output_type": "stream",
     "text": [
      "\n",
      "Please select a letter between A-Z\n",
      ">  r\n"
     ]
    },
    {
     "name": "stdout",
     "output_type": "stream",
     "text": [
      "\n",
      "You have 2 attempts remaining\n",
      "re-er-e\n"
     ]
    },
    {
     "name": "stdin",
     "output_type": "stream",
     "text": [
      "\n",
      "Please select a letter between A-Z\n",
      ">  d\n"
     ]
    },
    {
     "name": "stdout",
     "output_type": "stream",
     "text": [
      "\n",
      "-----\n",
      "|   |\n",
      "|   0\n",
      "| /-+-\\ \n",
      "|   | \n",
      "|\n",
      "|\n",
      "|\n",
      "|\n",
      "--------\n",
      "\n",
      "\n",
      "You have 1 attempts remaining\n",
      "re-er-e\n"
     ]
    },
    {
     "name": "stdin",
     "output_type": "stream",
     "text": [
      "\n",
      "Please select a letter between A-Z\n",
      ">  g\n"
     ]
    },
    {
     "name": "stdout",
     "output_type": "stream",
     "text": [
      "\n",
      "-----\n",
      "|   |\n",
      "|   0\n",
      "| /-+-\\ \n",
      "|   | \n",
      "|   | \n",
      "|\n",
      "|\n",
      "|\n",
      "--------\n",
      "\n",
      "\n",
      "Sorry! The word was reverse.\n",
      "\n",
      "Would you like to play again?\n"
     ]
    },
    {
     "name": "stdin",
     "output_type": "stream",
     "text": [
      ">  d\n"
     ]
    }
   ],
   "source": [
    "import random\n",
    "\n",
    "def main():\n",
    "    word='Welcome to Hangman Game!'\n",
    "    print(word,sep='\\n')\n",
    "\n",
    "    # setting up the play_again loop\n",
    "\n",
    "    play_again = True\n",
    "\n",
    "    while play_again:\n",
    "        # set up the game loop\n",
    "\n",
    "        words = [\"Hello\", \"Python\", \"Workshop\", \"Function\", \"Variable\",\n",
    "                 \"Programming\", \"Prize\", \"Loop\", \"Output\", \"Input\",\n",
    "                 \"String\", \"Reverse\", \"Palindrome\", \"Structures\", \"\",\n",
    "                 \"Dictionary\", \"Exception\", \"Inheritance\", \"Object\", \"Precedence\"\n",
    "                 ]\n",
    "\n",
    "        chosen_word = random.choice(words).lower()\n",
    "        player_guess = None # for hold the players guess\n",
    "        guessed_letters = [] # list of guessed letters\n",
    "        word_guessed = []\n",
    "        for letter in chosen_word:\n",
    "            word_guessed.append(\"-\") # create an unguessed, blank version of the word\n",
    "        joined_word = None # joins the words in the list word_guessed\n",
    "        picture = (\n",
    "\"\"\"\n",
    "-----\n",
    "|   |\n",
    "|\n",
    "|\n",
    "|\n",
    "|\n",
    "|\n",
    "|\n",
    "|\n",
    "--------\n",
    "\"\"\",\n",
    "\"\"\"\n",
    "-----\n",
    "|   |\n",
    "|   0\n",
    "|\n",
    "|\n",
    "|\n",
    "|\n",
    "|\n",
    "|\n",
    "--------\n",
    "\"\"\",\n",
    "\"\"\"\n",
    "-----\n",
    "|   |\n",
    "|   0\n",
    "|  -+-\n",
    "|\n",
    "|\n",
    "|\n",
    "|\n",
    "|\n",
    "--------\n",
    "\"\"\",\n",
    "\"\"\"\n",
    "-----\n",
    "|   |\n",
    "|   0\n",
    "| /-+-\n",
    "|\n",
    "|\n",
    "|\n",
    "|\n",
    "|\n",
    "--------\n",
    "\"\"\",\n",
    "\"\"\"\n",
    "-----\n",
    "|   |\n",
    "|   0\n",
    "| /-+-\\ \n",
    "|\n",
    "|\n",
    "|\n",
    "|\n",
    "|\n",
    "--------\n",
    "\"\"\",\n",
    "\"\"\"\n",
    "-----\n",
    "|   |\n",
    "|   0\n",
    "| /-+-\\ \n",
    "|   | \n",
    "|\n",
    "|\n",
    "|\n",
    "|\n",
    "--------\n",
    "\"\"\",\n",
    "\"\"\"\n",
    "-----\n",
    "|   |\n",
    "|   0\n",
    "| /-+-\\ \n",
    "|   | \n",
    "|   | \n",
    "|\n",
    "|\n",
    "|\n",
    "--------\n",
    "\"\"\"\n",
    ")\n",
    "\n",
    "        print(picture[0])\n",
    "        attempts = len(picture) - 1\n",
    "\n",
    "\n",
    "        while (attempts != 0 and \"-\" in word_guessed):\n",
    "            print((\"\\nYou have {} attempts remaining\").format(attempts))\n",
    "            joined_word = \"\".join(word_guessed)\n",
    "            print(joined_word)\n",
    "         ## exception handling\n",
    "            try:\n",
    "                player_guess = str(input(\"\\nPlease select a letter between A-Z\" + \"\\n> \")).lower()\n",
    "            except: # check valid input\n",
    "                print(\"That is not valid input. Please try again.\")\n",
    "                continue                \n",
    "            else: \n",
    "                if not player_guess.isalpha(): # checks if the input is a letter. Also checks an input has been made.\n",
    "                    print(\"That is not a letter. Please try again.\")\n",
    "                    continue\n",
    "                elif len(player_guess) > 1: # checks if  the input is only one letter\n",
    "                    print(\"That is more than one letter. Please try again.\")\n",
    "                    continue\n",
    "                elif player_guess in guessed_letters: # check it letter hasn't been guessed already\n",
    "                    print(\"You have already guessed that letter. Please try again.\")\n",
    "                    continue\n",
    "                else:\n",
    "                    pass\n",
    "\n",
    "            guessed_letters.append(player_guess)\n",
    "\n",
    "            for letter in range(len(chosen_word)):\n",
    "                if player_guess == chosen_word[letter]:\n",
    "                    word_guessed[letter] = player_guess # replaces all letters in the chosen word that match the players guess\n",
    "\n",
    "            if player_guess not in chosen_word:\n",
    "                attempts -= 1\n",
    "                print(picture[(len(picture) - 1) - attempts])\n",
    "\n",
    "        if \"-\" not in word_guessed: # no blanks remaining\n",
    "            print((\"\\nCongratulations! you guessed the word {}\").format(chosen_word))\n",
    "        else: # loop must have ended because attempts reached 0\n",
    "            print((\"\\nSorry! The word was {}.\").format(chosen_word))\n",
    "\n",
    "        print(\"\\nWould you like to play again?\")\n",
    "\n",
    "        response = input(\"> \").lower()\n",
    "        if response not in (\"yes\", \"y\"):\n",
    "            play_again = False\n",
    "\n",
    "if __name__ == \"__main__\":\n",
    "    main()\n"
   ]
  },
  {
   "cell_type": "code",
   "execution_count": null,
   "metadata": {},
   "outputs": [],
   "source": []
  }
 ],
 "metadata": {
  "kernelspec": {
   "display_name": "Python 3",
   "language": "python",
   "name": "python3"
  },
  "language_info": {
   "codemirror_mode": {
    "name": "ipython",
    "version": 3
   },
   "file_extension": ".py",
   "mimetype": "text/x-python",
   "name": "python",
   "nbconvert_exporter": "python",
   "pygments_lexer": "ipython3",
   "version": "3.7.4"
  }
 },
 "nbformat": 4,
 "nbformat_minor": 4
}

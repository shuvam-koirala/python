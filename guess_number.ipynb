{
 "cells": [
  {
   "cell_type": "markdown",
   "metadata": {},
   "source": [
    "# Guess the number."
   ]
  },
  {
   "cell_type": "code",
   "execution_count": null,
   "metadata": {},
   "outputs": [],
   "source": [
    "import random\n",
    "option=\"y\"\n",
    "while (option==\"y\"):\n",
    "    guess=random.randint(0,10)\n",
    "    j=0;k=10\n",
    "    for i in range(3):\n",
    "        choice=int(input(f\"Enter your guess between ({j} to {k}) ?:-\"))\n",
    "        if (guess>choice):\n",
    "            print(\"you were lower than guess \")\n",
    "            j=choice\n",
    "            continue\n",
    "        elif (guess<choice):\n",
    "            print(\"you were higher than guess\")\n",
    "            k=choice\n",
    "            continue\n",
    "        elif (guess==choice):\n",
    "            print(\"Congratulations! you guessed the number\")\n",
    "            break\n",
    "    else:\n",
    "        print(\"better luck next time\")\n",
    "    option=input(\"Do you want to continue (y/n)\")        \n",
    "    "
   ]
  }
 ],
 "metadata": {
  "kernelspec": {
   "display_name": "Python 3",
   "language": "python",
   "name": "python3"
  },
  "language_info": {
   "codemirror_mode": {
    "name": "ipython",
    "version": 3
   },
   "file_extension": ".py",
   "mimetype": "text/x-python",
   "name": "python",
   "nbconvert_exporter": "python",
   "pygments_lexer": "ipython3",
   "version": "3.7.4"
  }
 },
 "nbformat": 4,
 "nbformat_minor": 4
}

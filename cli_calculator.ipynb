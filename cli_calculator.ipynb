{
 "cells": [
  {
   "cell_type": "code",
   "execution_count": 3,
   "metadata": {},
   "outputs": [
    {
     "name": "stdout",
     "output_type": "stream",
     "text": [
      "WELCOME TO THE CALCULATING WORLD \n"
     ]
    },
    {
     "name": "stdin",
     "output_type": "stream",
     "text": [
      "Enter the number?:- 100\n",
      "Enter the operator?:- /\n",
      "Enter the number?:- 5\n"
     ]
    },
    {
     "name": "stdout",
     "output_type": "stream",
     "text": [
      "100 / 5 = 20.0\n"
     ]
    },
    {
     "name": "stdin",
     "output_type": "stream",
     "text": [
      "Do you have more numbers left (y/n)?:- y\n",
      "Enter the operator?:- *\n",
      "Enter the number?:- 40\n"
     ]
    },
    {
     "name": "stdout",
     "output_type": "stream",
     "text": [
      "20.0 * 40 = 800.0\n"
     ]
    },
    {
     "name": "stdin",
     "output_type": "stream",
     "text": [
      "Do you have more numbers left (y/n)?:- y\n",
      "Enter the operator?:- -\n",
      "Enter the number?:- 700\n"
     ]
    },
    {
     "name": "stdout",
     "output_type": "stream",
     "text": [
      "800.0 - 700 = 100.0\n"
     ]
    },
    {
     "name": "stdin",
     "output_type": "stream",
     "text": [
      "Do you have more numbers left (y/n)?:- y\n",
      "Enter the operator?:- +50\n",
      "Enter the number?:- 6\n"
     ]
    },
    {
     "name": "stdout",
     "output_type": "stream",
     "text": [
      "Enter the correct operator\n"
     ]
    },
    {
     "name": "stdin",
     "output_type": "stream",
     "text": [
      "Enter the operator?:- +\n",
      "Enter the number?:- 6\n"
     ]
    },
    {
     "name": "stdout",
     "output_type": "stream",
     "text": [
      "100.0 + 6 = 106.0\n"
     ]
    },
    {
     "name": "stdin",
     "output_type": "stream",
     "text": [
      "Do you have more numbers left (y/n)?:- n\n"
     ]
    },
    {
     "name": "stdout",
     "output_type": "stream",
     "text": [
      "Result is :-106.0\n"
     ]
    }
   ],
   "source": [
    "print(\"WELCOME TO THE CALCULATING WORLD \")\n",
    "\n",
    "def main():\n",
    "    num1=int(input(\"Enter the number?:-\"))\n",
    "    choice=\"y\"\n",
    "    while (choice.lower()==\"y\"):\n",
    "        op=input(\"Enter the operator?:-\")\n",
    "        num2=int(input(\"Enter the number?:-\"))\n",
    "        operator={\"+\":add(num1,num2),\"-\":sub(num1,num2),\"*\":mul(num1,num2),\"/\":div(num1,num2)}\n",
    "        p=list(operator.keys())\n",
    "        if op in p:\n",
    "            num=operator[op]\n",
    "            print(f\"{num1} {op} {num2} = {num}\")\n",
    "            num1=num\n",
    "            choice=input(\"Do you have more numbers left (y/n)?:-\")\n",
    "            if choice.lower()==\"n\":\n",
    "                print(f\"Result is :-{num1}\")\n",
    "        else:\n",
    "            print(\"Enter the correct operator\")\n",
    "\n",
    "def add(n1,n2):\n",
    "    return n1+n2\n",
    "def sub(n1,n2):\n",
    "    return n1-n2\n",
    "def mul(n1,n2):\n",
    "    return n1*n2\n",
    "def div(n1,n2):\n",
    "    return n1/n2\n",
    "\n",
    "main()"
   ]
  },
  {
   "cell_type": "code",
   "execution_count": null,
   "metadata": {},
   "outputs": [],
   "source": []
  }
 ],
 "metadata": {
  "kernelspec": {
   "display_name": "Python 3",
   "language": "python",
   "name": "python3"
  },
  "language_info": {
   "codemirror_mode": {
    "name": "ipython",
    "version": 3
   },
   "file_extension": ".py",
   "mimetype": "text/x-python",
   "name": "python",
   "nbconvert_exporter": "python",
   "pygments_lexer": "ipython3",
   "version": "3.7.4"
  }
 },
 "nbformat": 4,
 "nbformat_minor": 4
}

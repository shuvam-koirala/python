{
 "cells": [
  {
   "cell_type": "markdown",
   "metadata": {},
   "source": [
    " # Rock, Paper, Scissors game"
   ]
  },
  {
   "cell_type": "code",
   "execution_count": null,
   "metadata": {},
   "outputs": [],
   "source": [
    "import random\n",
    "from random import choice\n",
    "global option1\n",
    "global option2\n",
    "def game():\n",
    "    return(choice([\"Rock\",\"Paper\",\"Scissors\"]))\n",
    "\n",
    "def start():\n",
    "    print(\"player 1's turn\")\n",
    "    print(\"press enter to play\")\n",
    "    enter=input()\n",
    "    option1=game()\n",
    "    print(option1)\n",
    "    print(\"player' 2s turn\")\n",
    "    print(\"press enter to play\")\n",
    "    enter=input()\n",
    "    option2=game()\n",
    "    print(option2)\n",
    "\n",
    "def play():\n",
    "    if (option1==option2):\n",
    "        print(\"DRAW\")\n",
    "        print(\"play again\")\n",
    "        start()\n",
    "    elif (option1==\"Rock\" and option2==\"Paper\"):\n",
    "        print(\"Paper wraps the Rock\")\n",
    "        print(\"Player 2 wins\")       \n",
    "    elif (option1==\"Rock\" and option2==\"Scissors\"):\n",
    "        print(\"Rock blunts Scissors\")\n",
    "        print(\"Player 1 wins\")\n",
    "    elif (option1==\"Paper\" and option2==\"Scissors\"):\n",
    "        print(\"scissors cuts paper\")\n",
    "        print(\"Player 2 wins\")   \n",
    "    elif (option2==\"Rock\" and option1==\"Paper\"):\n",
    "        print(\"Paper wraps the Rock\")\n",
    "        print(\"Player 1 wins\")       \n",
    "    elif (option2==\"Rock\" and option1==\"Scissors\"):\n",
    "        print(\"Rock crushes Scissors\")\n",
    "        print(\"Player 2 wins\")\n",
    "    elif (option2==\"Paper\" and option1==\"Scissors\"):\n",
    "        print(\"scissors cuts paper\")\n",
    "        print(\"Player 1 wins\")             \n",
    "\n",
    "op=\"y\"\n",
    "while (op==\"y\" or op==\"Y\"):\n",
    "    start()\n",
    "    play()\n",
    "    print(\"Do you want to play again?(y/n)\")\n",
    "    op=input()       \n",
    "              "
   ]
  },
  {
   "cell_type": "code",
   "execution_count": null,
   "metadata": {},
   "outputs": [],
   "source": []
  },
  {
   "cell_type": "code",
   "execution_count": null,
   "metadata": {},
   "outputs": [],
   "source": []
  },
  {
   "cell_type": "code",
   "execution_count": null,
   "metadata": {},
   "outputs": [],
   "source": []
  }
 ],
 "metadata": {
  "kernelspec": {
   "display_name": "Python 3",
   "language": "python",
   "name": "python3"
  },
  "language_info": {
   "codemirror_mode": {
    "name": "ipython",
    "version": 3
   },
   "file_extension": ".py",
   "mimetype": "text/x-python",
   "name": "python",
   "nbconvert_exporter": "python",
   "pygments_lexer": "ipython3",
   "version": "3.7.4"
  }
 },
 "nbformat": 4,
 "nbformat_minor": 4
}

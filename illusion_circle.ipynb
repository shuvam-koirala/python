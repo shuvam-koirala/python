{
 "cells": [
  {
   "cell_type": "markdown",
   "metadata": {},
   "source": [
    "# Drawing the illusion circle using turtle library"
   ]
  },
  {
   "cell_type": "code",
   "execution_count": 5,
   "metadata": {},
   "outputs": [],
   "source": [
    "import turtle \n",
    "turtle.bgcolor(\"yellow\")\n",
    "turtle.screensize(300,400)\n",
    "point = turtle.Turtle()\n",
    "point.speed(10)\n",
    "\n",
    "for i in range(180):\n",
    "    point.forward(100)\n",
    "    point.right(30)\n",
    "    point.forward(20)\n",
    "    point.left(60)\n",
    "    point.forward(50)\n",
    "    point.right(30)\n",
    "    point.penup()\n",
    "    point.setposition(0, 0)\n",
    "    point.pendown()\n",
    "    point.right(2)\n",
    "    \n",
    "turtle.done()"
   ]
  },
  {
   "cell_type": "code",
   "execution_count": null,
   "metadata": {},
   "outputs": [],
   "source": []
  },
  {
   "cell_type": "code",
   "execution_count": null,
   "metadata": {},
   "outputs": [],
   "source": []
  }
 ],
 "metadata": {
  "kernelspec": {
   "display_name": "Python 3",
   "language": "python",
   "name": "python3"
  },
  "language_info": {
   "codemirror_mode": {
    "name": "ipython",
    "version": 3
   },
   "file_extension": ".py",
   "mimetype": "text/x-python",
   "name": "python",
   "nbconvert_exporter": "python",
   "pygments_lexer": "ipython3",
   "version": "3.7.4"
  }
 },
 "nbformat": 4,
 "nbformat_minor": 4
}

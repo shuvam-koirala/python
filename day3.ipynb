{
 "cells": [
  {
   "cell_type": "markdown",
   "metadata": {},
   "source": [
    "# The Python Graphical User Interface(GUI)"
   ]
  },
  {
   "cell_type": "markdown",
   "metadata": {},
   "source": [
    "The GUI (Graphical User Interface) is a form of user interface that allows users to interact with our programs through graphical icons and mouse, instead of text-based user interfaces, typed command labels or text navigation. We will now learn to create graphical user interfaces for our programs so that the users can use our programs more easily."
   ]
  },
  {
   "cell_type": "markdown",
   "metadata": {},
   "source": [
    "We can use different types of libraries to make GUI applications in Python such as: tkinter, PyQt, wxPython, kivy etc.\n",
    "In this workshop, we will be using tkinter which is is the GUI library that comes by default with the python interpreter."
   ]
  },
  {
   "cell_type": "markdown",
   "metadata": {},
   "source": [
    "# Tkinter"
   ]
  },
  {
   "cell_type": "markdown",
   "metadata": {},
   "source": [
    "## What is Tkinter?"
   ]
  },
  {
   "cell_type": "markdown",
   "metadata": {},
   "source": [
    "The Tkinter module (“Tk interface”) is the standard Python interface to the Tk GUI toolkit for developing GUI applications.\n",
    "\n",
    "Both Tk and Tkinter are available on most Unix platforms, as well as on Windows and Macintosh systems. Starting with the 8.0 release, Tk offers native look and feel on all platforms i.e. the interface looks almost identical on all platforms.\n",
    "\n",
    "Here is an example of a simple GUI interface made by using tkinter module:"
   ]
  },
  {
   "cell_type": "code",
   "execution_count": 8,
   "metadata": {},
   "outputs": [],
   "source": [
    "from tkinter import *\n",
    "from tkinter import messagebox\n",
    "\n",
    "#----defining the main window----\n",
    "root = Tk()\n",
    "root.geometry(\"720x200\")\n",
    "\n",
    "#----titlebar----\n",
    "root.title(\"This is a Titlebar\")\n",
    "\n",
    "\n",
    "#----defining functions----\n",
    "def show_messagebox():\n",
    "    messagebox.showinfo(\"Title\", \"I am a MessageBox\")\n",
    "    \n",
    "def show_about():\n",
    "    messagebox.showinfo(\"About\", \"This is an About popup!\")\n",
    "\n",
    "def callback():\n",
    "    print(\"Clicked an option in Menu!\")\n",
    "\n",
    "def quit():\n",
    "    root.destroy()\n",
    "\n",
    "#----menubar----\n",
    "menu = Menu(root)\n",
    "root.config(menu=menu)\n",
    "\n",
    "filemenu = Menu(menu)\n",
    "menu.add_cascade(label=\"File\", menu=filemenu)\n",
    "filemenu.add_command(label=\"New\", command=callback)\n",
    "filemenu.add_command(label=\"Open...\", command=callback)\n",
    "filemenu.add_separator()\n",
    "filemenu.add_command(label=\"Exit\", command=quit)\n",
    "\n",
    "helpmenu = Menu(menu)\n",
    "menu.add_cascade(label=\"Help\", menu=helpmenu)\n",
    "helpmenu.add_command(label=\"About...\", command=show_about)\n",
    "\n",
    "#----Inner contents----\n",
    "mylabel = Label(root, text=\"This is called a label\", bg=\"Yellow\", font=(\"Arial\",50,\"bold\"))\n",
    "mylabel.pack()\n",
    "\n",
    "mybutton = Button(root, text=\"This is a button\")\n",
    "mybutton.pack()\n",
    "\n",
    "msg = Button(root,text=\"Click to show messagebox\",command=show_messagebox)\n",
    "msg.pack()\n",
    "\n",
    "entry = Entry(root)\n",
    "entry.insert(0, \"I am a entry bar\")\n",
    "entry.pack()\n",
    "\n",
    "exit = Button(root,text=\"Exit\",command=quit)\n",
    "exit.pack()\n",
    "\n",
    "root.mainloop()"
   ]
  },
  {
   "cell_type": "markdown",
   "metadata": {},
   "source": [
    "The above code generated the following output:\n",
    "\n",
    "![title](assets/images/1-gui-intro-1.jpg)"
   ]
  },
  {
   "cell_type": "markdown",
   "metadata": {},
   "source": [
    "## Introduction to tkinter"
   ]
  },
  {
   "cell_type": "markdown",
   "metadata": {},
   "source": [
    "The interface is provided through a number of Python modules. The most important interface module is the Tkinter module itself. To use Tkinter, all you need to do is to import the Tkinter module:"
   ]
  },
  {
   "cell_type": "code",
   "execution_count": 4,
   "metadata": {},
   "outputs": [],
   "source": [
    "import tkinter"
   ]
  },
  {
   "cell_type": "markdown",
   "metadata": {},
   "source": [
    "Or, most often as:"
   ]
  },
  {
   "cell_type": "code",
   "execution_count": 5,
   "metadata": {},
   "outputs": [],
   "source": [
    "from tkinter import *"
   ]
  },
  {
   "cell_type": "markdown",
   "metadata": {},
   "source": [
    "The Tkinter module only exports widget classes and associated constants but you will still have to import sub-modules. If you prefer not to, but still want to save some typing, you can use import-as:"
   ]
  },
  {
   "cell_type": "code",
   "execution_count": 6,
   "metadata": {},
   "outputs": [],
   "source": [
    "import tkinter as tk"
   ]
  },
  {
   "cell_type": "markdown",
   "metadata": {},
   "source": [
    "## Hello from tkinter!"
   ]
  },
  {
   "cell_type": "markdown",
   "metadata": {},
   "source": [
    "Let's just make a basic \"Hello World\"-ish example to start with."
   ]
  },
  {
   "cell_type": "code",
   "execution_count": 13,
   "metadata": {},
   "outputs": [],
   "source": [
    "from tkinter import *\n",
    "\n",
    "root = Tk()\n",
    "\n",
    "a = Label(root, text=\"Hello Newbies!\")\n",
    "a.pack()\n",
    "\n",
    "root.mainloop()"
   ]
  },
  {
   "cell_type": "markdown",
   "metadata": {},
   "source": [
    "### What the hell just happened?"
   ]
  },
  {
   "cell_type": "markdown",
   "metadata": {},
   "source": [
    "We first import the Tkinter module which contains all the functions, classes and other things required to work with the Tk toolkit.\n",
    "\n",
    "Here, we simply import everything from Tkinter into our program's namespace:\n",
    "\n",
    "\n",
    "<code>from tkinter import *</code>\n",
    "\n",
    "We have to create a Tk root widget which is the main window or main widget. This is just an ordinary window, with a title bar and other stuff that's generally in a window. You should only create one root widget for each program i.e there can only be one main widget, and it must be created before any other widgets.\n",
    "\n",
    "In this case, we create the main window as root:\n",
    "\n",
    "\n",
    "<code>root = Tk()</code>\n",
    "\n",
    "A Label widget can display either text or an icon or other image. In this case, we use the text option of the Label widget to specify which text to display. \n",
    "\n",
    "Next, we create a Label widget as a child to the root window we just created and name it as \"a\":\n",
    "\n",
    "<code>a = Label(root, text=\"Hello Newbies!\")</code>\n",
    "\n",
    "Next, we call the pack method on this widget. This tells the \"a\" to size itself to fit the given text, and make itself visible.\n",
    "As the name suggests, the pack() packs the Label \"a\" into the root widget i.e. drawing the defined Label \"a\" into the window:\n",
    "\n",
    "<code>a.pack()</code>\n",
    "\n",
    "However, the window won’t appear until we’ve entered the Tkinter event loop:\n",
    "\n",
    "<code>root.mainloop()</code>\n",
    "\n",
    "The program will stay in the event loop until we close the window.\n",
    "\n",
    "#### What's an event loop?\n",
    "The event loop is an infinite loop during which the Tkinter module handle events from the user (such as mouse clicks and key presses), the windowing system (such as redraw events and window configuration messages) and it also handle operations queued by Tkinter itself. This also means that the application window will not appear before you enter the main loop.\n",
    "\n",
    "The loop is broken after you close the window or if any exit command is passed"
   ]
  },
  {
   "cell_type": "markdown",
   "metadata": {},
   "source": [
    "## Hello, but in an Advanced OOP way!"
   ]
  },
  {
   "cell_type": "markdown",
   "metadata": {},
   "source": [
    "Since python also supports object oriented approach, as the programs becomes larger, it's a good idea to wrap up our code in one or more classes. Here's an example of a \"Hello Newbies\" program in an Object Oriented way:\n",
    "    "
   ]
  },
  {
   "cell_type": "code",
   "execution_count": 14,
   "metadata": {},
   "outputs": [],
   "source": [
    "from tkinter import *\n",
    "\n",
    "class App:\n",
    "    \n",
    "    def __init__(self, master):\n",
    "        frame = Frame(master)\n",
    "        frame.pack()\n",
    "\n",
    "        self.button = Button(frame, text=\"QUIT\", fg=\"red\", command=master.destroy)\n",
    "        self.button.pack(side=LEFT)\n",
    "\n",
    "        self.hi_there = Button(frame, text=\"Say Hello\", command=self.hello)\n",
    "        self.hi_there.pack(side=LEFT)\n",
    "    \n",
    "    def hello(self):\n",
    "        print(\"Hello Newbies!\")\n",
    "        \n",
    "root = Tk()\n",
    "app = App(root)\n",
    "root.mainloop()"
   ]
  },
  {
   "cell_type": "markdown",
   "metadata": {},
   "source": [
    "### What's different now?"
   ]
  },
  {
   "cell_type": "markdown",
   "metadata": {},
   "source": [
    "This above application is written as a class. The constructor (the __init__ method) is called with a parent widget (the master), to which it adds a number of child widgets. The constructor starts by creating a Frame widget. A frame is just a simple container, and is in this case only used to hold the other two widgets (the two buttons).\n",
    "\n",
    "<code>\n",
    "class App:\n",
    "    def __init__(self, master):\n",
    "        frame = Frame(master)\n",
    "        frame.pack()\n",
    "</code>\n",
    "\n",
    "The Frame instance is stored in a local variable called frame. After creating the widget, we immediately call the pack method to make the frame visible.\n",
    "\n",
    "We then create two Button widgets, as children to the frame.\n",
    "\n",
    "<code>\n",
    "self.button = Button(frame, text=\"QUIT\", fg=\"red\", command=frame.quit)\n",
    "self.button.pack(side=LEFT)\n",
    "\n",
    "self.hi_there = Button(frame, text=\"Say Hello\", command=self.say_hi)\n",
    "self.hi_there.pack(side=LEFT)\n",
    "</code>\n",
    "\n",
    "This time, we pass a number of options to the constructor, as keyword arguments. The first button is labelled “QUIT”, and it's made red using <i>fg=\"red\"</i> (fg is short for foreground). The second is labelled “Hello”. Both buttons also take a command option. This option specifies a function which will be called when the button is clicked.\n",
    "\n",
    "The button instances are stored in instance attributes. They are both packed, but this time with the <i>side=LEFT</i> argument. This means that they will be placed as far left as possible in the frame; the first button is placed at the frame’s left edge, and the second is placed just to the right of the first one (at the left edge of the remaining space in the frame). By default, widgets are packed relative to their parent (which is master for the frame widget, and the frame itself for the buttons). If the side is not given, it defaults to TOP.\n",
    "\n",
    "The “hello” button callback is given next. It simply prints a message to the console everytime the button is pressed:\n",
    "\n",
    "<code>\n",
    "def hello(self):\n",
    "    print(\"Hello Newbies!)\"\n",
    "</code>\n",
    "\n",
    "Finally, we provide some code that creates a Tk <i>root</i> widget, and one instance of the <i>App</i> class using the root widget as its parent:\n",
    "\n",
    "<code>\n",
    "root = Tk()\n",
    "app = App(root)\n",
    "root.mainloop()\n",
    "</code>\n",
    "\n",
    "The mainloop call enters the Tk event loop, in which the application will stay until the quit method is called (just click the QUIT button), or the window is closed."
   ]
  },
  {
   "cell_type": "markdown",
   "metadata": {},
   "source": [
    "## About Widget classes"
   ]
  },
  {
   "cell_type": "markdown",
   "metadata": {},
   "source": [
    "<i>Widgets</i> are standard graphical user interface (GUI) elements, like different kinds of buttons and menus.\n",
    "There are core 14 widget classes in Tkinter:\n",
    "<ol>\n",
    "    <li>Button</li>\n",
    "    <li>Canvas</li>\n",
    "    <li>Checkbutton</li>\n",
    "    <li>Entry</li>\n",
    "    <li>Frame</li>\n",
    "    <li>Label</li>\n",
    "    <li>Listbox</li>\n",
    "    <li>Menu</li>\n",
    "    <li>Message</li>\n",
    "    <li>Radiobutton</li>\n",
    "    <li>Scale</li>\n",
    "    <li>Scrollbar</li>\n",
    "    <li>Text</li>\n",
    "    <li>Toplevel</li>\n",
    "</ol>\n",
    "\n",
    "Now we will just discuss about the basics of each widget and not go very deep into each widget as it is out of the scope of this workshop:"
   ]
  },
  {
   "cell_type": "markdown",
   "metadata": {},
   "source": [
    "### Button\n",
    "\n",
    "The Button widget can be used to display buttons in our application which can be used to execute commands or other operations."
   ]
  },
  {
   "cell_type": "code",
   "execution_count": 20,
   "metadata": {},
   "outputs": [],
   "source": [
    "from tkinter import *\n",
    "\n",
    "parent_widget = Tk()\n",
    "\n",
    "button_widget = Button(parent_widget, text=\"A Button\")\n",
    "button_widget.pack()\n",
    "\n",
    "parent_widget.mainloop()"
   ]
  },
  {
   "cell_type": "markdown",
   "metadata": {},
   "source": [
    "### Canvas\n",
    "\n",
    "The Canvas widget is used to draw shapes, such as lines, ovals, polygons and rectangles, in our application. This widget can be used to draw graphs and plots, create graphics editors, and to implement custom widgets.\n",
    "\n",
    "The Canvas widget supports the following standard items:\n",
    "<ul>\n",
    "    <li>arc (arc, chord, or pieslice)</li>\n",
    "    <li>bitmap (built-in or read from XBM file)</li>\n",
    "    <li>image (a BitmapImage or PhotoImage instance)</li>\n",
    "    <li>line</li>\n",
    "    <li>oval (a circle or an ellipse)</li>\n",
    "    <li>polygon</li>\n",
    "    <li>rectangle</li>\n",
    "    <li>text</li>\n",
    "    <li>window</li>\n",
    "</ul>\n",
    "\n",
    "Below is a canvas widget where a line item gets drawn from corrdinates (50,50) to (200,10):"
   ]
  },
  {
   "cell_type": "code",
   "execution_count": 45,
   "metadata": {},
   "outputs": [],
   "source": [
    "from tkinter import *\n",
    "\n",
    "parent_widget = Tk()\n",
    "\n",
    "canvas_widget = Canvas(parent_widget, bg=\"blue\", width=500, height= 500)\n",
    "canvas_widget.pack()\n",
    "\n",
    "canvas_widget.create_line(50, 50, 100, 100)\n",
    "\n",
    "parent_widget.mainloop()"
   ]
  },
  {
   "cell_type": "markdown",
   "metadata": {},
   "source": [
    "### Checkbutton\n",
    "\n",
    "A Checkbutton records on/off or true/false status. Like a Radiobutton, a Checkbutton widget can be displayed without its check mark, and you need to use a Tkinter variable to access its state. By default the vaule is 1 if checked and 0 if unchecked. You can use a get() function to get the user provided value of this widget."
   ]
  },
  {
   "cell_type": "code",
   "execution_count": 49,
   "metadata": {},
   "outputs": [],
   "source": [
    "from tkinter import *\n",
    "\n",
    "parent_widget = Tk()\n",
    "\n",
    "checkbutton_widget = Checkbutton(parent_widget, text=\"Checkbutton\")\n",
    "checkbutton_widget.pack()\n",
    "\n",
    "parent_widget.mainloop()"
   ]
  },
  {
   "cell_type": "markdown",
   "metadata": {},
   "source": [
    "### Entry\n",
    "\n",
    "The Entry widget is used to display a single-line text field for accepting values from a user. You can use a get() function to get the user provided value of this widget and insert() function to enter a value manually."
   ]
  },
  {
   "cell_type": "code",
   "execution_count": 50,
   "metadata": {},
   "outputs": [],
   "source": [
    "from tkinter import  *\n",
    "\n",
    "parent_widget = Tk()\n",
    "entry_widget = Entry(parent_widget)\n",
    "entry_widget.insert(0, \"Type your text here\")\n",
    "entry_widget.pack()\n",
    "\n",
    "parent_widget.mainloop()"
   ]
  },
  {
   "cell_type": "markdown",
   "metadata": {},
   "source": [
    "### Frame\n",
    "The Frame widget is used as a container widget to organize other widgets.  The frame can have a border and a background, and is used to group other widgets when creating an application or dialog layout."
   ]
  },
  {
   "cell_type": "code",
   "execution_count": 53,
   "metadata": {},
   "outputs": [],
   "source": [
    "from tkinter import *\n",
    "\n",
    "master = Tk()\n",
    "\n",
    "Label(text=\"one\").pack()\n",
    "\n",
    "separator = Frame(height=2, bd=1, relief=SUNKEN)\n",
    "separator.pack(fill=X, padx=5, pady=5)\n",
    "\n",
    "Label(text=\"two\").pack()\n",
    "\n",
    "master.mainloop()"
   ]
  },
  {
   "cell_type": "markdown",
   "metadata": {},
   "source": [
    "### Label\n",
    "The Label widget is used to provide a single-line caption for other widgets. It can also contain images. You can update the widget programmatically, for example, to provide a readout or status bar."
   ]
  },
  {
   "cell_type": "code",
   "execution_count": 55,
   "metadata": {},
   "outputs": [],
   "source": [
    "import tkinter as tk\n",
    "\n",
    "parent_widget = tk.Tk()\n",
    "\n",
    "label_widget = tk.Label(parent_widget, text=\"This is a Label\")\n",
    "label_widget.pack()\n",
    "\n",
    "tk.mainloop()"
   ]
  },
  {
   "cell_type": "markdown",
   "metadata": {},
   "source": [
    "### Listbox\n",
    "The Listbox widget is used to provide a list of options to a user and lets the user choose from one set of options."
   ]
  },
  {
   "cell_type": "code",
   "execution_count": 59,
   "metadata": {},
   "outputs": [],
   "source": [
    "import tkinter\n",
    "\n",
    "parent_widget = tkinter.Tk()\n",
    "\n",
    "listbox_entries = [\"Entry 1\", \"Entry 2\", \"Entry 3\", \"Entry 4\"]\n",
    "\n",
    "listbox_widget = tkinter.Listbox(parent_widget)\n",
    "\n",
    "for entry in listbox_entries:\n",
    "    listbox_widget.insert(tkinter.END, entry)\n",
    "\n",
    "listbox_widget.pack()\n",
    "\n",
    "tkinter.mainloop()"
   ]
  },
  {
   "cell_type": "markdown",
   "metadata": {},
   "source": [
    "### Menu\n",
    "\n",
    "The Menu widget can create a menu bar.  Used to implement pulldown and popup menus. Creating menus can be hard, especially if you want drop-down menus. To do that, you use a separate Menu widget for each drop-down menu you’re creating."
   ]
  },
  {
   "cell_type": "code",
   "execution_count": 17,
   "metadata": {},
   "outputs": [],
   "source": [
    "from tkinter import *\n",
    "\n",
    "parent_widget = Tk()\n",
    "\n",
    "def menu_callback():\n",
    "    print(\"I'm in the menu callback!\")\n",
    "\n",
    "def submenu_callback():\n",
    "    print(\"I'm in the submenu callback!\")\n",
    "\n",
    "menu_widget = Menu(parent_widget)\n",
    "\n",
    "submenu_widget = Menu(menu_widget, tearoff=False)\n",
    "submenu_widget.add_command(label=\"Submenu Item1\", command=submenu_callback)\n",
    "submenu_widget.add_command(label=\"Submenu Item2\", command=submenu_callback)\n",
    "menu_widget.add_cascade(label=\"Item1\", menu=submenu_widget)\n",
    "\n",
    "submenu_widget2 = Menu(menu_widget, tearoff=True)\n",
    "submenu_widget2.add_command(label=\"Submenu2 Item1\", command=submenu_callback)\n",
    "submenu_widget2.add_command(label=\"Submenu2 Item2\", command=submenu_callback)\n",
    "menu_widget.add_cascade(label=\"Item2\", menu=submenu_widget2)\n",
    "\n",
    "menu_widget.add_command(label=\"Item3\", command=menu_callback)\n",
    "\n",
    "parent_widget.config(menu=menu_widget)\n",
    "\n",
    "parent_widget.mainloop()"
   ]
  },
  {
   "cell_type": "markdown",
   "metadata": {},
   "source": [
    "### Message\n",
    "\n",
    "The Message widget is a variant of the Label, designed to display multiline messages. The message widget can wrap text, and adjust its width to maintain a given aspect ratio."
   ]
  },
  {
   "cell_type": "code",
   "execution_count": 1,
   "metadata": {},
   "outputs": [],
   "source": [
    "from tkinter import *\n",
    "\n",
    "master = Tk()\n",
    "\n",
    "w = Message(master, text=\"this is a message\", width=10)\n",
    "w.pack()\n",
    "\n",
    "master.mainloop()"
   ]
  },
  {
   "cell_type": "markdown",
   "metadata": {},
   "source": [
    "### Radiobutton\n",
    "\n",
    "A Radiobutton lets you put buttons together, so that only one of them can be clicked. If one button is on and the user clicks another, the first is set to off."
   ]
  },
  {
   "cell_type": "code",
   "execution_count": 38,
   "metadata": {},
   "outputs": [],
   "source": [
    "from tkinter import *\n",
    "\n",
    "master = Tk()\n",
    "\n",
    "v = IntVar()\n",
    "\n",
    "Radiobutton(master, text=\"One\", variable=v, value=1).pack(anchor=W)\n",
    "Radiobutton(master, text=\"Two\", variable=v, value=2).pack(anchor=W)\n",
    "\n",
    "master.mainloop()"
   ]
  },
  {
   "cell_type": "markdown",
   "metadata": {},
   "source": [
    "### Scale\n",
    "\n",
    "The Scale widget allows you to set a numerical value by dragging a “slider”. You can use a get() function to get the user provided value of this widget."
   ]
  },
  {
   "cell_type": "code",
   "execution_count": 42,
   "metadata": {},
   "outputs": [],
   "source": [
    "from tkinter import *\n",
    "\n",
    "master = Tk()\n",
    "\n",
    "w = Scale(master, from_=0, to=100)\n",
    "w.pack()\n",
    "\n",
    "wh = Scale(master, from_=0, to=200, orient=HORIZONTAL)\n",
    "wh.pack()\n",
    "\n",
    "master.mainloop()"
   ]
  },
  {
   "cell_type": "markdown",
   "metadata": {},
   "source": [
    "### Scrollbar\n",
    "\n",
    "The Scrollbar widget is used to add scrolling capability to various widgets, such as list boxes.\n",
    "\n",
    "The Scrollbar widget is almost always used in with a Listbox, Canvas, or Text widget. Horizontal scrollbars can also be used with the Entry widget.\n",
    "\n",
    "To connect a vertical scrollbar to such a widget, you have to do two things:\n",
    "1. Set the widget’s <b>yscrollcommand</b> callbacks to the set method of the scrollbar.\n",
    "\n",
    "2. Set the scrollbar’s <b>command</b> to the <b>yview</b> method of the widget."
   ]
  },
  {
   "cell_type": "code",
   "execution_count": 45,
   "metadata": {},
   "outputs": [],
   "source": [
    "from tkinter import *\n",
    "\n",
    "root = Tk()\n",
    "\n",
    "scrollbar = Scrollbar(root)\n",
    "scrollbar.pack(side=RIGHT, fill=Y)\n",
    "\n",
    "listbox = Listbox(root, yscrollcommand=scrollbar.set)\n",
    "for i in range(1000):\n",
    "    listbox.insert(END, str(i))\n",
    "listbox.pack(side=LEFT, fill=BOTH)\n",
    "\n",
    "scrollbar.config(command=listbox.yview)\n",
    "\n",
    "root.mainloop()"
   ]
  },
  {
   "cell_type": "markdown",
   "metadata": {},
   "source": [
    "### Text\n",
    "\n",
    "The Text widget provides formatted text display. It allows you to display and edit text with various styles and attributes. The widget also supports embedded images and windows.\n",
    "\n",
    "The text widget is an advanced form of Entry and Label and has vast number of attributes. So we will not no much in detail of this attribute"
   ]
  },
  {
   "cell_type": "code",
   "execution_count": 47,
   "metadata": {},
   "outputs": [],
   "source": [
    "from tkinter import *\n",
    "\n",
    "root = Tk()\n",
    "text = Text(root)\n",
    "text.insert(INSERT, \"Hello.....\")\n",
    "text.insert(END, \"Bye Bye.....\")\n",
    "text.pack()\n",
    "\n",
    "text.tag_add(\"here\", \"1.0\", \"1.4\")\n",
    "text.tag_add(\"start\", \"1.8\", \"1.13\")\n",
    "text.tag_config(\"here\", background=\"yellow\", foreground=\"blue\")\n",
    "text.tag_config(\"start\", background=\"black\", foreground=\"green\")\n",
    "\n",
    "root.mainloop()"
   ]
  },
  {
   "cell_type": "markdown",
   "metadata": {},
   "source": [
    "### Toplevel\n",
    "\n",
    "The Toplevel widget work pretty much like Frame, but it is displayed in a separate, top-level window. Such windows usually have title bars, borders, and other “window decorations”."
   ]
  },
  {
   "cell_type": "code",
   "execution_count": 54,
   "metadata": {},
   "outputs": [],
   "source": [
    "from tkinter import *\n",
    "\n",
    "root = Tk()\n",
    "\n",
    "Label(root, text=\"This is root window\").pack()\n",
    "\n",
    "top = Toplevel()\n",
    "top.title(\"About this application...\")\n",
    "\n",
    "msg = Message(top, text=\"Demo Toplevel application\")\n",
    "msg.pack()\n",
    "\n",
    "button = Button(top, text=\"Dismiss\", command=top.destroy)\n",
    "button.pack()\n",
    "\n",
    "root.mainloop()"
   ]
  },
  {
   "cell_type": "markdown",
   "metadata": {},
   "source": [
    "## Widget configuration and styling"
   ]
  },
  {
   "cell_type": "markdown",
   "metadata": {},
   "source": [
    "## Widget Configuration\n",
    "\n",
    "To control the appearance of a widget, we usually use options rather than method calls. Typical options include text and color, size, command callbacks, etc. To deal with options, all core widgets have the same way of configuration:\n",
    "\n",
    "<code>widgetclass(master, option=value, …)t</code>\n",
    "\n",
    "For example:\n",
    "\n",
    "<code>\n",
    "customlabel = Label(parent, text=\"Hello\", fg=\"white\", bg=\"red\", font=\"Arial\", padx=10, pady=10)\n",
    "</code>\n",
    "\n",
    "The above syntax is used to configure a widget while it's being made, but in order to update a widget after it has been defined and packed, we use the config() method.\n",
    "\n",
    "<code>config(option=value, …)</code>\n",
    "<code>configure(option=value, …)</code>\n",
    "\n",
    "For example:\n",
    "<code>\n",
    "customlabel = Label(parent, text=\"Hello\", fg=\"white\", bg=\"red\", font=\"Arial\", padx=10, pady=10)\n",
    "customlabel.pack()\n",
    "customlabel.config(text=\"Hi there\", fg=\"black\")\n",
    "</code>"
   ]
  },
  {
   "cell_type": "markdown",
   "metadata": {},
   "source": [
    "## Widget Styling\n",
    "\n",
    "All the widgets of tkinter have some basic set of styling options which allows us to style the widget according to our need.\n",
    "\n",
    "Some basic styling options:\n",
    "\n",
    "### Colors\n",
    "\n",
    "Most widgets allow you to specify the widget and text colors, using the background and foreground options. To specify a color, you can either use a color name, or explicitly specify the red, green, and blue (RGB) color components.\n",
    "\n",
    "#### Color Names you can use\n",
    "Tkinter includes a color database which maps color names to the corresponding RGB values. This database includes common names like red, green, blue, yellow, and light blue etc.\n",
    "\n",
    "This link leads you to the color chart containing all available colors in tkinter\n",
    "<a>http://www.science.smith.edu/dftwiki/index.php/Color_Charts_for_TKinter</a>\n",
    "\n",
    "If you need to explicitly specify a color, you can use a string with the following format:\n",
    "#RRGGBB\n",
    "\n",
    "RR, GG, BB are hexadecimal representations of the red, green and blue values, respectively.\n",
    "\n",
    "### Fonts \n",
    "Widgets that allow you to display text in one way or another also allows you to specify which font to use. All widgets provide reasonable default values, and you seldom have to specify the font for simpler elements like labels and buttons.\n",
    "\n",
    "Fonts are usually specifed using the font widget option. Tkinter supports a number of different font descriptor types:\n",
    "\n",
    "    Font descriptors\n",
    "\n",
    "    User-defined font names\n",
    "\n",
    "    System fonts\n",
    "\n",
    "    X font descriptors\n",
    "\n",
    "#### Font descriptors \n",
    "Starting with Tk 8.0, Tkinter supports platform independent font descriptors. You can specify a font as tuple containing a family name, a height in points, and optionally a string with one or more styles. Examples:\n",
    "\n",
    "(\"Times\", 10, \"bold\")\n",
    "\n",
    "(\"Helvetica\", 10, \"bold italic\")\n",
    "\n",
    "(\"Symbol\", 8)\n",
    "\n",
    "To get the default size and style, you can give the font name as a single string. If the family name doesn’t include spaces, you can also add size and styles to the string itself:\n",
    "\n",
    "\"Times 10 bold\"\n",
    "\"Helvetica 10 bold italic\"\n",
    "\"Symbol 8\"\n",
    "Here are some families available on most Windows platforms:\n",
    "\n",
    "Arial (corresponds to Helvetica), Courier New (Courier), Comic Sans MS, Fixedsys, MS Sans Serif, MS Serif, Symbol, System, Times New Roman (Times), and Verdana:\n",
    "\n",
    "Note that if the family name contains spaces, you must use the tuple syntax described above.\n",
    "\n",
    "The available styles are normal, bold, roman, italic, underline, and overstrike.\n",
    "\n",
    "#### Font names \n",
    "In addition, Tk 8.0 allows you to create named fonts and use their names when specifying fonts to the widgets.\n",
    "\n",
    "The tkFont module provides a Font class which allows you to create font instances. You can use such an instance everywhere Tkinter accepts a font specifier. You can also use a font instance to get font metrics, including the size occupied by a given string written in that font.\n",
    "\n",
    " \n",
    "tkFont.Font(family=\"Times\", size=10, weight=tkFont.BOLD)\n",
    "tkFont.Font(family=\"Helvetica\", size=10, weight=tkFont.BOLD,\n",
    "            slant=tkFont.ITALIC)\n",
    "tkFont.Font(family=\"Symbol\", size=8)\n",
    "If you modify a named font (using the config method), the changes are automatically propagated to all widgets using the font.\n",
    "\n",
    "The Font constructor supports the following style options (note that the constants are defined in the tkFont module):\n",
    "\n",
    "##### family\n",
    "Font family.\n",
    "\n",
    "##### size\n",
    "Font size in points. To give the size in pixels, use a negative value.\n",
    "\n",
    "##### weight\n",
    "Font thickness. Use one of NORMAL or BOLD. Default is NORMAL.\n",
    "\n",
    "##### slant\n",
    "Font slant. Use one of NORMAL or ITALIC. Default is NORMAL.\n",
    "\n",
    "##### underline\n",
    "Font underlining. If 1 (true), the font is underlined. Default is 0 (false).\n",
    "\n",
    "##### overstrike\n",
    "Font strikeout. If 1 (true), a line is drawn over text written with this font. Default is 0 (false).\n",
    "\n",
    "\n",
    "### Text Formatting \n",
    "While text labels and buttons usually contain a single line of text, Tkinter also supports multiple lines. To split the text across lines, simply insert newline characters (\\n) where necessary.\n",
    "\n",
    "By default, the lines are centered. You can change this by setting the justify option to LEFT or RIGHT. The default value is CENTER.\n",
    "\n",
    "You can also use the wraplength option to set a maximum width, and let the widget wrap the text over multiple lines all by itself. Tkinter attempts to wrap on whitespace, but if the widget is too narrow, it may break individual words across lines.\n",
    "\n",
    "### Borders\n",
    "All Tkinter widgets have a border (though it’s not visible by default for some widgets). The border consists of an optional 3D relief, and a focus highlight region.\n",
    "\n",
    "#### Relief\n",
    "The relief settings control how to draw the widget border:\n",
    "\n",
    "##### borderwidth (or bd)\n",
    "This is the width of the border, in pixels. Most widgets have a default borderwidth of one or two pixels. There’s hardly any reason to make the border wider than that.\n",
    "\n",
    "##### relief\n",
    "This option controls how to draw the 3D border. It can be set to one of SUNKEN, RAISED, GROOVE, RIDGE, and FLAT.\n",
    "\n"
   ]
  },
  {
   "cell_type": "code",
   "execution_count": null,
   "metadata": {},
   "outputs": [],
   "source": []
  }
 ],
 "metadata": {
  "kernelspec": {
   "display_name": "Python 3",
   "language": "python",
   "name": "python3"
  },
  "language_info": {
   "codemirror_mode": {
    "name": "ipython",
    "version": 3
   },
   "file_extension": ".py",
   "mimetype": "text/x-python",
   "name": "python",
   "nbconvert_exporter": "python",
   "pygments_lexer": "ipython3",
   "version": "3.7.1"
  }
 },
 "nbformat": 4,
 "nbformat_minor": 2
}

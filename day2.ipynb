{
 "cells": [
  {
   "cell_type": "markdown",
   "metadata": {},
   "source": [
    "# Flow Control in Python"
   ]
  },
  {
   "cell_type": "markdown",
   "metadata": {},
   "source": [
    "## Conditional Statements"
   ]
  },
  {
   "cell_type": "markdown",
   "metadata": {},
   "source": [
    "## if statement"
   ]
  },
  {
   "cell_type": "markdown",
   "metadata": {},
   "source": [
    "## example"
   ]
  },
  {
   "cell_type": "code",
   "execution_count": 7,
   "metadata": {},
   "outputs": [
    {
     "name": "stdin",
     "output_type": "stream",
     "text": [
      "a:- 2\n",
      "b:- 1\n"
     ]
    },
    {
     "name": "stdout",
     "output_type": "stream",
     "text": [
      "a is greater than b\n"
     ]
    }
   ],
   "source": [
    "a=input(\"a:-\")\n",
    "b=input(\"b:-\")\n",
    "if a>b:\n",
    "    print(\"a is greater than b\")"
   ]
  },
  {
   "cell_type": "markdown",
   "metadata": {},
   "source": [
    "Note: 1)you should not forget to write (:) after if statements.<br>\n",
    "      2)you must take care of the indentation as it plays great role in python. "
   ]
  },
  {
   "cell_type": "markdown",
   "metadata": {},
   "source": [
    "### Indentation importance "
   ]
  },
  {
   "cell_type": "code",
   "execution_count": 3,
   "metadata": {},
   "outputs": [
    {
     "ename": "IndentationError",
     "evalue": "expected an indented block (<ipython-input-3-627bb96c10e2>, line 2)",
     "output_type": "error",
     "traceback": [
      "\u001b[1;36m  File \u001b[1;32m\"<ipython-input-3-627bb96c10e2>\"\u001b[1;36m, line \u001b[1;32m2\u001b[0m\n\u001b[1;33m    print(\"1 is greater than 0\")  ## here the indentation of the print statement is not proper\u001b[0m\n\u001b[1;37m        ^\u001b[0m\n\u001b[1;31mIndentationError\u001b[0m\u001b[1;31m:\u001b[0m expected an indented block\n"
     ]
    }
   ],
   "source": [
    "if (1>0): \n",
    "print(\"1 is greater than 0\")  ## here the indentation of the print statement is not proper\n",
    " ## statements that are to be executed when the condition is true should be kept inside the if statement."
   ]
  },
  {
   "cell_type": "code",
   "execution_count": 92,
   "metadata": {},
   "outputs": [
    {
     "name": "stdout",
     "output_type": "stream",
     "text": [
      "1 is greater than 0\n"
     ]
    }
   ],
   "source": [
    "if (1>0):\n",
    "    print(\"1 is greater than 0\")"
   ]
  },
  {
   "cell_type": "markdown",
   "metadata": {},
   "source": [
    "## else statements"
   ]
  },
  {
   "cell_type": "markdown",
   "metadata": {},
   "source": [
    "## example"
   ]
  },
  {
   "cell_type": "code",
   "execution_count": 13,
   "metadata": {},
   "outputs": [
    {
     "name": "stdin",
     "output_type": "stream",
     "text": [
      "a:- 1\n",
      "b:- 2\n"
     ]
    },
    {
     "name": "stdout",
     "output_type": "stream",
     "text": [
      "2 is greater than 1\n"
     ]
    }
   ],
   "source": [
    "a=input(\"a:-\")\n",
    "b=input(\"b:-\")\n",
    "if a>b:\n",
    "    print(f\"{a} is greater than {b}\")\n",
    "else:\n",
    "    print(f\"{b} is greater than {a}\")\n",
    "    "
   ]
  },
  {
   "cell_type": "markdown",
   "metadata": {},
   "source": [
    "## PROGRAM TO CHECK WHETHER THE STRING IS PALINDROME OR NOT"
   ]
  },
  {
   "cell_type": "code",
   "execution_count": 180,
   "metadata": {},
   "outputs": [
    {
     "name": "stdout",
     "output_type": "stream",
     "text": [
      "palindrome\n"
     ]
    }
   ],
   "source": [
    "str1 = 'noon'\n",
    "st =\"\".join(reversed(str1))    \n",
    "str1=str1.lower();st=st.lower()\n",
    "if(str1==st):\n",
    "    print(\"palindrome\")\n",
    "else:\n",
    "    print(\"not a palindrome\")"
   ]
  },
  {
   "cell_type": "markdown",
   "metadata": {},
   "source": [
    "## inline if "
   ]
  },
  {
   "cell_type": "markdown",
   "metadata": {},
   "source": [
    "## example"
   ]
  },
  {
   "cell_type": "code",
   "execution_count": 181,
   "metadata": {},
   "outputs": [
    {
     "name": "stdout",
     "output_type": "stream",
     "text": [
      "a:-1\n",
      "b:-2\n",
      "2 is greater than 1\n"
     ]
    }
   ],
   "source": [
    "a=input(\"a:-\")\n",
    "b=input(\"b:-\")\n",
    "           #true                                    #false\n",
    "print(f\"{a} is greater than {b}\" if a>b else f\"{b} is greater than {a}\")"
   ]
  },
  {
   "cell_type": "markdown",
   "metadata": {},
   "source": [
    "## example"
   ]
  },
  {
   "cell_type": "code",
   "execution_count": 182,
   "metadata": {},
   "outputs": [
    {
     "name": "stdout",
     "output_type": "stream",
     "text": [
      "a:-1\n",
      "b:-2\n",
      "2 is greater than 1\n"
     ]
    }
   ],
   "source": [
    "a=input(\"a:-\")\n",
    "b=input(\"b:-\")\n",
    "            #false                       #true\n",
    "print((f\"{b} is greater than {a}\",f\"{a} is greater than {b}\") [a>b])\n",
    "       "
   ]
  },
  {
   "cell_type": "markdown",
   "metadata": {},
   "source": [
    "## elif statements"
   ]
  },
  {
   "cell_type": "markdown",
   "metadata": {},
   "source": [
    "## example"
   ]
  },
  {
   "cell_type": "code",
   "execution_count": 178,
   "metadata": {},
   "outputs": [
    {
     "name": "stdout",
     "output_type": "stream",
     "text": [
      "a:-1\n",
      "b:-1\n",
      "1 is equals to 1\n"
     ]
    }
   ],
   "source": [
    "a=input(\"a:-\")\n",
    "b=input(\"b:-\")\n",
    "if a>b:\n",
    "    print(f\"{a} is greater than {b}\")\n",
    "elif b>a:\n",
    "    print(f\"{b} is greater than {a}\")\n",
    "else:\n",
    "    print(f\"{a} is equals to {b}\")"
   ]
  },
  {
   "cell_type": "markdown",
   "metadata": {},
   "source": [
    "## Nested if statements"
   ]
  },
  {
   "cell_type": "markdown",
   "metadata": {},
   "source": [
    "if statement inside another if statement is known as nested if statement"
   ]
  },
  {
   "cell_type": "markdown",
   "metadata": {},
   "source": [
    "## example"
   ]
  },
  {
   "cell_type": "code",
   "execution_count": 179,
   "metadata": {},
   "outputs": [
    {
     "name": "stdout",
     "output_type": "stream",
     "text": [
      "a:-1\n",
      "b:-1\n",
      "c:-1\n",
      "1 is equals to 1 is equals to 1\n"
     ]
    }
   ],
   "source": [
    "a=input(\"a:-\")\n",
    "b=input(\"b:-\")\n",
    "c=input(\"c:-\")\n",
    "if a>b:\n",
    "    if a>c:\n",
    "        print(f\"{a} is greatest\")\n",
    "elif b>a:\n",
    "    if b>c:\n",
    "        print(f\"{b} is greatest\")\n",
    "elif c>a:\n",
    "    if c>b:\n",
    "        print(f\"{c} is greatest\")\n",
    "else:\n",
    "    print(f\"{a} is equals to {b} is equals to {c}\")"
   ]
  },
  {
   "cell_type": "markdown",
   "metadata": {},
   "source": [
    "# Looping Statements"
   ]
  },
  {
   "cell_type": "markdown",
   "metadata": {},
   "source": [
    "## for statement"
   ]
  },
  {
   "cell_type": "markdown",
   "metadata": {},
   "source": [
    "for statement executes the statement inside it for user specified times"
   ]
  },
  {
   "cell_type": "markdown",
   "metadata": {},
   "source": [
    "Here we use a built-in function range() to specify the how many times the statements is to be executed"
   ]
  },
  {
   "cell_type": "code",
   "execution_count": 16,
   "metadata": {},
   "outputs": [
    {
     "name": "stdout",
     "output_type": "stream",
     "text": [
      "i= 0\n",
      "i= 2\n",
      "i= 4\n",
      "i= 6\n",
      "i= 8\n",
      "i= 10\n",
      "i= 12\n",
      "i= 14\n",
      "i= 16\n",
      "i= 18\n",
      "i= 20\n"
     ]
    }
   ],
   "source": [
    "## print even numbers from 0 to 20\n",
    "for i in range(0,21,2): ## range(initial,final+1,step)\n",
    "    print(\"i=\",i)       ##here value of i increases by 2 from 0 to 20"
   ]
  },
  {
   "cell_type": "code",
   "execution_count": 3,
   "metadata": {},
   "outputs": [
    {
     "name": "stdout",
     "output_type": "stream",
     "text": [
      "Hello python\n",
      "i= 0\n",
      "Hello python\n",
      "i= 1\n",
      "Hello python\n",
      "i= 2\n",
      "Hello python\n",
      "i= 3\n",
      "Hello python\n",
      "i= 4\n",
      "Hello python\n",
      "i= 5\n",
      "Hello python\n",
      "i= 6\n",
      "Hello python\n",
      "i= 7\n",
      "Hello python\n",
      "i= 8\n",
      "Hello python\n",
      "i= 9\n"
     ]
    }
   ],
   "source": [
    "## print \"hello python\" 10 times.\n",
    "for i in range(10):       ##here for loop is used and the value of i ranges from 0to 9 .\n",
    "    print(\"Hello python\") ## this print statement is executed for 10 times .\n",
    "    print(\"i=\",i)   ## here value of i changes in each loop inceasing by 1 from 0 to 9"
   ]
  },
  {
   "cell_type": "markdown",
   "metadata": {},
   "source": [
    "## for loop in list"
   ]
  },
  {
   "cell_type": "markdown",
   "metadata": {},
   "source": [
    "we can easily loop through the items of the list using the for loop "
   ]
  },
  {
   "cell_type": "code",
   "execution_count": 14,
   "metadata": {},
   "outputs": [
    {
     "name": "stdout",
     "output_type": "stream",
     "text": [
      "name=cow length=3\n",
      "name=dog length=3\n",
      "name=goat length=4\n"
     ]
    }
   ],
   "source": [
    "## counting the length of words in list \n",
    "animals=[\"cow\",\"dog\",\"goat\"]  ## here we are assigning the items in the list as animal names.\n",
    "for i in animals:  ## here the for loop iterates through the items of list. \n",
    "    print(f\"name={i} length={len(i)}\") ## len is a built-in function that counts the items returns the integer."
   ]
  },
  {
   "cell_type": "markdown",
   "metadata": {},
   "source": [
    "## use of continue in  for loop"
   ]
  },
  {
   "cell_type": "code",
   "execution_count": 15,
   "metadata": {},
   "outputs": [
    {
     "name": "stdout",
     "output_type": "stream",
     "text": [
      "Even number= 2\n",
      "Odd number= 3\n",
      "Even number= 4\n",
      "Odd number= 5\n",
      "Even number= 6\n",
      "Odd number= 7\n",
      "Even number= 8\n",
      "Odd number= 9\n",
      "Even number= 10\n"
     ]
    }
   ],
   "source": [
    "## print even and odd number from 2 to 10.\n",
    "for num in range(2, 11): ## here the loop iterates through 2 to 10 increased by 1\n",
    "    if num % 2 == 0:    ## checking if the number is even or not\n",
    "        print(\"Even number=\", num) ## if the number is even then this statement executes \n",
    "        continue       ## continue continues the loop skiping the statement from the point it is encountered. \n",
    "    print(\"Odd number=\", num) ## here if if statement is not executed then this print statement is executed "
   ]
  },
  {
   "cell_type": "markdown",
   "metadata": {},
   "source": [
    "## use of break in for loop"
   ]
  },
  {
   "cell_type": "markdown",
   "metadata": {},
   "source": [
    "search user inputted name of fruit in the list"
   ]
  },
  {
   "cell_type": "code",
   "execution_count": 18,
   "metadata": {},
   "outputs": [
    {
     "name": "stdout",
     "output_type": "stream",
     "text": [
      "enter the name of fruit:-APPLE\n",
      "apple found\n"
     ]
    }
   ],
   "source": [
    "bucket=[\"apple\",\"mango\",\"orange\"]\n",
    "name=input(\"enter the name of fruit:-\")\n",
    "for i in bucket:\n",
    "    if i==name.lower():\n",
    "        print(f\"{i} found\")  ## formatted print statement\n",
    "        break   ## break exits the loop and executes the statements outside the loop \n",
    "else:           ## this else executes when the break statement is not executed\n",
    "    print(f\"{name} not found\")  ## formatted print statement\n",
    "        "
   ]
  },
  {
   "cell_type": "markdown",
   "metadata": {},
   "source": [
    "## for loop in string"
   ]
  },
  {
   "cell_type": "code",
   "execution_count": 11,
   "metadata": {},
   "outputs": [
    {
     "name": "stdout",
     "output_type": "stream",
     "text": [
      "H-e-l-l-o- -p-y-t-h-o-n-"
     ]
    }
   ],
   "source": [
    "name = \"Hello python\" \n",
    "for element in name: ## iterates through the letters in the string\n",
    "    print(element, end='-')  ## end is built-in function to specify the ending character. "
   ]
  },
  {
   "cell_type": "markdown",
   "metadata": {},
   "source": [
    "## while statement in Python"
   ]
  },
  {
   "cell_type": "markdown",
   "metadata": {},
   "source": [
    "add the numbers from 0 to 9"
   ]
  },
  {
   "cell_type": "code",
   "execution_count": 23,
   "metadata": {},
   "outputs": [
    {
     "name": "stdout",
     "output_type": "stream",
     "text": [
      "n= 0\n",
      "n= 1\n",
      "n= 2\n",
      "n= 3\n",
      "n= 4\n",
      "n= 5\n",
      "n= 6\n",
      "n= 7\n",
      "n= 8\n",
      "n= 9\n",
      "The sum is :- 45\n"
     ]
    }
   ],
   "source": [
    "sum=0;n=0  ## initializing the values \n",
    "while (n<10): ## this continues the loop if the value of n is less than 10\n",
    "    print(\"n=\",n)\n",
    "    sum=sum+n\n",
    "    n+=1       ## increasing the value of n by 1\n",
    "print(\"The sum is :-\",sum)    "
   ]
  },
  {
   "cell_type": "markdown",
   "metadata": {},
   "source": [
    "## use of continue in while loop"
   ]
  },
  {
   "cell_type": "code",
   "execution_count": 1,
   "metadata": {},
   "outputs": [
    {
     "name": "stdout",
     "output_type": "stream",
     "text": [
      "n= 0\n",
      "n= 1\n",
      "n= 2\n",
      "n= 3\n",
      "n= 4\n",
      "n= 6\n",
      "n= 7\n",
      "n= 8\n",
      "n= 9\n"
     ]
    }
   ],
   "source": [
    "## print number from 0 to 9 without 5\n",
    "n=0 ## assaigning the value to n\n",
    "while (n<10): ## loop iterates until the value of n is less than 10\n",
    "    if n==5:\n",
    "        n+=1\n",
    "        continue ## if value of n=5 then print statement is skipped so 5 will not be printed,loop continues next iteration\n",
    "    print('n=',n) \n",
    "    n+=1\n",
    "                \n",
    "        "
   ]
  },
  {
   "cell_type": "markdown",
   "metadata": {},
   "source": [
    "## use of break  in while loop"
   ]
  },
  {
   "cell_type": "code",
   "execution_count": 2,
   "metadata": {},
   "outputs": [
    {
     "name": "stdout",
     "output_type": "stream",
     "text": [
      "n= 0\n",
      "n= 1\n",
      "n= 2\n",
      "n= 3\n",
      "n= 4\n"
     ]
    }
   ],
   "source": [
    "n=0 ## assaigning the value to n\n",
    "while (n<10): ## loop iterates until the value of n is less than 10\n",
    "    if n==5:\n",
    "        break ## if value of n=5 then the loop exits ,so numbers after 5 will not be printed\n",
    "    print(\"n=\",n)\n",
    "    n+=1"
   ]
  },
  {
   "cell_type": "markdown",
   "metadata": {},
   "source": [
    "# List Comprehension in Python"
   ]
  },
  {
   "cell_type": "raw",
   "metadata": {},
   "source": [
    "list compreshension provides a concise way to create a list.\n",
    "The syntax for list comprehension are:\n",
    "[exp for i in list]\n",
    "\n",
    "[exp for i in list if <test>]"
   ]
  },
  {
   "cell_type": "code",
   "execution_count": 12,
   "metadata": {},
   "outputs": [
    {
     "name": "stdout",
     "output_type": "stream",
     "text": [
      "ram\n",
      "hari\n",
      "krishna\n"
     ]
    }
   ],
   "source": [
    "## program without using list comprehension\n",
    "## print each item of list\n",
    "lst = ['ram','hari','krishna']\n",
    "for i in range(0,len(lst)):\n",
    "    print(lst[i])"
   ]
  },
  {
   "cell_type": "code",
   "execution_count": 16,
   "metadata": {},
   "outputs": [
    {
     "data": {
      "text/plain": [
       "['ram', 'hari', 'krishna']"
      ]
     },
     "execution_count": 16,
     "metadata": {},
     "output_type": "execute_result"
    }
   ],
   "source": [
    "## program using list comprehension\n",
    "[name for name in lst]"
   ]
  },
  {
   "cell_type": "code",
   "execution_count": 2,
   "metadata": {},
   "outputs": [
    {
     "name": "stdout",
     "output_type": "stream",
     "text": [
      "[2, 4, 8, 10]\n"
     ]
    }
   ],
   "source": [
    "## program to print the twice of number if it is positive\n",
    "\n",
    "lst1 = [1,-1,2,-3,4,5]\n",
    "\n",
    "new_lst1 = [item*2 for item in lst1 if item >= 0]\n",
    "\n",
    "print(new_lst1)"
   ]
  },
  {
   "cell_type": "markdown",
   "metadata": {},
   "source": [
    "# Dictionary Comprehension in Python"
   ]
  },
  {
   "cell_type": "code",
   "execution_count": 22,
   "metadata": {},
   "outputs": [
    {
     "name": "stdout",
     "output_type": "stream",
     "text": [
      "a 1\n",
      "b 2\n",
      "c 3\n"
     ]
    }
   ],
   "source": [
    "#Dict comprehensions are just like list comprehensions but for dictionaries\n",
    "## print each item of dictionary\n",
    "d = {'a': 1, 'b': 2, 'c': 3}\n",
    "for i,j in d.items():\n",
    "    print(i,j)"
   ]
  },
  {
   "cell_type": "code",
   "execution_count": 33,
   "metadata": {},
   "outputs": [
    {
     "data": {
      "text/plain": [
       "[('a', 1), ('b', 2), ('c', 3)]"
      ]
     },
     "execution_count": 33,
     "metadata": {},
     "output_type": "execute_result"
    }
   ],
   "source": [
    "## program using dictionary comprehension\n",
    "[i for i in d.items()]"
   ]
  },
  {
   "cell_type": "code",
   "execution_count": 89,
   "metadata": {},
   "outputs": [
    {
     "name": "stdout",
     "output_type": "stream",
     "text": [
      "{'c': 3, 'd': 4}\n"
     ]
    }
   ],
   "source": [
    "#Creating a new dictionary with only pairs where the value is larger than 2\n",
    "d = {'a': 1, 'b': 2, 'c': 3, 'd': 4}\n",
    "new_dict = {k:v for k, v in d.items() if v > 2}\n",
    "print(new_dict)"
   ]
  },
  {
   "cell_type": "markdown",
   "metadata": {},
   "source": [
    "# How enumerate() works in Python?"
   ]
  },
  {
   "cell_type": "markdown",
   "metadata": {},
   "source": [
    "The enumerate() method adds counter to an iterable and returns it. The returned object is a enumerate object."
   ]
  },
  {
   "cell_type": "code",
   "execution_count": 34,
   "metadata": {},
   "outputs": [
    {
     "name": "stdout",
     "output_type": "stream",
     "text": [
      "<enumerate object at 0x000001BD5E6C0C78>\n",
      "[(0, 'dell'), (1, 'lenovo'), (2, 'hp')]\n",
      "((10, 'dell'), (11, 'lenovo'), (12, 'hp'))\n"
     ]
    }
   ],
   "source": [
    "brands = ['dell', 'lenovo', 'hp']\n",
    "print(enumerate(brands))\n",
    "print(list(enumerate(brands))) ## here the counter starts by default from 0,list of enumerate objects are printed with counter\n",
    "print(tuple(enumerate(brands,10))) ## here the counter starts from 10 as provided,tuple of enumerate objects are printed with counter"
   ]
  },
  {
   "cell_type": "markdown",
   "metadata": {},
   "source": [
    "### Looping Over an Enumerate object"
   ]
  },
  {
   "cell_type": "code",
   "execution_count": 35,
   "metadata": {},
   "outputs": [
    {
     "name": "stdout",
     "output_type": "stream",
     "text": [
      "0 dell\n",
      "1 lenovo\n",
      "2 hp\n"
     ]
    }
   ],
   "source": [
    "for count,item in enumerate(brands):\n",
    "    print(count,item)  "
   ]
  },
  {
   "cell_type": "markdown",
   "metadata": {},
   "source": [
    "# Python Funtion"
   ]
  },
  {
   "cell_type": "markdown",
   "metadata": {},
   "source": [
    "A function is a block of organized, reusable code that is used to perform the task.<br>\n",
    "The main idea of declaring a function is to group  the common and repeated task .<br>\n",
    "Advantages of function:  \n",
    "1) The length of code can be reduced.  \n",
    "2) It can be used many times.  \n",
    "3) Reduce the duplication of code.  \n",
    "4) Sharing of code becomes esay.  \n",
    "    "
   ]
  },
  {
   "cell_type": "markdown",
   "metadata": {},
   "source": [
    "Types of function:  \n",
    "1) Built in function  \n",
    "2) User defined function  \n",
    "3) Anonymus Function (lambda function)\n"
   ]
  },
  {
   "cell_type": "markdown",
   "metadata": {},
   "source": [
    "## Built In Function"
   ]
  },
  {
   "cell_type": "markdown",
   "metadata": {},
   "source": [
    "Python has various pre defined function which we can use directly.  \n",
    "Examples of these function are print(), sum(), min(), max(),type(), etc\n"
   ]
  },
  {
   "cell_type": "code",
   "execution_count": 37,
   "metadata": {},
   "outputs": [
    {
     "name": "stdout",
     "output_type": "stream",
     "text": [
      "10\n",
      "1\n",
      "4\n",
      "<class 'list'>\n"
     ]
    }
   ],
   "source": [
    "lst=[1,2,3,4]\n",
    "print(sum(lst))\n",
    "print(min(lst))\n",
    "print(max(lst))\n",
    "print(type(lst))"
   ]
  },
  {
   "cell_type": "markdown",
   "metadata": {},
   "source": [
    "## User Defined Function "
   ]
  },
  {
   "cell_type": "markdown",
   "metadata": {},
   "source": [
    "Those function which are explictly defined by user are user defined function.  \n",
    "Function declaration begins with def keyword followed by function name and paranthesis.  "
   ]
  },
  {
   "cell_type": "code",
   "execution_count": 45,
   "metadata": {},
   "outputs": [
    {
     "name": "stdout",
     "output_type": "stream",
     "text": [
      "hi\n",
      "hi\n"
     ]
    }
   ],
   "source": [
    "## example of function \n",
    "def hello():  ## function declaration\n",
    "    return(\"hi\")    \n",
    "    ## function call\n",
    "print(hello())\n",
    "h = hello()\n",
    "print(h)"
   ]
  },
  {
   "cell_type": "code",
   "execution_count": 47,
   "metadata": {},
   "outputs": [
    {
     "name": "stdout",
     "output_type": "stream",
     "text": [
      "hi\n"
     ]
    }
   ],
   "source": [
    "## calling a function inside another function\n",
    "def main():\n",
    "    hello()\n",
    "\n",
    "def hello():\n",
    "    print(\"hi\")\n",
    "    \n",
    "if __name__ == '__main__':\n",
    "    main()    "
   ]
  },
  {
   "cell_type": "markdown",
   "metadata": {},
   "source": [
    "# Function With Arguments"
   ]
  },
  {
   "cell_type": "code",
   "execution_count": 48,
   "metadata": {},
   "outputs": [
    {
     "name": "stdout",
     "output_type": "stream",
     "text": [
      "The sum is 3\n",
      "The sum is 5\n"
     ]
    }
   ],
   "source": [
    "## program to add number\n",
    "\n",
    "def sum_num(a,b): ## the argument are local variable and has effect only on function\n",
    "    total = a+b\n",
    "    print(f\"The sum is {total}\")\n",
    "    \n",
    "sum_num(1,2)\n",
    "sum_num(2,3)"
   ]
  },
  {
   "cell_type": "code",
   "execution_count": 67,
   "metadata": {},
   "outputs": [
    {
     "name": "stdout",
     "output_type": "stream",
     "text": [
      "0\n",
      "1\n",
      "1\n",
      "2\n",
      "3\n",
      "5\n",
      "8\n"
     ]
    }
   ],
   "source": [
    "## program to print the fibonacci number \n",
    "def fibo(n):\n",
    "    a,b = 0,1\n",
    "    while a < n:\n",
    "        print(a)\n",
    "        a = a+b\n",
    "        b = a-b\n",
    "fibo(10)"
   ]
  },
  {
   "cell_type": "markdown",
   "metadata": {},
   "source": [
    "## DEFAULT ARGUMENT VALUE"
   ]
  },
  {
   "cell_type": "code",
   "execution_count": 54,
   "metadata": {},
   "outputs": [
    {
     "name": "stdout",
     "output_type": "stream",
     "text": [
      "Good Morning\n",
      "Good Morning\n",
      "Good Morning\n",
      "Good Morning\n",
      "Good night\n",
      "Good night\n",
      "Good night\n",
      "Good night\n",
      "Good\n",
      "Good\n",
      "hi\n",
      "hi\n",
      "hi\n",
      "hi\n",
      "hi\n"
     ]
    }
   ],
   "source": [
    "def message(data='Good Morning',n=4):\n",
    "    for i in range(0,n):\n",
    "        print(data)\n",
    "message()        \n",
    "message('Good night')## function calling is possible with fewer argumennt than defined\n",
    "message('Good',2)\n",
    "message(n=5,data=\"hi\")"
   ]
  },
  {
   "cell_type": "markdown",
   "metadata": {},
   "source": [
    "## Lambda Function"
   ]
  },
  {
   "cell_type": "raw",
   "metadata": {},
   "source": [
    "function which has no name is called anonymus function or lambda expression."
   ]
  },
  {
   "cell_type": "code",
   "execution_count": 77,
   "metadata": {},
   "outputs": [
    {
     "data": {
      "text/plain": [
       "15"
      ]
     },
     "execution_count": 77,
     "metadata": {},
     "output_type": "execute_result"
    }
   ],
   "source": [
    "## using lambda expression for single input\n",
    "## represent y=5x+5 in function\n",
    "g = lambda x:5*x+5\n",
    "g(2)"
   ]
  },
  {
   "cell_type": "code",
   "execution_count": 79,
   "metadata": {},
   "outputs": [],
   "source": [
    "## using lambda expression inside a function\n",
    "def fun(x):\n",
    "    return lambda a:a*x"
   ]
  },
  {
   "cell_type": "code",
   "execution_count": 80,
   "metadata": {},
   "outputs": [
    {
     "data": {
      "text/plain": [
       "10"
      ]
     },
     "execution_count": 80,
     "metadata": {},
     "output_type": "execute_result"
    }
   ],
   "source": [
    "my_fun =fun(2)\n",
    "my_fun(5)"
   ]
  },
  {
   "cell_type": "markdown",
   "metadata": {},
   "source": [
    "# Recursion In Python"
   ]
  },
  {
   "cell_type": "markdown",
   "metadata": {},
   "source": [
    "A recursive function is a function defined in terms of itself via self-referential  \n",
    "expressions. This means that the function will continue to call itself and repeat its behavior until  \n",
    "some condition is met to return a result."
   ]
  },
  {
   "cell_type": "code",
   "execution_count": 55,
   "metadata": {},
   "outputs": [],
   "source": [
    "## factorial of a number \n",
    "\n",
    "def fact(n):\n",
    "    if n == 0 | 1:\n",
    "        return 1\n",
    "    else:\n",
    "        return n*fact(n-1)"
   ]
  },
  {
   "cell_type": "code",
   "execution_count": 56,
   "metadata": {},
   "outputs": [
    {
     "data": {
      "text/plain": [
       "120"
      ]
     },
     "execution_count": 56,
     "metadata": {},
     "output_type": "execute_result"
    }
   ],
   "source": [
    "fact(5)"
   ]
  },
  {
   "cell_type": "markdown",
   "metadata": {},
   "source": [
    "## Implementation of switch in python"
   ]
  },
  {
   "cell_type": "markdown",
   "metadata": {},
   "source": [
    "if the condition provided for switch statement is true then specific case statement is executed"
   ]
  },
  {
   "cell_type": "markdown",
   "metadata": {},
   "source": [
    "we don't have switch and case keyword in python so we do it by using dictionary mappings"
   ]
  },
  {
   "cell_type": "code",
   "execution_count": 4,
   "metadata": {},
   "outputs": [],
   "source": [
    " def fruit(i): ## defining a function with name fruit and parameter as i\n",
    "        switcher={      ## defining a dictionary with with switcher\n",
    "                0:'apple',   ## assaigning key and value into the dictionary\n",
    "                1:'Mango',    ## assaigning key and value into the dictionary\n",
    "                2:'orange'    ## assaigning key and value into the dictionary\n",
    "                 }\n",
    "        return switcher.get(i,\"Invalid key\") ## returns the respective value for the user inputted key \n",
    "                                             ## if value of i does not belong to the key of dictionary then \"Invalid key\" is printed"
   ]
  },
  {
   "cell_type": "code",
   "execution_count": 5,
   "metadata": {},
   "outputs": [
    {
     "name": "stdout",
     "output_type": "stream",
     "text": [
      "orange\n"
     ]
    }
   ],
   "source": [
    "print(fruit(2)) ## calling a function by passing 2 as key value parameter, so orange is displayed."
   ]
  },
  {
   "cell_type": "markdown",
   "metadata": {},
   "source": [
    "# Python Object-Oriented Programming (OOP)"
   ]
  },
  {
   "cell_type": "markdown",
   "metadata": {},
   "source": [
    "Object-Oriented programming is a widely used concept to write powerful applications.<br>\n",
    "The concept of OOP in Python focuses on creating reusable code.<br>\n",
    "This concept is also known as DRY (Don't Repeat Yourself).<br>\n",
    "In this tutorial, you will discover the basics of object-oriented programming in Python.<br>\n",
    "OOP uses the concept of objects and classes.<br>\n",
    "These can have their own attributes (characteristics they possess), and methods (actions they perform)."
   ]
  },
  {
   "cell_type": "markdown",
   "metadata": {},
   "source": [
    "## How To Create Class In Python?"
   ]
  },
  {
   "cell_type": "code",
   "execution_count": null,
   "metadata": {},
   "outputs": [],
   "source": [
    "Classes are used to create new user-defined data structures that contain arbitrary information about something.\n"
   ]
  },
  {
   "cell_type": "code",
   "execution_count": 120,
   "metadata": {},
   "outputs": [],
   "source": [
    "class car:\n",
    "    pass"
   ]
  },
  {
   "cell_type": "markdown",
   "metadata": {},
   "source": [
    "## creating object "
   ]
  },
  {
   "cell_type": "code",
   "execution_count": 167,
   "metadata": {},
   "outputs": [
    {
     "name": "stdout",
     "output_type": "stream",
     "text": [
      "<__main__.car object at 0x000001BD5E6F26C8>\n"
     ]
    }
   ],
   "source": [
    "class car:\n",
    "    pass\n",
    "obj=car()\n",
    "print(obj)"
   ]
  },
  {
   "cell_type": "markdown",
   "metadata": {},
   "source": [
    "## creating constructor"
   ]
  },
  {
   "cell_type": "code",
   "execution_count": 168,
   "metadata": {},
   "outputs": [
    {
     "name": "stdout",
     "output_type": "stream",
     "text": [
      "constructor\n"
     ]
    }
   ],
   "source": [
    "class car:\n",
    "    def __init__(self):  ## constructor\n",
    "        print(\"constructor\")\n",
    "obj=car()        "
   ]
  },
  {
   "cell_type": "raw",
   "metadata": {},
   "source": [
    "Note:- __init__ method gets called any time we create a new object, attaching it's atrributes to the object."
   ]
  },
  {
   "cell_type": "markdown",
   "metadata": {},
   "source": [
    "## Initializing and Accessing An Object's and Class's Attributes In Python"
   ]
  },
  {
   "cell_type": "code",
   "execution_count": 160,
   "metadata": {},
   "outputs": [
    {
     "data": {
      "text/plain": [
       "False"
      ]
     },
     "execution_count": 160,
     "metadata": {},
     "output_type": "execute_result"
    }
   ],
   "source": [
    "class car:\n",
    "    \n",
    "    category= \"vehicle\"   # class's atribute\n",
    "                        \n",
    "    def __init__(self,name,price): # constructor \n",
    "        \n",
    "        self.name=name            # object's attribute\n",
    "        self.price=price\n",
    "                         \n",
    "a=car(\"ford\",20000)  ## Here,\"a\" and \"b\" are two objects of the class \"car\" having unique attributes each.\n",
    "b=car(\"volvo\",50000)\n",
    "a==b  ## this shows that these two instances of class \"car\" are not same as the output is false."
   ]
  },
  {
   "cell_type": "code",
   "execution_count": 161,
   "metadata": {},
   "outputs": [
    {
     "name": "stdout",
     "output_type": "stream",
     "text": [
      "a:-name=ford,price=20000\n",
      "b:-name=volvo,price=50000\n",
      "category=vehicle,category=vehicle\n"
     ]
    }
   ],
   "source": [
    "print(f\"a:-name={a.name},price={a.price}\") ## accessing the name and price attributes of the object \"a\"\n",
    "print(f\"b:-name={b.name},price={b.price}\") ## accessing the name and price attributes of the object \"b\"\n",
    "print(f\"category={a.category},category={b.category}\") # same for both objects"
   ]
  },
  {
   "cell_type": "markdown",
   "metadata": {},
   "source": [
    "Both a and b have same category \"vehicle\",all the other objects of this class will have category as \"vehicle\"."
   ]
  },
  {
   "cell_type": "markdown",
   "metadata": {},
   "source": [
    "## Defining Instance Methods In Class"
   ]
  },
  {
   "cell_type": "markdown",
   "metadata": {},
   "source": [
    "Instance methods are defined inside a class and are used to get the contents of an instance.\n",
    "They can also be used to perform operations with the attributes of our objects."
   ]
  },
  {
   "cell_type": "code",
   "execution_count": 162,
   "metadata": {},
   "outputs": [],
   "source": [
    "class car:\n",
    "                        \n",
    "    def __init__(self,name,price):\n",
    "        \n",
    "        self.name=name\n",
    "        self.price=price\n",
    "    \n",
    "    def describe(self): ## defining instance method of class \"car\".\n",
    "        return(f\"name={self.name}\\n   price={self.price}\") \n",
    "                         \n",
    "a=car(\"ford\",20000)  \n",
    "b=car(\"volvo\",50000)"
   ]
  },
  {
   "cell_type": "code",
   "execution_count": 163,
   "metadata": {},
   "outputs": [
    {
     "name": "stdout",
     "output_type": "stream",
     "text": [
      "a:-name=ford\n",
      "   price=20000\n",
      "b:-name=volvo\n",
      "   price=50000\n"
     ]
    }
   ],
   "source": [
    "print(f\"a:-{a.describe()}\\nb:-{b.describe()}\") ## Here,instance method describe() is called.\n",
    "                                               ## Displays the description of car with all the attributes ."
   ]
  },
  {
   "cell_type": "markdown",
   "metadata": {},
   "source": [
    "Note:- You might be wondering why we didn’t have to pass in the \"self\" argument?'.<br>\n",
    "     -> when you create a new instance of the class, \n",
    "        Python automatically determines what self is (\"car\" in this case) and passes it to the\n",
    "        __init__ method."
   ]
  },
  {
   "cell_type": "markdown",
   "metadata": {},
   "source": [
    "## Modifying Atributes Using instance Methods"
   ]
  },
  {
   "cell_type": "code",
   "execution_count": 164,
   "metadata": {},
   "outputs": [],
   "source": [
    "class car:  \n",
    "                        \n",
    "    def __init__(self,name,price):\n",
    "        \n",
    "        self.name=name\n",
    "        self.price=price\n",
    "    \n",
    "    def describe(self): ## defining instance method of class \"car\".\n",
    "        return(f\"name={self.name}\\n   price={self.price}\") \n",
    "    \n",
    "    def discount(self,value): ## defining method in class \"car\" to change the \"price\" attribute.\n",
    "        self.price-=value\n",
    "                                  \n",
    "a=car(\"ford\",20000)  \n",
    "b=car(\"volvo\",50000)"
   ]
  },
  {
   "cell_type": "code",
   "execution_count": 165,
   "metadata": {},
   "outputs": [
    {
     "name": "stdout",
     "output_type": "stream",
     "text": [
      "a:-name=ford\n",
      "   price=15000\n",
      "b:-name=volvo\n",
      "   price=47000\n"
     ]
    }
   ],
   "source": [
    "a.discount(5000) ## calling discount() method for object \"a\" ,passing \"value\" as 5000\n",
    "b.discount(3000) ## calling discount() method for object \"b\" ,passing \"value\" as 3000\n",
    "print(f\"a:-{a.describe()}\\nb:-{b.describe()}\")"
   ]
  },
  {
   "cell_type": "markdown",
   "metadata": {},
   "source": [
    "## Python Object Inheritance"
   ]
  },
  {
   "cell_type": "markdown",
   "metadata": {},
   "source": [
    "Inheritance is the process by which one class takes the attributes and methods from another class.<br>\n",
    "Newly formed classes are called child classes, and the classes that child classes are derived from are called parent classes.<br>\n",
    "child classes inherit all of the parent’s attributes and behaviors but <br>\n",
    "child classes can also specify different behavior to follow."
   ]
  },
  {
   "cell_type": "code",
   "execution_count": 169,
   "metadata": {},
   "outputs": [
    {
     "name": "stdout",
     "output_type": "stream",
     "text": [
      "in class A\n",
      "in class B\n"
     ]
    }
   ],
   "source": [
    "#simple inheritance\n",
    "class A:              # parent class\n",
    "    def show(self):    \n",
    "        print(\"in class A\")\n",
    "class B(A):           # child class\n",
    "    def view(self):\n",
    "        print(\"in class B\")\n",
    "obj=B()             # object of child class B\n",
    "obj.show()          #accessing method of class A\n",
    "obj.view()          #accessing method of class B"
   ]
  },
  {
   "cell_type": "code",
   "execution_count": 170,
   "metadata": {},
   "outputs": [
    {
     "name": "stdout",
     "output_type": "stream",
     "text": [
      "in class A\n"
     ]
    }
   ],
   "source": [
    "# multilevel inheritance\n",
    "class A:\n",
    "    def a(self):\n",
    "        print(\"in class A\")\n",
    "class B(A):\n",
    "    pass\n",
    "class C(B):\n",
    "    pass\n",
    "obj=C()    # object of class C\n",
    "obj.a()    #accessing method of class A"
   ]
  },
  {
   "cell_type": "code",
   "execution_count": 171,
   "metadata": {},
   "outputs": [
    {
     "name": "stdout",
     "output_type": "stream",
     "text": [
      "in class A\n",
      "in class B\n"
     ]
    }
   ],
   "source": [
    "# multiple inheritance\n",
    "class A:        #parent class\n",
    "    def a(self):\n",
    "        print(\"in class A\")\n",
    "class B:        #parent class\n",
    "    def b(self):\n",
    "        print(\"in class B\")\n",
    "class C(A,B):    #child class\n",
    "    def c(self):\n",
    "        print(\"in class C\")  \n",
    "obj=C()      # object of class C\n",
    "obj.a()       #accessing method of class A\n",
    "obj.b()        #accessing method of class B"
   ]
  },
  {
   "cell_type": "markdown",
   "metadata": {},
   "source": [
    "## Using isinstance() Function"
   ]
  },
  {
   "cell_type": "markdown",
   "metadata": {},
   "source": [
    "This function determines if an object is the instance of any class. "
   ]
  },
  {
   "cell_type": "code",
   "execution_count": null,
   "metadata": {},
   "outputs": [],
   "source": [
    "isinstance(object,class) ## if the object is of the provided class then it returns true else false ."
   ]
  },
  {
   "cell_type": "code",
   "execution_count": 172,
   "metadata": {},
   "outputs": [],
   "source": [
    "class A:\n",
    "    pass\n",
    "class B:\n",
    "    pass\n",
    "obj1=A()\n",
    "obj2=B()"
   ]
  },
  {
   "cell_type": "code",
   "execution_count": 173,
   "metadata": {},
   "outputs": [
    {
     "name": "stdout",
     "output_type": "stream",
     "text": [
      "True\n",
      "True\n"
     ]
    }
   ],
   "source": [
    "print(isinstance(obj1,A)) ## obj1 is the instance of A\n",
    "print(isinstance(obj2,B)) ## obj2 is the instance of B"
   ]
  },
  {
   "cell_type": "markdown",
   "metadata": {},
   "source": [
    "##  Data Encapsulation in Python"
   ]
  },
  {
   "cell_type": "markdown",
   "metadata": {},
   "source": [
    "In OOP in python, we can restrict the access to methods and variables of the class.<br>\n",
    "This prevents the data from the modification.<br>\n",
    "we denote private attribute using underscore as prefix i.e double “ __“."
   ]
  },
  {
   "cell_type": "code",
   "execution_count": 174,
   "metadata": {},
   "outputs": [
    {
     "name": "stdout",
     "output_type": "stream",
     "text": [
      "name=ferrari\n",
      "price=20000\n"
     ]
    }
   ],
   "source": [
    "class car:\n",
    "    \n",
    "    def __init__(self,name,price):\n",
    "        self.name=name\n",
    "        self.__price=price\n",
    "        \n",
    "    def discount(self,price):\n",
    "        self.__price-=price\n",
    "        \n",
    "    def describe(self): \n",
    "        return(f\"name={self.name}\\nprice={self.__price}\")\n",
    "a=car(\"ferrari\",20000)\n",
    "print(a.describe())"
   ]
  },
  {
   "cell_type": "code",
   "execution_count": 175,
   "metadata": {},
   "outputs": [
    {
     "name": "stdout",
     "output_type": "stream",
     "text": [
      "name=ferrari\n",
      "price=20000\n"
     ]
    }
   ],
   "source": [
    "# unable to change the price as it is private attribute. \n",
    "a.__price=400\n",
    "print(a.describe())"
   ]
  },
  {
   "cell_type": "code",
   "execution_count": 176,
   "metadata": {},
   "outputs": [
    {
     "name": "stdout",
     "output_type": "stream",
     "text": [
      "name=ferrari\n",
      "price=19200\n"
     ]
    }
   ],
   "source": [
    "# changing price using function\n",
    "a.discount(800)\n",
    "print(a.describe())"
   ]
  },
  {
   "cell_type": "markdown",
   "metadata": {},
   "source": [
    "## Polymorphism in Python"
   ]
  },
  {
   "cell_type": "markdown",
   "metadata": {},
   "source": [
    "In OOP ,using polymorphism we can have many forms of methods and attributes<br>\n",
    "of one class in another class."
   ]
  },
  {
   "cell_type": "markdown",
   "metadata": {},
   "source": [
    "## Function Overriding In Class"
   ]
  },
  {
   "cell_type": "markdown",
   "metadata": {},
   "source": [
    "Function overriding is the process of using the same methods,attributes and behaviours of the parent class \n",
    "into the child class and modifying it."
   ]
  },
  {
   "cell_type": "code",
   "execution_count": 139,
   "metadata": {},
   "outputs": [],
   "source": [
    "class car: ## parent class\n",
    "    \n",
    "    def category(self): \n",
    "        print(\"vehicle\")  ## method of parent class\n",
    "\n",
    "class f_car(car):  ## child class \"f_car\" inherited from parent class \"car\".                                                                                           ## in child class\n",
    "     def category(self):\n",
    "        print(\"not defined\")  ## category of \"car\" is overriden by \"f_car\" and modified.                             \n",
    "a=car()\n",
    "b=f_car()"
   ]
  },
  {
   "cell_type": "code",
   "execution_count": 141,
   "metadata": {},
   "outputs": [
    {
     "name": "stdout",
     "output_type": "stream",
     "text": [
      "vehicle\n",
      "not defined\n"
     ]
    }
   ],
   "source": [
    "a.category() \n",
    "b.category() "
   ]
  },
  {
   "cell_type": "markdown",
   "metadata": {},
   "source": [
    "## Function Overloading In Class"
   ]
  },
  {
   "cell_type": "code",
   "execution_count": 158,
   "metadata": {},
   "outputs": [],
   "source": [
    "class car:\n",
    "    \n",
    "    def __init__(self,name,price):\n",
    "            self.name=name      \n",
    "            self.price=price\n",
    "            \n",
    "    def discount(self,value=None): ## overloading a function by setting other parameter as none except self. \n",
    "        if value!=None:\n",
    "            self.price-=value     \n",
    "            return(f\"name={self.name}\\n   price={self.price}\")\n",
    "        else:\n",
    "            return(f\"name={self.name}\\n   price={self.price}\")\n",
    "        \n",
    "    \n",
    "a=car(\"ferrari\",20000) "
   ]
  },
  {
   "cell_type": "code",
   "execution_count": 159,
   "metadata": {},
   "outputs": [
    {
     "name": "stdout",
     "output_type": "stream",
     "text": [
      "name=ferrari\n",
      "   price=20000\n",
      "name=ferrari\n",
      "   price=19800\n"
     ]
    }
   ],
   "source": [
    "print(a.discount())\n",
    "print(a.discount(200))"
   ]
  },
  {
   "cell_type": "markdown",
   "metadata": {},
   "source": [
    "# File Handling In Python"
   ]
  },
  {
   "cell_type": "markdown",
   "metadata": {},
   "source": [
    "Python language allows us to create,read and write to the files by using in-built function.\n",
    "Our programs need to read the information from the external files when we have to work with large ammount of information because it will not be practically convenient to ask user to input such a large ammount of information.\n"
   ]
  },
  {
   "cell_type": "markdown",
   "metadata": {},
   "source": [
    "## File Modes"
   ]
  },
  {
   "cell_type": "markdown",
   "metadata": {},
   "source": [
    "'r'-> This is the default mode. It Opens file for reading.<br>\n",
    "'w'-> This Mode Opens file for writing.<br>\n",
    "      If file does not exist, it creates a new file.<br>\n",
    "      If file exists it truncates the file.<br>\n",
    "'x'-> Creates a new file. If file already exists, the operation fails.<br>\n",
    "'a'-> Open file in append mode.<br>\n",
    "      If file does not exist, it creates a new file.<br>\n",
    "'t'-> This is the default mode. It opens in text mode.<br>\n",
    "'b'-> This opens in binary mode.<br>\n",
    "'+'-> This will open a file for reading and writing (updating)<br>"
   ]
  },
  {
   "cell_type": "markdown",
   "metadata": {},
   "source": [
    "## Creating A Text File Using Python"
   ]
  },
  {
   "cell_type": "code",
   "execution_count": 64,
   "metadata": {},
   "outputs": [
    {
     "name": "stdin",
     "output_type": "stream",
     "text": [
      "Enter the file name?:- shuvam\n"
     ]
    }
   ],
   "source": [
    "filename=input(\"Enter the file name?:-\") ## asking user to input the file name\n",
    "f= open(f\"{filename}.txt\",\"w+\") ## open keyword is used to open the files in different modes ,\n",
    "                                "
   ]
  },
  {
   "cell_type": "markdown",
   "metadata": {},
   "source": [
    "## Writing Into The Text File Using Python"
   ]
  },
  {
   "cell_type": "code",
   "execution_count": 65,
   "metadata": {},
   "outputs": [
    {
     "data": {
      "text/plain": [
       "12"
      ]
     },
     "execution_count": 65,
     "metadata": {},
     "output_type": "execute_result"
    }
   ],
   "source": [
    "f.write(\"hello python\") ## writting into the text file"
   ]
  },
  {
   "cell_type": "markdown",
   "metadata": {},
   "source": [
    "## Closing A Text File"
   ]
  },
  {
   "cell_type": "code",
   "execution_count": 66,
   "metadata": {},
   "outputs": [],
   "source": [
    "f.close() ## closing the text file"
   ]
  },
  {
   "cell_type": "code",
   "execution_count": 67,
   "metadata": {},
   "outputs": [
    {
     "name": "stdin",
     "output_type": "stream",
     "text": [
      "Enter the file name?:- shuvam\n"
     ]
    }
   ],
   "source": [
    "filename=input(\"Enter the file name?:-\") ## asking user to input the file name\n",
    "                                         ## open keyword is used to open the files in different modes ,\n",
    "f= open(f\"{filename}.txt\",\"w+\") ## opening the file in writing and reading mode using \"w+\"\n",
    "                               \n",
    "f.write(\"hello python\")\n",
    "f.close()"
   ]
  },
  {
   "cell_type": "markdown",
   "metadata": {},
   "source": [
    "## Opening And Reading Text File"
   ]
  },
  {
   "cell_type": "code",
   "execution_count": 68,
   "metadata": {},
   "outputs": [
    {
     "name": "stdin",
     "output_type": "stream",
     "text": [
      "Enter the file name?:- shuvam\n"
     ]
    },
    {
     "name": "stdout",
     "output_type": "stream",
     "text": [
      "hello python\n"
     ]
    }
   ],
   "source": [
    "filename=input(\"Enter the file name?:-\") ## asking user to input the file name\n",
    "f= open(f\"{filename}.txt\",\"r\") ## opening file in reading mode using \"r\"\n",
    "content=f.read() ## rerading the text of file and assaigning to content variable\n",
    "print(content) ## printing the content variable"
   ]
  },
  {
   "cell_type": "markdown",
   "metadata": {},
   "source": [
    "## Writing Multiple Lines Into Text File And Reading Each Line "
   ]
  },
  {
   "cell_type": "code",
   "execution_count": 70,
   "metadata": {},
   "outputs": [
    {
     "name": "stdin",
     "output_type": "stream",
     "text": [
      "Enter the filename?:- shuvam\n"
     ]
    }
   ],
   "source": [
    "## writing multiple lines to the  text file\n",
    "filename=input(\"Enter the filename?:-\")\n",
    "f= open(f\"{filename}.txt\",\"w+\")\n",
    "for i in range(10):  \n",
    "    f.write(f\"we are on line {i+1} \\n\")\n",
    "f.close()    "
   ]
  },
  {
   "cell_type": "markdown",
   "metadata": {},
   "source": [
    "## Reading Eachline Of Text File"
   ]
  },
  {
   "cell_type": "code",
   "execution_count": 72,
   "metadata": {},
   "outputs": [
    {
     "name": "stdin",
     "output_type": "stream",
     "text": [
      "Enter the filename?:- shuvam\n"
     ]
    },
    {
     "name": "stdout",
     "output_type": "stream",
     "text": [
      "we are on line 1 \n",
      "\n",
      "we are on line 2 \n",
      "\n"
     ]
    }
   ],
   "source": [
    "filename=input(\"Enter the filename?:-\")\n",
    "f= open(f\"{filename}.txt\",\"r\")\n",
    "line1=f.readline() ## readline keyword reads text in a line and jumps the cursor to the next line\n",
    "line2=f.readline() \n",
    "print(f\"{line1}\\n{line2}\")\n",
    "f.close()    "
   ]
  },
  {
   "cell_type": "markdown",
   "metadata": {},
   "source": [
    "## Using For Loop To Read Text Files"
   ]
  },
  {
   "cell_type": "code",
   "execution_count": 73,
   "metadata": {},
   "outputs": [
    {
     "name": "stdin",
     "output_type": "stream",
     "text": [
      "Enter the filename?:- shuvam\n"
     ]
    },
    {
     "name": "stdout",
     "output_type": "stream",
     "text": [
      "we are on line 1 \n",
      "we are on line 2 \n",
      "we are on line 3 \n",
      "we are on line 4 \n",
      "we are on line 5 \n",
      "we are on line 6 \n",
      "we are on line 7 \n",
      "we are on line 8 \n",
      "we are on line 9 \n",
      "we are on line 10 \n"
     ]
    }
   ],
   "source": [
    "## reading all the lines of the text file using for loop\n",
    "filename=input(\"Enter the filename?:-\")\n",
    "f= open(f\"{filename}.txt\",\"r\")\n",
    "for line in f:\n",
    "    print(line,end='')\n",
    "f.close()    "
   ]
  },
  {
   "cell_type": "markdown",
   "metadata": {},
   "source": [
    "## Appending Data To Text File"
   ]
  },
  {
   "cell_type": "code",
   "execution_count": 74,
   "metadata": {},
   "outputs": [
    {
     "name": "stdin",
     "output_type": "stream",
     "text": [
      "Enter the filename?:- shuvam\n"
     ]
    }
   ],
   "source": [
    "filename=input(\"Enter the filename?:-\")\n",
    "f= open(f\"{filename}.txt\",\"a+\") ## a indicates append mode and + indicates creating the new file if it doesn't exist.\n",
    "f.write(\"This is appended text\")\n",
    "f.close()"
   ]
  },
  {
   "cell_type": "markdown",
   "metadata": {},
   "source": [
    "# Automate File Creation and Deletion "
   ]
  },
  {
   "cell_type": "code",
   "execution_count": 117,
   "metadata": {},
   "outputs": [],
   "source": [
    "for i in range(100):\n",
    "    f=open(f\"student{i}.txt\",\"w+\")\n",
    "    f.write(f\"roll no:-{i}\")\n",
    "    f.close()"
   ]
  },
  {
   "cell_type": "code",
   "execution_count": 118,
   "metadata": {},
   "outputs": [],
   "source": [
    "import os\n",
    "for i in range(100):\n",
    "    if os.path.exists(f\"student{i}.txt\"):\n",
    "        os.remove(f\"student{i}.txt\")\n",
    "    else:\n",
    "        print(\"unable to delete file.\")"
   ]
  },
  {
   "cell_type": "markdown",
   "metadata": {},
   "source": [
    "# HOMEWORK DESCRIPTION"
   ]
  },
  {
   "cell_type": "markdown",
   "metadata": {},
   "source": [
    "# Calculator In Command Line Interface"
   ]
  },
  {
   "cell_type": "markdown",
   "metadata": {},
   "source": [
    "This is a calculator in the command line interface.<br>\n",
    "Here we don't get any sort of buttons or icons everything will be in command lines"
   ]
  },
  {
   "cell_type": "code",
   "execution_count": 3,
   "metadata": {},
   "outputs": [
    {
     "name": "stdout",
     "output_type": "stream",
     "text": [
      "WELCOME TO THE CALCULATING WORLD \n"
     ]
    },
    {
     "name": "stdin",
     "output_type": "stream",
     "text": [
      "Enter the number?:- 100\n",
      "Enter the operator?:- /\n",
      "Enter the number?:- 5\n"
     ]
    },
    {
     "name": "stdout",
     "output_type": "stream",
     "text": [
      "100 / 5 = 20.0\n"
     ]
    },
    {
     "name": "stdin",
     "output_type": "stream",
     "text": [
      "Do you have more numbers left (y/n)?:- y\n",
      "Enter the operator?:- *\n",
      "Enter the number?:- 40\n"
     ]
    },
    {
     "name": "stdout",
     "output_type": "stream",
     "text": [
      "20.0 * 40 = 800.0\n"
     ]
    },
    {
     "name": "stdin",
     "output_type": "stream",
     "text": [
      "Do you have more numbers left (y/n)?:- y\n",
      "Enter the operator?:- -\n",
      "Enter the number?:- 700\n"
     ]
    },
    {
     "name": "stdout",
     "output_type": "stream",
     "text": [
      "800.0 - 700 = 100.0\n"
     ]
    },
    {
     "name": "stdin",
     "output_type": "stream",
     "text": [
      "Do you have more numbers left (y/n)?:- y\n",
      "Enter the operator?:- +50\n",
      "Enter the number?:- 6\n"
     ]
    },
    {
     "name": "stdout",
     "output_type": "stream",
     "text": [
      "Enter the correct operator\n"
     ]
    },
    {
     "name": "stdin",
     "output_type": "stream",
     "text": [
      "Enter the operator?:- +\n",
      "Enter the number?:- 6\n"
     ]
    },
    {
     "name": "stdout",
     "output_type": "stream",
     "text": [
      "100.0 + 6 = 106.0\n"
     ]
    },
    {
     "name": "stdin",
     "output_type": "stream",
     "text": [
      "Do you have more numbers left (y/n)?:- n\n"
     ]
    },
    {
     "name": "stdout",
     "output_type": "stream",
     "text": [
      "Result is :-106.0\n"
     ]
    }
   ],
   "source": [
    "print(\"WELCOME TO THE CALCULATING WORLD \")\n",
    "\n",
    "def main():\n",
    "    num1=int(input(\"Enter the number?:-\"))\n",
    "    choice=\"y\"\n",
    "    while (choice.lower()==\"y\"):\n",
    "        op=input(\"Enter the operator?:-\")\n",
    "        num2=int(input(\"Enter the number?:-\"))\n",
    "        operator={\"+\":add(num1,num2),\"-\":sub(num1,num2),\"*\":mul(num1,num2),\"/\":div(num1,num2)}\n",
    "        p=list(operator.keys())\n",
    "        if op in p:\n",
    "            num=operator[op]\n",
    "            print(f\"{num1} {op} {num2} = {num}\")\n",
    "            num1=num\n",
    "            choice=input(\"Do you have more numbers left (y/n)?:-\")\n",
    "            if choice.lower()==\"n\":\n",
    "                print(f\"Result is :-{num1}\")\n",
    "        else:\n",
    "            print(\"Enter the correct operator\")\n",
    "\n",
    "def add(n1,n2):\n",
    "    return n1+n2\n",
    "def sub(n1,n2):\n",
    "    return n1-n2\n",
    "def mul(n1,n2):\n",
    "    return n1*n2\n",
    "def div(n1,n2):\n",
    "    return n1/n2\n",
    "\n",
    "main()"
   ]
  },
  {
   "cell_type": "markdown",
   "metadata": {},
   "source": [
    "# Hangman Game"
   ]
  },
  {
   "cell_type": "markdown",
   "metadata": {},
   "source": [
    "Hangman is a classic word game in which you must guess as many secret words as you can before moves run out!\n",
    "Here we are creating command line interface of this game.We will discuss about it's graphical user interface\n",
    "later."
   ]
  },
  {
   "cell_type": "code",
   "execution_count": 3,
   "metadata": {},
   "outputs": [
    {
     "name": "stdout",
     "output_type": "stream",
     "text": [
      "Welcome to Hangman!\n",
      "\n",
      "-----\n",
      "|   |\n",
      "|\n",
      "|\n",
      "|\n",
      "|\n",
      "|\n",
      "|\n",
      "|\n",
      "--------\n",
      "\n",
      "\n",
      "You have 6 attempts remaining\n",
      "-------\n"
     ]
    },
    {
     "name": "stdin",
     "output_type": "stream",
     "text": [
      "\n",
      "Please select a letter between A-Z\n",
      ">  l\n"
     ]
    },
    {
     "name": "stdout",
     "output_type": "stream",
     "text": [
      "\n",
      "-----\n",
      "|   |\n",
      "|   0\n",
      "|\n",
      "|\n",
      "|\n",
      "|\n",
      "|\n",
      "|\n",
      "--------\n",
      "\n",
      "\n",
      "You have 5 attempts remaining\n",
      "-------\n"
     ]
    },
    {
     "name": "stdin",
     "output_type": "stream",
     "text": [
      "\n",
      "Please select a letter between A-Z\n",
      ">  e\n"
     ]
    },
    {
     "name": "stdout",
     "output_type": "stream",
     "text": [
      "\n",
      "You have 5 attempts remaining\n",
      "-e-e--e\n"
     ]
    },
    {
     "name": "stdin",
     "output_type": "stream",
     "text": [
      "\n",
      "Please select a letter between A-Z\n",
      ">  o\n"
     ]
    },
    {
     "name": "stdout",
     "output_type": "stream",
     "text": [
      "\n",
      "-----\n",
      "|   |\n",
      "|   0\n",
      "|  -+-\n",
      "|\n",
      "|\n",
      "|\n",
      "|\n",
      "|\n",
      "--------\n",
      "\n",
      "\n",
      "You have 4 attempts remaining\n",
      "-e-e--e\n"
     ]
    },
    {
     "name": "stdin",
     "output_type": "stream",
     "text": [
      "\n",
      "Please select a letter between A-Z\n",
      ">  p\n"
     ]
    },
    {
     "name": "stdout",
     "output_type": "stream",
     "text": [
      "\n",
      "-----\n",
      "|   |\n",
      "|   0\n",
      "| /-+-\n",
      "|\n",
      "|\n",
      "|\n",
      "|\n",
      "|\n",
      "--------\n",
      "\n",
      "\n",
      "You have 3 attempts remaining\n",
      "-e-e--e\n"
     ]
    },
    {
     "name": "stdin",
     "output_type": "stream",
     "text": [
      "\n",
      "Please select a letter between A-Z\n",
      ">  a\n"
     ]
    },
    {
     "name": "stdout",
     "output_type": "stream",
     "text": [
      "\n",
      "-----\n",
      "|   |\n",
      "|   0\n",
      "| /-+-\\ \n",
      "|\n",
      "|\n",
      "|\n",
      "|\n",
      "|\n",
      "--------\n",
      "\n",
      "\n",
      "You have 2 attempts remaining\n",
      "-e-e--e\n"
     ]
    },
    {
     "name": "stdin",
     "output_type": "stream",
     "text": [
      "\n",
      "Please select a letter between A-Z\n",
      ">  r\n"
     ]
    },
    {
     "name": "stdout",
     "output_type": "stream",
     "text": [
      "\n",
      "You have 2 attempts remaining\n",
      "re-er-e\n"
     ]
    },
    {
     "name": "stdin",
     "output_type": "stream",
     "text": [
      "\n",
      "Please select a letter between A-Z\n",
      ">  d\n"
     ]
    },
    {
     "name": "stdout",
     "output_type": "stream",
     "text": [
      "\n",
      "-----\n",
      "|   |\n",
      "|   0\n",
      "| /-+-\\ \n",
      "|   | \n",
      "|\n",
      "|\n",
      "|\n",
      "|\n",
      "--------\n",
      "\n",
      "\n",
      "You have 1 attempts remaining\n",
      "re-er-e\n"
     ]
    },
    {
     "name": "stdin",
     "output_type": "stream",
     "text": [
      "\n",
      "Please select a letter between A-Z\n",
      ">  g\n"
     ]
    },
    {
     "name": "stdout",
     "output_type": "stream",
     "text": [
      "\n",
      "-----\n",
      "|   |\n",
      "|   0\n",
      "| /-+-\\ \n",
      "|   | \n",
      "|   | \n",
      "|\n",
      "|\n",
      "|\n",
      "--------\n",
      "\n",
      "\n",
      "Sorry! The word was reverse.\n",
      "\n",
      "Would you like to play again?\n"
     ]
    },
    {
     "name": "stdin",
     "output_type": "stream",
     "text": [
      ">  d\n"
     ]
    }
   ],
   "source": [
    "import random\n",
    "\n",
    "def main():\n",
    "    word='Welcome to Hangman Game!'\n",
    "    print(word,sep='\\n')\n",
    "\n",
    "    # setting up the play_again loop\n",
    "\n",
    "    play_again = True\n",
    "\n",
    "    while play_again:\n",
    "        # set up the game loop\n",
    "\n",
    "        words = [\"Hello\", \"Python\", \"Workshop\", \"Function\", \"Variable\",\n",
    "                 \"Programming\", \"Prize\", \"Loop\", \"Output\", \"Input\",\n",
    "                 \"String\", \"Reverse\", \"Palindrome\", \"Structures\", \"\",\n",
    "                 \"Dictionary\", \"Exception\", \"Inheritance\", \"Object\", \"Precedence\"\n",
    "                 ]\n",
    "\n",
    "        chosen_word = random.choice(words).lower()\n",
    "        player_guess = None # for hold the players guess\n",
    "        guessed_letters = [] # list of guessed letters\n",
    "        word_guessed = []\n",
    "        for letter in chosen_word:\n",
    "            word_guessed.append(\"-\") # create an unguessed, blank version of the word\n",
    "        joined_word = None # joins the words in the list word_guessed\n",
    "        picture = (\n",
    "\"\"\"\n",
    "-----\n",
    "|   |\n",
    "|\n",
    "|\n",
    "|\n",
    "|\n",
    "|\n",
    "|\n",
    "|\n",
    "--------\n",
    "\"\"\",\n",
    "\"\"\"\n",
    "-----\n",
    "|   |\n",
    "|   0\n",
    "|\n",
    "|\n",
    "|\n",
    "|\n",
    "|\n",
    "|\n",
    "--------\n",
    "\"\"\",\n",
    "\"\"\"\n",
    "-----\n",
    "|   |\n",
    "|   0\n",
    "|  -+-\n",
    "|\n",
    "|\n",
    "|\n",
    "|\n",
    "|\n",
    "--------\n",
    "\"\"\",\n",
    "\"\"\"\n",
    "-----\n",
    "|   |\n",
    "|   0\n",
    "| /-+-\n",
    "|\n",
    "|\n",
    "|\n",
    "|\n",
    "|\n",
    "--------\n",
    "\"\"\",\n",
    "\"\"\"\n",
    "-----\n",
    "|   |\n",
    "|   0\n",
    "| /-+-\\ \n",
    "|\n",
    "|\n",
    "|\n",
    "|\n",
    "|\n",
    "--------\n",
    "\"\"\",\n",
    "\"\"\"\n",
    "-----\n",
    "|   |\n",
    "|   0\n",
    "| /-+-\\ \n",
    "|   | \n",
    "|\n",
    "|\n",
    "|\n",
    "|\n",
    "--------\n",
    "\"\"\",\n",
    "\"\"\"\n",
    "-----\n",
    "|   |\n",
    "|   0\n",
    "| /-+-\\ \n",
    "|   | \n",
    "|   | \n",
    "|\n",
    "|\n",
    "|\n",
    "--------\n",
    "\"\"\"\n",
    ")\n",
    "\n",
    "        print(picture[0])\n",
    "        attempts = len(picture) - 1\n",
    "\n",
    "\n",
    "        while (attempts != 0 and \"-\" in word_guessed):\n",
    "            print((\"\\nYou have {} attempts remaining\").format(attempts))\n",
    "            joined_word = \"\".join(word_guessed)\n",
    "            print(joined_word)\n",
    "         ## exception handling\n",
    "            try:\n",
    "                player_guess = str(input(\"\\nPlease select a letter between A-Z\" + \"\\n> \")).lower()\n",
    "            except: # check valid input\n",
    "                print(\"That is not valid input. Please try again.\")\n",
    "                continue                \n",
    "            else: \n",
    "                if not player_guess.isalpha(): # checks if the input is a letter. Also checks an input has been made.\n",
    "                    print(\"That is not a letter. Please try again.\")\n",
    "                    continue\n",
    "                elif len(player_guess) > 1: # checks if  the input is only one letter\n",
    "                    print(\"That is more than one letter. Please try again.\")\n",
    "                    continue\n",
    "                elif player_guess in guessed_letters: # check it letter hasn't been guessed already\n",
    "                    print(\"You have already guessed that letter. Please try again.\")\n",
    "                    continue\n",
    "                else:\n",
    "                    pass\n",
    "\n",
    "            guessed_letters.append(player_guess)\n",
    "\n",
    "            for letter in range(len(chosen_word)):\n",
    "                if player_guess == chosen_word[letter]:\n",
    "                    word_guessed[letter] = player_guess # replaces all letters in the chosen word that match the players guess\n",
    "\n",
    "            if player_guess not in chosen_word:\n",
    "                attempts -= 1\n",
    "                print(picture[(len(picture) - 1) - attempts])\n",
    "\n",
    "        if \"-\" not in word_guessed: # no blanks remaining\n",
    "            print((\"\\nCongratulations! you guessed the word {}\").format(chosen_word))\n",
    "        else: # loop must have ended because attempts reached 0\n",
    "            print((\"\\nSorry! The word was {}.\").format(chosen_word))\n",
    "\n",
    "        print(\"\\nWould you like to play again?\")\n",
    "\n",
    "        response = input(\"> \").lower()\n",
    "        if response not in (\"yes\", \"y\"):\n",
    "            play_again = False\n",
    "\n",
    "if __name__ == \"__main__\":\n",
    "    main()\n"
   ]
  },
  {
   "cell_type": "code",
   "execution_count": null,
   "metadata": {},
   "outputs": [],
   "source": []
  }
 ],
 "metadata": {
  "kernelspec": {
   "display_name": "Python 3",
   "language": "python",
   "name": "python3"
  },
  "language_info": {
   "codemirror_mode": {
    "name": "ipython",
    "version": 3
   },
   "file_extension": ".py",
   "mimetype": "text/x-python",
   "name": "python",
   "nbconvert_exporter": "python",
   "pygments_lexer": "ipython3",
   "version": "3.7.4"
  }
 },
 "nbformat": 4,
 "nbformat_minor": 4
}
